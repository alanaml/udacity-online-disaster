{
 "cells": [
  {
   "cell_type": "markdown",
   "metadata": {},
   "source": [
    "# ML Pipeline Preparation\n",
    "Follow the instructions below to help you create your ML pipeline.\n",
    "### 1. Import libraries and load data from database.\n",
    "- Import Python libraries\n",
    "- Load dataset from database with [`read_sql_table`](https://pandas.pydata.org/pandas-docs/stable/generated/pandas.read_sql_table.html)\n",
    "- Define feature and target variables X and Y"
   ]
  },
  {
   "cell_type": "code",
   "execution_count": 5,
   "metadata": {},
   "outputs": [
    {
     "name": "stdout",
     "output_type": "stream",
     "text": [
      "[nltk_data] Downloading package stopwords to /root/nltk_data...\n",
      "[nltk_data]   Package stopwords is already up-to-date!\n",
      "[nltk_data] Downloading package punkt to /root/nltk_data...\n",
      "[nltk_data]   Package punkt is already up-to-date!\n",
      "[nltk_data] Downloading package wordnet to /root/nltk_data...\n",
      "[nltk_data]   Package wordnet is already up-to-date!\n"
     ]
    }
   ],
   "source": [
    "# import libraries\n",
    "import pandas as pd\n",
    "import numpy as np\n",
    "from sqlalchemy import create_engine\n",
    "import re\n",
    "import os\n",
    "import pickle\n",
    "\n",
    "import nltk\n",
    "nltk.download('stopwords')\n",
    "nltk.download(['punkt', 'wordnet'])\n",
    "from nltk.tokenize import word_tokenize\n",
    "from nltk.tokenize import sent_tokenize\n",
    "from nltk.corpus import stopwords\n",
    "from nltk.stem import WordNetLemmatizer\n",
    "\n",
    "from sklearn.multioutput import MultiOutputClassifier\n",
    "from sklearn.ensemble import AdaBoostClassifier\n",
    "from sklearn.model_selection import train_test_split\n",
    "from sklearn.pipeline import Pipeline, FeatureUnion\n",
    "from sklearn.feature_extraction.text import CountVectorizer, TfidfTransformer\n",
    "from sklearn.ensemble import RandomForestClassifier\n",
    "from sklearn.datasets import make_multilabel_classification\n",
    "from sklearn.metrics import classification_report\n",
    "from sklearn.metrics import confusion_matrix\n",
    "from sklearn.model_selection import GridSearchCV\n",
    "from sklearn.base import BaseEstimator, TransformerMixin\n",
    "from sklearn.svm import SVC\n",
    "\n",
    "from copy import deepcopy\n",
    "\n",
    "url_regex = 'http[s]?://(?:[a-zA-Z]|[0-9]|[$-_@.&+]|[!*\\(\\),]|(?:%[0-9a-fA-F][0-9a-fA-F]))+'"
   ]
  },
  {
   "cell_type": "code",
   "execution_count": 6,
   "metadata": {},
   "outputs": [
    {
     "name": "stdout",
     "output_type": "stream",
     "text": [
      "/home/workspace\n"
     ]
    }
   ],
   "source": [
    "print(os.getcwd())"
   ]
  },
  {
   "cell_type": "code",
   "execution_count": 7,
   "metadata": {},
   "outputs": [],
   "source": [
    "# load data from database\n",
    "engine = create_engine('sqlite:///DisasterResponse.db')\n",
    "df = pd.read_sql_table('DisasterResponse', engine)\n",
    "X = df['message']\n",
    "Y = df.iloc[:,4:]\n",
    "category_names = Y.columns\n",
    "#y = df.drop(['message', 'genre', 'id', 'original'], axis=1)"
   ]
  },
  {
   "cell_type": "code",
   "execution_count": 9,
   "metadata": {},
   "outputs": [
    {
     "data": {
      "text/plain": [
       "Index(['related', 'request', 'offer', 'aid_related', 'medical_help',\n",
       "       'medical_products', 'search_and_rescue', 'security', 'military',\n",
       "       'child_alone', 'water', 'food', 'shelter', 'clothing', 'money',\n",
       "       'missing_people', 'refugees', 'death', 'other_aid',\n",
       "       'infrastructure_related', 'transport', 'buildings', 'electricity',\n",
       "       'tools', 'hospitals', 'shops', 'aid_centers', 'other_infrastructure',\n",
       "       'weather_related', 'floods', 'storm', 'fire', 'earthquake', 'cold',\n",
       "       'other_weather', 'direct_report'],\n",
       "      dtype='object')"
      ]
     },
     "execution_count": 9,
     "metadata": {},
     "output_type": "execute_result"
    }
   ],
   "source": [
    "category_names"
   ]
  },
  {
   "cell_type": "code",
   "execution_count": null,
   "metadata": {},
   "outputs": [],
   "source": [
    "Y.info()"
   ]
  },
  {
   "cell_type": "markdown",
   "metadata": {},
   "source": [
    "### 2. Write a tokenization function to process your text data"
   ]
  },
  {
   "cell_type": "code",
   "execution_count": 10,
   "metadata": {},
   "outputs": [],
   "source": [
    "def tokenize(text):\n",
    "    # normalized text and remove punctuation\n",
    "    text = re.sub(r\"[^a-zA-Z0-9]\", \" \", text.lower())\n",
    "    # Extract all the urls from the provided text\n",
    "    detected_urls = re.findall(url_regex, text)\n",
    "    # Replace url with a url placeholder string\n",
    "    for url in detected_urls:\n",
    "        text = text.replace(url, \"urlplaceholder\")\n",
    "    # Extract the word tokens from the provided text\n",
    "    tokens = nltk.word_tokenize(text)\n",
    "    # Lemmanitizer to remove inflectional and derivationally related forms of a word\n",
    "    lemmatizer = nltk.WordNetLemmatizer()\n",
    "\n",
    "    clean_tokens = [lemmatizer.lemmatize(w).lower().strip() for w in tokens]\n",
    "    # List of clean tokens\n",
    "    return clean_tokens\n"
   ]
  },
  {
   "cell_type": "markdown",
   "metadata": {},
   "source": [
    "### 3. Build a machine learning pipeline\n",
    "This machine pipeline should take in the `message` column as input and output classification results on the other 36 categories in the dataset. You may find the [MultiOutputClassifier](http://scikit-learn.org/stable/modules/generated/sklearn.multioutput.MultiOutputClassifier.html) helpful for predicting multiple target variables."
   ]
  },
  {
   "cell_type": "code",
   "execution_count": 20,
   "metadata": {},
   "outputs": [],
   "source": [
    "#using MultiOutputClassifier to build an ML pipeline\n",
    "pipeline = Pipeline([\n",
    "    ('vect', CountVectorizer(tokenizer=tokenize)),\n",
    "    ('tfidf', TfidfTransformer()),\n",
    "    ('clf', MultiOutputClassifier(RandomForestClassifier(n_estimators=10,min_samples_leaf=1,max_features='auto',n_jobs=-1))),  \n",
    "])\n"
   ]
  },
  {
   "cell_type": "markdown",
   "metadata": {},
   "source": [
    "### 4. Train pipeline\n",
    "- Split data into train and test sets\n",
    "- Train pipeline"
   ]
  },
  {
   "cell_type": "code",
   "execution_count": 46,
   "metadata": {},
   "outputs": [
    {
     "data": {
      "text/plain": [
       "Pipeline(memory=None,\n",
       "     steps=[('vect', CountVectorizer(analyzer='word', binary=False, decode_error='strict',\n",
       "        dtype=<class 'numpy.int64'>, encoding='utf-8', input='content',\n",
       "        lowercase=True, max_df=1.0, max_features=None, min_df=1,\n",
       "        ngram_range=(1, 1), preprocessor=None, stop_words=None,\n",
       "        strip...oob_score=False, random_state=None, verbose=0,\n",
       "            warm_start=False),\n",
       "           n_jobs=1))])"
      ]
     },
     "execution_count": 46,
     "metadata": {},
     "output_type": "execute_result"
    }
   ],
   "source": [
    "X_train, X_test, Y_train, Y_test = train_test_split(X, Y)\n",
    "\n",
    "pipeline.fit(X_train, Y_train)"
   ]
  },
  {
   "cell_type": "code",
   "execution_count": 15,
   "metadata": {},
   "outputs": [
    {
     "data": {
      "text/plain": [
       "((19662,), (6554,), (19662, 36), (6554, 36))"
      ]
     },
     "execution_count": 15,
     "metadata": {},
     "output_type": "execute_result"
    }
   ],
   "source": [
    "X_train.shape, X_test.shape, Y_train.shape, Y_test.shape"
   ]
  },
  {
   "cell_type": "code",
   "execution_count": null,
   "metadata": {},
   "outputs": [],
   "source": []
  },
  {
   "cell_type": "markdown",
   "metadata": {},
   "source": [
    "### 5. Test your model\n",
    "Report the f1 score, precision and recall for each output category of the dataset. You can do this by iterating through the columns and calling sklearn's `classification_report` on each."
   ]
  },
  {
   "cell_type": "code",
   "execution_count": 47,
   "metadata": {},
   "outputs": [],
   "source": [
    "y_pred = pipeline.predict(X_test)"
   ]
  },
  {
   "cell_type": "code",
   "execution_count": 48,
   "metadata": {},
   "outputs": [
    {
     "data": {
      "text/plain": [
       "pandas.core.frame.DataFrame"
      ]
     },
     "execution_count": 48,
     "metadata": {},
     "output_type": "execute_result"
    }
   ],
   "source": [
    "y_pred = pd.DataFrame(y_pred)\n",
    "type(y_pred)"
   ]
  },
  {
   "cell_type": "code",
   "execution_count": 49,
   "metadata": {},
   "outputs": [
    {
     "data": {
      "text/plain": [
       "pandas.core.frame.DataFrame"
      ]
     },
     "execution_count": 49,
     "metadata": {},
     "output_type": "execute_result"
    }
   ],
   "source": [
    "type(Y_test)"
   ]
  },
  {
   "cell_type": "code",
   "execution_count": 39,
   "metadata": {},
   "outputs": [
    {
     "data": {
      "text/plain": [
       "pandas.core.indexes.base.Index"
      ]
     },
     "execution_count": 39,
     "metadata": {},
     "output_type": "execute_result"
    }
   ],
   "source": [
    "type(category_names)"
   ]
  },
  {
   "cell_type": "code",
   "execution_count": 52,
   "metadata": {
    "scrolled": true
   },
   "outputs": [
    {
     "ename": "ValueError",
     "evalue": "Unknown label type: (       related  request  offer  aid_related  medical_help  medical_products  \\\n4371         1        0      0            0             0                 0   \n21519        1        0      0            1             1                 1   \n24520        0        0      0            0             0                 0   \n16336        0        0      0            0             0                 0   \n439          1        1      0            1             0                 0   \n4212         1        0      0            0             0                 0   \n5103         1        0      0            1             0                 0   \n9699         1        0      0            0             0                 0   \n19153        0        0      0            0             0                 0   \n2649         1        1      0            1             0                 0   \n14816        1        1      0            1             1                 0   \n21543        0        0      0            0             0                 0   \n21235        1        0      0            1             1                 1   \n7829         1        0      0            1             0                 0   \n8388         0        0      0            0             0                 0   \n22190        0        0      0            0             0                 0   \n10682        1        0      0            1             0                 0   \n24713        0        0      0            0             0                 0   \n19925        1        0      0            0             0                 0   \n12650        1        0      0            0             0                 0   \n22087        1        0      0            0             0                 0   \n17191        1        0      0            1             0                 1   \n16700        1        0      0            1             0                 0   \n17950        1        0      0            1             0                 0   \n8580         1        0      0            0             0                 0   \n23926        1        0      0            1             0                 0   \n2198         1        1      0            1             0                 0   \n5417         1        1      0            1             0                 0   \n6487         1        0      0            0             0                 0   \n9635         1        0      0            0             0                 0   \n...        ...      ...    ...          ...           ...               ...   \n20826        1        0      0            1             0                 0   \n1373         1        1      0            1             0                 0   \n10610        1        0      0            0             0                 0   \n7248         1        1      0            1             0                 0   \n1927         1        1      0            1             0                 0   \n18889        1        0      0            0             0                 0   \n25097        1        0      0            1             1                 1   \n23565        1        0      0            0             0                 0   \n5182         1        1      0            1             0                 0   \n927          1        1      0            1             0                 0   \n15666        1        0      0            0             0                 0   \n16540        0        0      0            0             0                 0   \n10548        1        0      0            1             0                 0   \n22305        1        0      0            1             0                 0   \n12192        1        1      0            1             0                 1   \n16931        1        0      0            1             0                 0   \n20688        1        0      0            1             1                 0   \n11918        0        0      0            0             0                 0   \n7797         0        0      0            0             0                 0   \n20705        1        0      0            1             0                 0   \n19674        1        0      0            0             0                 0   \n21268        1        0      0            0             0                 0   \n20829        1        0      0            0             0                 0   \n25094        1        0      0            0             0                 0   \n14588        1        0      0            1             0                 0   \n1204         1        1      0            1             1                 0   \n17478        1        0      0            0             0                 0   \n10987        1        0      0            0             0                 0   \n542          1        1      0            1             0                 0   \n4414         1        1      0            1             0                 0   \n\n       search_and_rescue  security  military  child_alone      ...        \\\n4371                   0         0         0            0      ...         \n21519                  0         1         0            0      ...         \n24520                  0         0         0            0      ...         \n16336                  0         0         0            0      ...         \n439                    0         0         0            0      ...         \n4212                   0         0         0            0      ...         \n5103                   0         0         0            0      ...         \n9699                   0         0         0            0      ...         \n19153                  0         0         0            0      ...         \n2649                   0         0         0            0      ...         \n14816                  0         0         0            0      ...         \n21543                  0         0         0            0      ...         \n21235                  0         0         0            0      ...         \n7829                   0         0         0            0      ...         \n8388                   0         0         0            0      ...         \n22190                  0         0         0            0      ...         \n10682                  0         0         0            0      ...         \n24713                  0         0         0            0      ...         \n19925                  0         0         0            0      ...         \n12650                  0         0         0            0      ...         \n22087                  0         0         0            0      ...         \n17191                  0         0         0            0      ...         \n16700                  0         0         0            0      ...         \n17950                  0         0         1            0      ...         \n8580                   0         0         0            0      ...         \n23926                  0         0         0            0      ...         \n2198                   0         0         0            0      ...         \n5417                   0         0         0            0      ...         \n6487                   0         0         0            0      ...         \n9635                   0         0         0            0      ...         \n...                  ...       ...       ...          ...      ...         \n20826                  0         0         0            0      ...         \n1373                   0         0         0            0      ...         \n10610                  0         0         0            0      ...         \n7248                   0         0         0            0      ...         \n1927                   0         0         0            0      ...         \n18889                  0         0         0            0      ...         \n25097                  0         0         0            0      ...         \n23565                  0         0         0            0      ...         \n5182                   0         0         0            0      ...         \n927                    0         0         0            0      ...         \n15666                  0         0         0            0      ...         \n16540                  0         0         0            0      ...         \n10548                  0         0         0            0      ...         \n22305                  0         0         0            0      ...         \n12192                  0         0         0            0      ...         \n16931                  0         0         0            0      ...         \n20688                  0         0         0            0      ...         \n11918                  0         0         0            0      ...         \n7797                   0         0         0            0      ...         \n20705                  0         0         0            0      ...         \n19674                  0         0         0            0      ...         \n21268                  0         0         0            0      ...         \n20829                  0         0         0            0      ...         \n25094                  0         0         0            0      ...         \n14588                  0         0         0            0      ...         \n1204                   0         0         0            0      ...         \n17478                  0         0         0            0      ...         \n10987                  0         0         0            0      ...         \n542                    0         0         0            0      ...         \n4414                   0         0         0            0      ...         \n\n       aid_centers  other_infrastructure  weather_related  floods  storm  \\\n4371             0                     0                0       0      0   \n21519            0                     0                1       1      0   \n24520            0                     0                0       0      0   \n16336            0                     0                0       0      0   \n439              0                     0                0       0      0   \n4212             0                     0                0       0      0   \n5103             0                     0                0       0      0   \n9699             0                     0                0       0      0   \n19153            0                     0                0       0      0   \n2649             0                     0                0       0      0   \n14816            0                     0                1       1      0   \n21543            0                     0                0       0      0   \n21235            0                     0                0       0      0   \n7829             0                     0                1       0      0   \n8388             0                     0                0       0      0   \n22190            0                     0                0       0      0   \n10682            0                     0                1       0      1   \n24713            0                     0                0       0      0   \n19925            0                     0                1       0      1   \n12650            0                     0                1       0      1   \n22087            0                     0                0       0      0   \n17191            0                     0                1       0      0   \n16700            0                     0                1       0      0   \n17950            0                     0                0       0      0   \n8580             0                     0                0       0      0   \n23926            0                     0                0       0      0   \n2198             0                     0                0       0      0   \n5417             0                     0                1       0      1   \n6487             0                     0                0       0      0   \n9635             0                     0                0       0      0   \n...            ...                   ...              ...     ...    ...   \n20826            0                     0                0       0      0   \n1373             0                     0                0       0      0   \n10610            0                     0                0       0      0   \n7248             0                     0                0       0      0   \n1927             0                     0                0       0      0   \n18889            0                     0                0       0      0   \n25097            0                     0                0       0      0   \n23565            0                     0                0       0      0   \n5182             1                     0                0       0      0   \n927              0                     0                0       0      0   \n15666            0                     0                0       0      0   \n16540            0                     0                0       0      0   \n10548            0                     0                1       0      1   \n22305            0                     0                0       0      0   \n12192            0                     1                1       0      0   \n16931            0                     0                1       0      0   \n20688            0                     0                0       0      0   \n11918            0                     0                0       0      0   \n7797             0                     0                0       0      0   \n20705            0                     0                0       0      0   \n19674            0                     0                0       0      0   \n21268            0                     0                1       0      1   \n20829            0                     0                0       0      0   \n25094            0                     0                0       0      0   \n14588            0                     0                1       0      0   \n1204             0                     0                1       0      0   \n17478            0                     0                1       0      0   \n10987            0                     0                1       0      1   \n542              0                     0                0       0      0   \n4414             0                     0                0       0      0   \n\n       fire  earthquake  cold  other_weather  direct_report  \n4371      0           0     0              0              0  \n21519     0           0     0              0              0  \n24520     0           0     0              0              0  \n16336     0           0     0              0              0  \n439       0           0     0              0              1  \n4212      0           0     0              0              0  \n5103      0           0     0              0              0  \n9699      0           0     0              0              0  \n19153     0           0     0              0              0  \n2649      0           0     0              0              1  \n14816     0           0     0              1              1  \n21543     0           0     0              0              0  \n21235     0           0     0              0              0  \n7829      0           1     0              0              1  \n8388      0           0     0              0              0  \n22190     0           0     0              0              0  \n10682     0           0     0              0              1  \n24713     0           0     0              0              0  \n19925     0           0     0              0              0  \n12650     0           0     0              0              1  \n22087     0           0     0              0              0  \n17191     1           0     0              0              0  \n16700     0           1     1              0              0  \n17950     0           0     0              0              0  \n8580      0           0     0              0              0  \n23926     0           0     0              0              0  \n2198      0           0     0              0              1  \n5417      0           0     0              0              1  \n6487      0           0     0              0              0  \n9635      0           0     0              0              0  \n...     ...         ...   ...            ...            ...  \n20826     0           0     0              0              0  \n1373      0           0     0              0              1  \n10610     0           0     0              0              0  \n7248      0           0     0              0              0  \n1927      0           0     0              0              1  \n18889     0           0     0              0              0  \n25097     0           0     0              0              0  \n23565     0           0     0              0              0  \n5182      0           0     0              0              0  \n927       0           0     0              0              1  \n15666     0           0     0              0              0  \n16540     0           0     0              0              0  \n10548     0           0     0              0              1  \n22305     0           0     0              0              0  \n12192     0           0     0              1              1  \n16931     0           0     0              1              0  \n20688     0           0     0              0              0  \n11918     0           0     0              0              0  \n7797      0           0     0              0              0  \n20705     0           0     0              0              0  \n19674     0           0     0              0              0  \n21268     0           0     0              1              0  \n20829     0           0     0              0              0  \n25094     0           0     0              0              0  \n14588     1           0     0              1              0  \n1204      0           1     0              0              0  \n17478     0           1     0              0              0  \n10987     0           0     0              0              1  \n542       0           0     0              0              1  \n4414      0           0     0              0              0  \n\n[6554 rows x 36 columns],       0   1   2   3   4   5   6   7   8   9  ...  26  27  28  29  30  31  32  \\\n0      1   0   0   0   0   0   0   0   0   0 ...   0   0   0   0   0   0   0   \n1      1   0   0   0   0   0   0   0   0   0 ...   0   0   1   0   1   0   0   \n2      0   0   0   0   0   0   0   0   0   0 ...   0   0   0   0   0   0   0   \n3      0   0   0   0   0   0   0   0   0   0 ...   0   0   0   0   1   0   0   \n4      1   1   0   1   0   0   0   0   0   0 ...   0   0   0   0   0   0   0   \n5      1   0   0   0   0   0   0   0   0   0 ...   0   0   0   0   0   0   0   \n6      1   0   0   0   0   0   0   0   0   0 ...   0   0   0   0   0   0   0   \n7      1   0   0   0   0   0   0   0   0   0 ...   0   0   0   0   0   0   0   \n8      1   0   0   0   0   0   0   0   0   0 ...   0   0   0   0   0   0   0   \n9      1   1   0   1   0   0   0   0   0   0 ...   0   0   0   0   0   0   0   \n10     1   0   0   0   0   0   0   0   0   0 ...   0   0   0   0   0   0   0   \n11     1   0   0   0   0   0   0   0   0   0 ...   0   0   0   0   0   0   0   \n12     1   0   0   1   0   0   0   0   0   0 ...   0   0   0   0   0   0   0   \n13     1   0   0   0   0   0   0   0   0   0 ...   0   0   0   0   0   0   0   \n14     0   0   0   0   0   0   0   0   0   0 ...   0   0   0   0   0   0   0   \n15     1   0   0   0   0   0   0   0   0   0 ...   0   0   0   0   0   0   0   \n16     1   0   0   1   0   0   0   0   0   0 ...   0   0   0   0   0   0   0   \n17     1   0   0   0   0   0   0   0   0   0 ...   0   0   0   0   0   0   0   \n18     1   0   0   1   0   0   0   0   0   0 ...   0   0   1   0   1   0   0   \n19     1   0   0   1   0   0   0   0   0   0 ...   0   0   0   0   1   0   0   \n20     1   0   0   1   0   0   0   0   0   0 ...   0   0   0   0   0   0   0   \n21     1   0   0   1   0   0   0   0   0   0 ...   0   0   0   0   0   0   0   \n22     1   0   0   1   0   0   0   0   0   0 ...   0   0   1   0   0   0   0   \n23     1   0   0   0   0   0   0   0   0   0 ...   0   0   0   0   0   0   0   \n24     0   0   0   0   0   0   0   0   0   0 ...   0   0   0   0   0   0   0   \n25     1   0   0   1   0   0   0   0   0   0 ...   0   0   0   0   0   0   0   \n26     1   0   0   1   0   0   0   0   0   0 ...   0   0   0   0   0   0   0   \n27     1   1   0   1   0   0   0   0   0   0 ...   0   0   0   0   0   0   0   \n28     1   0   0   0   0   0   0   0   0   0 ...   0   0   0   0   0   0   0   \n29     1   1   0   1   0   0   0   0   0   0 ...   0   0   0   0   0   0   0   \n...   ..  ..  ..  ..  ..  ..  ..  ..  ..  .. ...  ..  ..  ..  ..  ..  ..  ..   \n6524   1   0   0   0   0   0   0   0   0   0 ...   0   0   0   0   0   0   0   \n6525   1   0   0   0   0   0   0   0   0   0 ...   0   0   0   0   0   0   0   \n6526   1   0   0   1   0   0   0   0   0   0 ...   0   0   0   0   0   0   0   \n6527   1   0   0   0   0   0   0   0   0   0 ...   0   0   0   0   0   0   0   \n6528   1   0   0   1   0   0   0   0   0   0 ...   0   0   0   0   0   0   0   \n6529   1   0   0   0   0   0   0   0   0   0 ...   0   0   0   0   0   0   0   \n6530   1   0   0   1   0   1   0   0   0   0 ...   0   0   0   0   0   0   0   \n6531   1   0   0   0   0   0   0   0   0   0 ...   0   0   0   0   0   0   0   \n6532   1   0   0   0   0   0   0   0   0   0 ...   0   0   0   0   0   0   0   \n6533   1   1   0   1   0   0   0   0   0   0 ...   0   0   0   0   0   0   0   \n6534   1   0   0   0   0   0   0   0   0   0 ...   0   0   0   0   0   0   0   \n6535   1   0   0   0   0   0   0   0   0   0 ...   0   0   0   0   0   0   0   \n6536   1   0   0   0   0   0   0   0   0   0 ...   0   0   1   0   0   0   0   \n6537   1   0   0   0   0   0   0   0   0   0 ...   0   0   0   0   0   0   0   \n6538   1   0   0   1   0   0   0   0   0   0 ...   0   0   0   0   0   0   0   \n6539   1   0   0   0   0   0   0   0   0   0 ...   0   0   0   0   0   0   0   \n6540   1   0   0   1   0   0   0   0   0   0 ...   0   0   0   0   0   0   0   \n6541   0   0   0   0   0   0   0   0   0   0 ...   0   0   0   0   0   0   0   \n6542   0   0   0   0   0   0   0   0   0   0 ...   0   0   0   0   0   0   0   \n6543   1   0   0   1   0   0   0   0   0   0 ...   0   0   1   1   0   0   0   \n6544   1   0   0   1   0   0   0   0   0   0 ...   0   0   0   0   0   0   0   \n6545   1   0   0   0   0   0   0   0   0   0 ...   0   0   1   0   0   0   0   \n6546   1   0   0   0   0   0   0   0   0   0 ...   0   0   0   0   0   0   0   \n6547   0   0   0   0   0   0   0   0   0   0 ...   0   0   0   0   0   0   0   \n6548   1   0   0   0   0   0   0   0   0   0 ...   0   0   0   0   0   0   0   \n6549   1   0   0   0   0   0   0   0   0   0 ...   0   0   1   0   0   0   0   \n6550   1   0   0   0   0   0   0   0   0   0 ...   0   0   1   0   0   0   1   \n6551   1   0   0   0   0   0   0   0   0   0 ...   0   0   0   0   1   0   0   \n6552   1   1   0   1   0   0   0   0   0   0 ...   0   0   0   0   0   0   0   \n6553   1   0   0   1   0   0   0   0   0   0 ...   0   0   0   0   0   0   0   \n\n      33  34  35  \n0      0   0   0  \n1      0   0   0  \n2      0   0   0  \n3      0   0   0  \n4      0   0   1  \n5      0   0   0  \n6      0   0   0  \n7      0   0   0  \n8      0   0   0  \n9      0   0   1  \n10     0   0   0  \n11     0   0   0  \n12     0   0   0  \n13     0   0   0  \n14     0   0   0  \n15     0   0   0  \n16     0   0   0  \n17     0   0   0  \n18     0   0   0  \n19     0   0   0  \n20     0   0   0  \n21     0   0   0  \n22     0   0   1  \n23     0   0   0  \n24     0   0   0  \n25     0   0   0  \n26     0   0   0  \n27     0   0   1  \n28     0   0   0  \n29     0   0   1  \n...   ..  ..  ..  \n6524   0   0   0  \n6525   0   0   0  \n6526   0   0   0  \n6527   0   0   1  \n6528   0   0   0  \n6529   0   0   0  \n6530   0   0   0  \n6531   0   0   0  \n6532   0   0   0  \n6533   0   0   0  \n6534   0   0   0  \n6535   0   0   0  \n6536   0   0   0  \n6537   0   0   0  \n6538   0   0   0  \n6539   0   0   0  \n6540   0   0   0  \n6541   0   0   0  \n6542   0   0   0  \n6543   0   0   0  \n6544   0   0   0  \n6545   0   0   0  \n6546   0   0   0  \n6547   0   0   0  \n6548   0   1   0  \n6549   0   0   0  \n6550   0   0   0  \n6551   0   0   0  \n6552   0   0   1  \n6553   0   0   1  \n\n[6554 rows x 36 columns])",
     "output_type": "error",
     "traceback": [
      "\u001b[0;31m---------------------------------------------------------------------------\u001b[0m",
      "\u001b[0;31mValueError\u001b[0m                                Traceback (most recent call last)",
      "\u001b[0;32m<ipython-input-52-fac624be9dab>\u001b[0m in \u001b[0;36m<module>\u001b[0;34m()\u001b[0m\n\u001b[0;32m----> 1\u001b[0;31m \u001b[0mprint\u001b[0m\u001b[0;34m(\u001b[0m\u001b[0mclassification_report\u001b[0m\u001b[0;34m(\u001b[0m\u001b[0mY_test\u001b[0m\u001b[0;34m,\u001b[0m \u001b[0my_pred\u001b[0m\u001b[0;34m,\u001b[0m \u001b[0mtarget_names\u001b[0m\u001b[0;34m=\u001b[0m \u001b[0mcategory_names\u001b[0m\u001b[0;34m)\u001b[0m\u001b[0;34m)\u001b[0m\u001b[0;34m\u001b[0m\u001b[0m\n\u001b[0m",
      "\u001b[0;32m/opt/conda/lib/python3.6/site-packages/sklearn/metrics/classification.py\u001b[0m in \u001b[0;36mclassification_report\u001b[0;34m(y_true, y_pred, labels, target_names, sample_weight, digits)\u001b[0m\n\u001b[1;32m   1419\u001b[0m \u001b[0;34m\u001b[0m\u001b[0m\n\u001b[1;32m   1420\u001b[0m     \u001b[0;32mif\u001b[0m \u001b[0mlabels\u001b[0m \u001b[0;32mis\u001b[0m \u001b[0;32mNone\u001b[0m\u001b[0;34m:\u001b[0m\u001b[0;34m\u001b[0m\u001b[0m\n\u001b[0;32m-> 1421\u001b[0;31m         \u001b[0mlabels\u001b[0m \u001b[0;34m=\u001b[0m \u001b[0munique_labels\u001b[0m\u001b[0;34m(\u001b[0m\u001b[0my_true\u001b[0m\u001b[0;34m,\u001b[0m \u001b[0my_pred\u001b[0m\u001b[0;34m)\u001b[0m\u001b[0;34m\u001b[0m\u001b[0m\n\u001b[0m\u001b[1;32m   1422\u001b[0m     \u001b[0;32melse\u001b[0m\u001b[0;34m:\u001b[0m\u001b[0;34m\u001b[0m\u001b[0m\n\u001b[1;32m   1423\u001b[0m         \u001b[0mlabels\u001b[0m \u001b[0;34m=\u001b[0m \u001b[0mnp\u001b[0m\u001b[0;34m.\u001b[0m\u001b[0masarray\u001b[0m\u001b[0;34m(\u001b[0m\u001b[0mlabels\u001b[0m\u001b[0;34m)\u001b[0m\u001b[0;34m\u001b[0m\u001b[0m\n",
      "\u001b[0;32m/opt/conda/lib/python3.6/site-packages/sklearn/utils/multiclass.py\u001b[0m in \u001b[0;36munique_labels\u001b[0;34m(*ys)\u001b[0m\n\u001b[1;32m     95\u001b[0m     \u001b[0m_unique_labels\u001b[0m \u001b[0;34m=\u001b[0m \u001b[0m_FN_UNIQUE_LABELS\u001b[0m\u001b[0;34m.\u001b[0m\u001b[0mget\u001b[0m\u001b[0;34m(\u001b[0m\u001b[0mlabel_type\u001b[0m\u001b[0;34m,\u001b[0m \u001b[0;32mNone\u001b[0m\u001b[0;34m)\u001b[0m\u001b[0;34m\u001b[0m\u001b[0m\n\u001b[1;32m     96\u001b[0m     \u001b[0;32mif\u001b[0m \u001b[0;32mnot\u001b[0m \u001b[0m_unique_labels\u001b[0m\u001b[0;34m:\u001b[0m\u001b[0;34m\u001b[0m\u001b[0m\n\u001b[0;32m---> 97\u001b[0;31m         \u001b[0;32mraise\u001b[0m \u001b[0mValueError\u001b[0m\u001b[0;34m(\u001b[0m\u001b[0;34m\"Unknown label type: %s\"\u001b[0m \u001b[0;34m%\u001b[0m \u001b[0mrepr\u001b[0m\u001b[0;34m(\u001b[0m\u001b[0mys\u001b[0m\u001b[0;34m)\u001b[0m\u001b[0;34m)\u001b[0m\u001b[0;34m\u001b[0m\u001b[0m\n\u001b[0m\u001b[1;32m     98\u001b[0m \u001b[0;34m\u001b[0m\u001b[0m\n\u001b[1;32m     99\u001b[0m     \u001b[0mys_labels\u001b[0m \u001b[0;34m=\u001b[0m \u001b[0mset\u001b[0m\u001b[0;34m(\u001b[0m\u001b[0mchain\u001b[0m\u001b[0;34m.\u001b[0m\u001b[0mfrom_iterable\u001b[0m\u001b[0;34m(\u001b[0m\u001b[0m_unique_labels\u001b[0m\u001b[0;34m(\u001b[0m\u001b[0my\u001b[0m\u001b[0;34m)\u001b[0m \u001b[0;32mfor\u001b[0m \u001b[0my\u001b[0m \u001b[0;32min\u001b[0m \u001b[0mys\u001b[0m\u001b[0;34m)\u001b[0m\u001b[0;34m)\u001b[0m\u001b[0;34m\u001b[0m\u001b[0m\n",
      "\u001b[0;31mValueError\u001b[0m: Unknown label type: (       related  request  offer  aid_related  medical_help  medical_products  \\\n4371         1        0      0            0             0                 0   \n21519        1        0      0            1             1                 1   \n24520        0        0      0            0             0                 0   \n16336        0        0      0            0             0                 0   \n439          1        1      0            1             0                 0   \n4212         1        0      0            0             0                 0   \n5103         1        0      0            1             0                 0   \n9699         1        0      0            0             0                 0   \n19153        0        0      0            0             0                 0   \n2649         1        1      0            1             0                 0   \n14816        1        1      0            1             1                 0   \n21543        0        0      0            0             0                 0   \n21235        1        0      0            1             1                 1   \n7829         1        0      0            1             0                 0   \n8388         0        0      0            0             0                 0   \n22190        0        0      0            0             0                 0   \n10682        1        0      0            1             0                 0   \n24713        0        0      0            0             0                 0   \n19925        1        0      0            0             0                 0   \n12650        1        0      0            0             0                 0   \n22087        1        0      0            0             0                 0   \n17191        1        0      0            1             0                 1   \n16700        1        0      0            1             0                 0   \n17950        1        0      0            1             0                 0   \n8580         1        0      0            0             0                 0   \n23926        1        0      0            1             0                 0   \n2198         1        1      0            1             0                 0   \n5417         1        1      0            1             0                 0   \n6487         1        0      0            0             0                 0   \n9635         1        0      0            0             0                 0   \n...        ...      ...    ...          ...           ...               ...   \n20826        1        0      0            1             0                 0   \n1373         1        1      0            1             0                 0   \n10610        1        0      0            0             0                 0   \n7248         1        1      0            1             0                 0   \n1927         1        1      0            1             0                 0   \n18889        1        0      0            0             0                 0   \n25097        1        0      0            1             1                 1   \n23565        1        0      0            0             0                 0   \n5182         1        1      0            1             0                 0   \n927          1        1      0            1             0                 0   \n15666        1        0      0            0             0                 0   \n16540        0        0      0            0             0                 0   \n10548        1        0      0            1             0                 0   \n22305        1        0      0            1             0                 0   \n12192        1        1      0            1             0                 1   \n16931        1        0      0            1             0                 0   \n20688        1        0      0            1             1                 0   \n11918        0        0      0            0             0                 0   \n7797         0        0      0            0             0                 0   \n20705        1        0      0            1             0                 0   \n19674        1        0      0            0             0                 0   \n21268        1        0      0            0             0                 0   \n20829        1        0      0            0             0                 0   \n25094        1        0      0            0             0                 0   \n14588        1        0      0            1             0                 0   \n1204         1        1      0            1             1                 0   \n17478        1        0      0            0             0                 0   \n10987        1        0      0            0             0                 0   \n542          1        1      0            1             0                 0   \n4414         1        1      0            1             0                 0   \n\n       search_and_rescue  security  military  child_alone      ...        \\\n4371                   0         0         0            0      ...         \n21519                  0         1         0            0      ...         \n24520                  0         0         0            0      ...         \n16336                  0         0         0            0      ...         \n439                    0         0         0            0      ...         \n4212                   0         0         0            0      ...         \n5103                   0         0         0            0      ...         \n9699                   0         0         0            0      ...         \n19153                  0         0         0            0      ...         \n2649                   0         0         0            0      ...         \n14816                  0         0         0            0      ...         \n21543                  0         0         0            0      ...         \n21235                  0         0         0            0      ...         \n7829                   0         0         0            0      ...         \n8388                   0         0         0            0      ...         \n22190                  0         0         0            0      ...         \n10682                  0         0         0            0      ...         \n24713                  0         0         0            0      ...         \n19925                  0         0         0            0      ...         \n12650                  0         0         0            0      ...         \n22087                  0         0         0            0      ...         \n17191                  0         0         0            0      ...         \n16700                  0         0         0            0      ...         \n17950                  0         0         1            0      ...         \n8580                   0         0         0            0      ...         \n23926                  0         0         0            0      ...         \n2198                   0         0         0            0      ...         \n5417                   0         0         0            0      ...         \n6487                   0         0         0            0      ...         \n9635                   0         0         0            0      ...         \n...                  ...       ...       ...          ...      ...         \n20826                  0         0         0            0      ...         \n1373                   0         0         0            0      ...         \n10610                  0         0         0            0      ...         \n7248                   0         0         0            0      ...         \n1927                   0         0         0            0      ...         \n18889                  0         0         0            0      ...         \n25097                  0         0         0            0      ...         \n23565                  0         0         0            0      ...         \n5182                   0         0         0            0      ...         \n927                    0         0         0            0      ...         \n15666                  0         0         0            0      ...         \n16540                  0         0         0            0      ...         \n10548                  0         0         0            0      ...         \n22305                  0         0         0            0      ...         \n12192                  0         0         0            0      ...         \n16931                  0         0         0            0      ...         \n20688                  0         0         0            0      ...         \n11918                  0         0         0            0      ...         \n7797                   0         0         0            0      ...         \n20705                  0         0         0            0      ...         \n19674                  0         0         0            0      ...         \n21268                  0         0         0            0      ...         \n20829                  0         0         0            0      ...         \n25094                  0         0         0            0      ...         \n14588                  0         0         0            0      ...         \n1204                   0         0         0            0      ...         \n17478                  0         0         0            0      ...         \n10987                  0         0         0            0      ...         \n542                    0         0         0            0      ...         \n4414                   0         0         0            0      ...         \n\n       aid_centers  other_infrastructure  weather_related  floods  storm  \\\n4371             0                     0                0       0      0   \n21519            0                     0                1       1      0   \n24520            0                     0                0       0      0   \n16336            0                     0                0       0      0   \n439              0                     0                0       0      0   \n4212             0                     0                0       0      0   \n5103             0                     0                0       0      0   \n9699             0                     0                0       0      0   \n19153            0                     0                0       0      0   \n2649             0                     0                0       0      0   \n14816            0                     0                1       1      0   \n21543            0                     0                0       0      0   \n21235            0                     0                0       0      0   \n7829             0                     0                1       0      0   \n8388             0                     0                0       0      0   \n22190            0                     0                0       0      0   \n10682            0                     0                1       0      1   \n24713            0                     0                0       0      0   \n19925            0                     0                1       0      1   \n12650            0                     0                1       0      1   \n22087            0                     0                0       0      0   \n17191            0                     0                1       0      0   \n16700            0                     0                1       0      0   \n17950            0                     0                0       0      0   \n8580             0                     0                0       0      0   \n23926            0                     0                0       0      0   \n2198             0                     0                0       0      0   \n5417             0                     0                1       0      1   \n6487             0                     0                0       0      0   \n9635             0                     0                0       0      0   \n...            ...                   ...              ...     ...    ...   \n20826            0                     0                0       0      0   \n1373             0                     0                0       0      0   \n10610            0                     0                0       0      0   \n7248             0                     0                0       0      0   \n1927             0                     0                0       0      0   \n18889            0                     0                0       0      0   \n25097            0                     0                0       0      0   \n23565            0                     0                0       0      0   \n5182             1                     0                0       0      0   \n927              0                     0                0       0      0   \n15666            0                     0                0       0      0   \n16540            0                     0                0       0      0   \n10548            0                     0                1       0      1   \n22305            0                     0                0       0      0   \n12192            0                     1                1       0      0   \n16931            0                     0                1       0      0   \n20688            0                     0                0       0      0   \n11918            0                     0                0       0      0   \n7797             0                     0                0       0      0   \n20705            0                     0                0       0      0   \n19674            0                     0                0       0      0   \n21268            0                     0                1       0      1   \n20829            0                     0                0       0      0   \n25094            0                     0                0       0      0   \n14588            0                     0                1       0      0   \n1204             0                     0                1       0      0   \n17478            0                     0                1       0      0   \n10987            0                     0                1       0      1   \n542              0                     0                0       0      0   \n4414             0                     0                0       0      0   \n\n       fire  earthquake  cold  other_weather  direct_report  \n4371      0           0     0              0              0  \n21519     0           0     0              0              0  \n24520     0           0     0              0              0  \n16336     0           0     0              0              0  \n439       0           0     0              0              1  \n4212      0           0     0              0              0  \n5103      0           0     0              0              0  \n9699      0           0     0              0              0  \n19153     0           0     0              0              0  \n2649      0           0     0              0              1  \n14816     0           0     0              1              1  \n21543     0           0     0              0              0  \n21235     0           0     0              0              0  \n7829      0           1     0              0              1  \n8388      0           0     0              0              0  \n22190     0           0     0              0              0  \n10682     0           0     0              0              1  \n24713     0           0     0              0              0  \n19925     0           0     0              0              0  \n12650     0           0     0              0              1  \n22087     0           0     0              0              0  \n17191     1           0     0              0              0  \n16700     0           1     1              0              0  \n17950     0           0     0              0              0  \n8580      0           0     0              0              0  \n23926     0           0     0              0              0  \n2198      0           0     0              0              1  \n5417      0           0     0              0              1  \n6487      0           0     0              0              0  \n9635      0           0     0              0              0  \n...     ...         ...   ...            ...            ...  \n20826     0           0     0              0              0  \n1373      0           0     0              0              1  \n10610     0           0     0              0              0  \n7248      0           0     0              0              0  \n1927      0           0     0              0              1  \n18889     0           0     0              0              0  \n25097     0           0     0              0              0  \n23565     0           0     0              0              0  \n5182      0           0     0              0              0  \n927       0           0     0              0              1  \n15666     0           0     0              0              0  \n16540     0           0     0              0              0  \n10548     0           0     0              0              1  \n22305     0           0     0              0              0  \n12192     0           0     0              1              1  \n16931     0           0     0              1              0  \n20688     0           0     0              0              0  \n11918     0           0     0              0              0  \n7797      0           0     0              0              0  \n20705     0           0     0              0              0  \n19674     0           0     0              0              0  \n21268     0           0     0              1              0  \n20829     0           0     0              0              0  \n25094     0           0     0              0              0  \n14588     1           0     0              1              0  \n1204      0           1     0              0              0  \n17478     0           1     0              0              0  \n10987     0           0     0              0              1  \n542       0           0     0              0              1  \n4414      0           0     0              0              0  \n\n[6554 rows x 36 columns],       0   1   2   3   4   5   6   7   8   9  ...  26  27  28  29  30  31  32  \\\n0      1   0   0   0   0   0   0   0   0   0 ...   0   0   0   0   0   0   0   \n1      1   0   0   0   0   0   0   0   0   0 ...   0   0   1   0   1   0   0   \n2      0   0   0   0   0   0   0   0   0   0 ...   0   0   0   0   0   0   0   \n3      0   0   0   0   0   0   0   0   0   0 ...   0   0   0   0   1   0   0   \n4      1   1   0   1   0   0   0   0   0   0 ...   0   0   0   0   0   0   0   \n5      1   0   0   0   0   0   0   0   0   0 ...   0   0   0   0   0   0   0   \n6      1   0   0   0   0   0   0   0   0   0 ...   0   0   0   0   0   0   0   \n7      1   0   0   0   0   0   0   0   0   0 ...   0   0   0   0   0   0   0   \n8      1   0   0   0   0   0   0   0   0   0 ...   0   0   0   0   0   0   0   \n9      1   1   0   1   0   0   0   0   0   0 ...   0   0   0   0   0   0   0   \n10     1   0   0   0   0   0   0   0   0   0 ...   0   0   0   0   0   0   0   \n11     1   0   0   0   0   0   0   0   0   0 ...   0   0   0   0   0   0   0   \n12     1   0   0   1   0   0   0   0   0   0 ...   0   0   0   0   0   0   0   \n13     1   0   0   0   0   0   0   0   0   0 ...   0   0   0   0   0   0   0   \n14     0   0   0   0   0   0   0   0   0   0 ...   0   0   0   0   0   0   0   \n15     1   0   0   0   0   0   0   0   0   0 ...   0   0   0   0   0   0   0   \n16     1   0   0   1   0   0   0   0   0   0 ...   0   0   0   0   0   0   0   \n17     1   0   0   0   0   0   0   0   0   0 ...   0   0   0   0   0   0   0   \n18     1   0   0   1   0   0   0   0   0   0 ...   0   0   1   0   1   0   0   \n19     1   0   0   1   0   0   0   0   0   0 ...   0   0   0   0   1   0   0   \n20     1   0   0   1   0   0   0   0   0   0 ...   0   0   0   0   0   0   0   \n21     1   0   0   1   0   0   0   0   0   0 ...   0   0   0   0   0   0   0   \n22     1   0   0   1   0   0   0   0   0   0 ...   0   0   1   0   0   0   0   \n23     1   0   0   0   0   0   0   0   0   0 ...   0   0   0   0   0   0   0   \n24     0   0   0   0   0   0   0   0   0   0 ...   0   0   0   0   0   0   0   \n25     1   0   0   1   0   0   0   0   0   0 ...   0   0   0   0   0   0   0   \n26     1   0   0   1   0   0   0   0   0   0 ...   0   0   0   0   0   0   0   \n27     1   1   0   1   0   0   0   0   0   0 ...   0   0   0   0   0   0   0   \n28     1   0   0   0   0   0   0   0   0   0 ...   0   0   0   0   0   0   0   \n29     1   1   0   1   0   0   0   0   0   0 ...   0   0   0   0   0   0   0   \n...   ..  ..  ..  ..  ..  ..  ..  ..  ..  .. ...  ..  ..  ..  ..  ..  ..  ..   \n6524   1   0   0   0   0   0   0   0   0   0 ...   0   0   0   0   0   0   0   \n6525   1   0   0   0   0   0   0   0   0   0 ...   0   0   0   0   0   0   0   \n6526   1   0   0   1   0   0   0   0   0   0 ...   0   0   0   0   0   0   0   \n6527   1   0   0   0   0   0   0   0   0   0 ...   0   0   0   0   0   0   0   \n6528   1   0   0   1   0   0   0   0   0   0 ...   0   0   0   0   0   0   0   \n6529   1   0   0   0   0   0   0   0   0   0 ...   0   0   0   0   0   0   0   \n6530   1   0   0   1   0   1   0   0   0   0 ...   0   0   0   0   0   0   0   \n6531   1   0   0   0   0   0   0   0   0   0 ...   0   0   0   0   0   0   0   \n6532   1   0   0   0   0   0   0   0   0   0 ...   0   0   0   0   0   0   0   \n6533   1   1   0   1   0   0   0   0   0   0 ...   0   0   0   0   0   0   0   \n6534   1   0   0   0   0   0   0   0   0   0 ...   0   0   0   0   0   0   0   \n6535   1   0   0   0   0   0   0   0   0   0 ...   0   0   0   0   0   0   0   \n6536   1   0   0   0   0   0   0   0   0   0 ...   0   0   1   0   0   0   0   \n6537   1   0   0   0   0   0   0   0   0   0 ...   0   0   0   0   0   0   0   \n6538   1   0   0   1   0   0   0   0   0   0 ...   0   0   0   0   0   0   0   \n6539   1   0   0   0   0   0   0   0   0   0 ...   0   0   0   0   0   0   0   \n6540   1   0   0   1   0   0   0   0   0   0 ...   0   0   0   0   0   0   0   \n6541   0   0   0   0   0   0   0   0   0   0 ...   0   0   0   0   0   0   0   \n6542   0   0   0   0   0   0   0   0   0   0 ...   0   0   0   0   0   0   0   \n6543   1   0   0   1   0   0   0   0   0   0 ...   0   0   1   1   0   0   0   \n6544   1   0   0   1   0   0   0   0   0   0 ...   0   0   0   0   0   0   0   \n6545   1   0   0   0   0   0   0   0   0   0 ...   0   0   1   0   0   0   0   \n6546   1   0   0   0   0   0   0   0   0   0 ...   0   0   0   0   0   0   0   \n6547   0   0   0   0   0   0   0   0   0   0 ...   0   0   0   0   0   0   0   \n6548   1   0   0   0   0   0   0   0   0   0 ...   0   0   0   0   0   0   0   \n6549   1   0   0   0   0   0   0   0   0   0 ...   0   0   1   0   0   0   0   \n6550   1   0   0   0   0   0   0   0   0   0 ...   0   0   1   0   0   0   1   \n6551   1   0   0   0   0   0   0   0   0   0 ...   0   0   0   0   1   0   0   \n6552   1   1   0   1   0   0   0   0   0   0 ...   0   0   0   0   0   0   0   \n6553   1   0   0   1   0   0   0   0   0   0 ...   0   0   0   0   0   0   0   \n\n      33  34  35  \n0      0   0   0  \n1      0   0   0  \n2      0   0   0  \n3      0   0   0  \n4      0   0   1  \n5      0   0   0  \n6      0   0   0  \n7      0   0   0  \n8      0   0   0  \n9      0   0   1  \n10     0   0   0  \n11     0   0   0  \n12     0   0   0  \n13     0   0   0  \n14     0   0   0  \n15     0   0   0  \n16     0   0   0  \n17     0   0   0  \n18     0   0   0  \n19     0   0   0  \n20     0   0   0  \n21     0   0   0  \n22     0   0   1  \n23     0   0   0  \n24     0   0   0  \n25     0   0   0  \n26     0   0   0  \n27     0   0   1  \n28     0   0   0  \n29     0   0   1  \n...   ..  ..  ..  \n6524   0   0   0  \n6525   0   0   0  \n6526   0   0   0  \n6527   0   0   1  \n6528   0   0   0  \n6529   0   0   0  \n6530   0   0   0  \n6531   0   0   0  \n6532   0   0   0  \n6533   0   0   0  \n6534   0   0   0  \n6535   0   0   0  \n6536   0   0   0  \n6537   0   0   0  \n6538   0   0   0  \n6539   0   0   0  \n6540   0   0   0  \n6541   0   0   0  \n6542   0   0   0  \n6543   0   0   0  \n6544   0   0   0  \n6545   0   0   0  \n6546   0   0   0  \n6547   0   0   0  \n6548   0   1   0  \n6549   0   0   0  \n6550   0   0   0  \n6551   0   0   0  \n6552   0   0   1  \n6553   0   0   1  \n\n[6554 rows x 36 columns])"
     ]
    }
   ],
   "source": [
    "print(classification_report(Y_test, y_pred, target_names= category_names))"
   ]
  },
  {
   "cell_type": "markdown",
   "metadata": {},
   "source": [
    "### 6. Improve your model\n",
    "Use grid search to find better parameters. "
   ]
  },
  {
   "cell_type": "code",
   "execution_count": 14,
   "metadata": {
    "scrolled": true
   },
   "outputs": [
    {
     "data": {
      "text/plain": [
       "{'memory': None,\n",
       " 'steps': [('vect',\n",
       "   CountVectorizer(analyzer='word', binary=False, decode_error='strict',\n",
       "           dtype=<class 'numpy.int64'>, encoding='utf-8', input='content',\n",
       "           lowercase=True, max_df=1.0, max_features=None, min_df=1,\n",
       "           ngram_range=(1, 1), preprocessor=None, stop_words=None,\n",
       "           strip_accents=None, token_pattern='(?u)\\\\b\\\\w\\\\w+\\\\b',\n",
       "           tokenizer=<function tokenize at 0x7ff2c17d0b70>, vocabulary=None)),\n",
       "  ('tfidf',\n",
       "   TfidfTransformer(norm='l2', smooth_idf=True, sublinear_tf=False, use_idf=True)),\n",
       "  ('clf',\n",
       "   MultiOutputClassifier(estimator=RandomForestClassifier(bootstrap=True, class_weight=None, criterion='gini',\n",
       "               max_depth=None, max_features='auto', max_leaf_nodes=None,\n",
       "               min_impurity_decrease=0.0, min_impurity_split=None,\n",
       "               min_samples_leaf=1, min_samples_split=2,\n",
       "               min_weight_fraction_leaf=0.0, n_estimators=10, n_jobs=1,\n",
       "               oob_score=False, random_state=None, verbose=0,\n",
       "               warm_start=False),\n",
       "              n_jobs=1))],\n",
       " 'vect': CountVectorizer(analyzer='word', binary=False, decode_error='strict',\n",
       "         dtype=<class 'numpy.int64'>, encoding='utf-8', input='content',\n",
       "         lowercase=True, max_df=1.0, max_features=None, min_df=1,\n",
       "         ngram_range=(1, 1), preprocessor=None, stop_words=None,\n",
       "         strip_accents=None, token_pattern='(?u)\\\\b\\\\w\\\\w+\\\\b',\n",
       "         tokenizer=<function tokenize at 0x7ff2c17d0b70>, vocabulary=None),\n",
       " 'tfidf': TfidfTransformer(norm='l2', smooth_idf=True, sublinear_tf=False, use_idf=True),\n",
       " 'clf': MultiOutputClassifier(estimator=RandomForestClassifier(bootstrap=True, class_weight=None, criterion='gini',\n",
       "             max_depth=None, max_features='auto', max_leaf_nodes=None,\n",
       "             min_impurity_decrease=0.0, min_impurity_split=None,\n",
       "             min_samples_leaf=1, min_samples_split=2,\n",
       "             min_weight_fraction_leaf=0.0, n_estimators=10, n_jobs=1,\n",
       "             oob_score=False, random_state=None, verbose=0,\n",
       "             warm_start=False),\n",
       "            n_jobs=1),\n",
       " 'vect__analyzer': 'word',\n",
       " 'vect__binary': False,\n",
       " 'vect__decode_error': 'strict',\n",
       " 'vect__dtype': numpy.int64,\n",
       " 'vect__encoding': 'utf-8',\n",
       " 'vect__input': 'content',\n",
       " 'vect__lowercase': True,\n",
       " 'vect__max_df': 1.0,\n",
       " 'vect__max_features': None,\n",
       " 'vect__min_df': 1,\n",
       " 'vect__ngram_range': (1, 1),\n",
       " 'vect__preprocessor': None,\n",
       " 'vect__stop_words': None,\n",
       " 'vect__strip_accents': None,\n",
       " 'vect__token_pattern': '(?u)\\\\b\\\\w\\\\w+\\\\b',\n",
       " 'vect__tokenizer': <function __main__.tokenize(text)>,\n",
       " 'vect__vocabulary': None,\n",
       " 'tfidf__norm': 'l2',\n",
       " 'tfidf__smooth_idf': True,\n",
       " 'tfidf__sublinear_tf': False,\n",
       " 'tfidf__use_idf': True,\n",
       " 'clf__estimator__bootstrap': True,\n",
       " 'clf__estimator__class_weight': None,\n",
       " 'clf__estimator__criterion': 'gini',\n",
       " 'clf__estimator__max_depth': None,\n",
       " 'clf__estimator__max_features': 'auto',\n",
       " 'clf__estimator__max_leaf_nodes': None,\n",
       " 'clf__estimator__min_impurity_decrease': 0.0,\n",
       " 'clf__estimator__min_impurity_split': None,\n",
       " 'clf__estimator__min_samples_leaf': 1,\n",
       " 'clf__estimator__min_samples_split': 2,\n",
       " 'clf__estimator__min_weight_fraction_leaf': 0.0,\n",
       " 'clf__estimator__n_estimators': 10,\n",
       " 'clf__estimator__n_jobs': 1,\n",
       " 'clf__estimator__oob_score': False,\n",
       " 'clf__estimator__random_state': None,\n",
       " 'clf__estimator__verbose': 0,\n",
       " 'clf__estimator__warm_start': False,\n",
       " 'clf__estimator': RandomForestClassifier(bootstrap=True, class_weight=None, criterion='gini',\n",
       "             max_depth=None, max_features='auto', max_leaf_nodes=None,\n",
       "             min_impurity_decrease=0.0, min_impurity_split=None,\n",
       "             min_samples_leaf=1, min_samples_split=2,\n",
       "             min_weight_fraction_leaf=0.0, n_estimators=10, n_jobs=1,\n",
       "             oob_score=False, random_state=None, verbose=0,\n",
       "             warm_start=False),\n",
       " 'clf__n_jobs': 1}"
      ]
     },
     "execution_count": 14,
     "metadata": {},
     "output_type": "execute_result"
    }
   ],
   "source": [
    "pipeline.get_params()"
   ]
  },
  {
   "cell_type": "code",
   "execution_count": 15,
   "metadata": {},
   "outputs": [
    {
     "data": {
      "text/plain": [
       "GridSearchCV(cv=None, error_score='raise',\n",
       "       estimator=Pipeline(memory=None,\n",
       "     steps=[('vect', CountVectorizer(analyzer='word', binary=False, decode_error='strict',\n",
       "        dtype=<class 'numpy.int64'>, encoding='utf-8', input='content',\n",
       "        lowercase=True, max_df=1.0, max_features=None, min_df=1,\n",
       "        ngram_range=(1, 1), preprocessor=None, stop_words=None,\n",
       "        strip...oob_score=False, random_state=None, verbose=0,\n",
       "            warm_start=False),\n",
       "           n_jobs=1))]),\n",
       "       fit_params=None, iid=True, n_jobs=1,\n",
       "       param_grid={'clf__estimator__max_depth': [10, 50, None], 'clf__estimator__min_samples_leaf': [2, 5, 10], 'clf__estimator__min_samples_split': [2, 4]},\n",
       "       pre_dispatch='2*n_jobs', refit=True, return_train_score='warn',\n",
       "       scoring=None, verbose=0)"
      ]
     },
     "execution_count": 15,
     "metadata": {},
     "output_type": "execute_result"
    }
   ],
   "source": [
    "parameters = {'clf__estimator__max_depth': [10, 50, None],\n",
    "              'clf__estimator__min_samples_leaf':[2, 5, 10],\n",
    "             'clf__estimator__min_samples_split': [2, 4],}\n",
    "\n",
    "cv = GridSearchCV(pipeline, parameters)\n",
    "cv"
   ]
  },
  {
   "cell_type": "markdown",
   "metadata": {},
   "source": [
    "### 7. Test your model\n",
    "Show the accuracy, precision, and recall of the tuned model.  \n",
    "\n",
    "Since this project focuses on code quality, process, and  pipelines, there is no minimum performance metric needed to pass. However, make sure to fine tune your models for accuracy, precision and recall to make your project stand out - especially for your portfolio!"
   ]
  },
  {
   "cell_type": "code",
   "execution_count": 23,
   "metadata": {},
   "outputs": [
    {
     "name": "stdout",
     "output_type": "stream",
     "text": [
      "Fitting 3 folds for each of 18 candidates, totalling 54 fits\n",
      "[CV] clf__estimator__max_depth=10, clf__estimator__min_samples_leaf=2, clf__estimator__min_samples_split=2 \n",
      "[CV]  clf__estimator__max_depth=10, clf__estimator__min_samples_leaf=2, clf__estimator__min_samples_split=2, total=  11.1s\n",
      "[CV] clf__estimator__max_depth=10, clf__estimator__min_samples_leaf=2, clf__estimator__min_samples_split=2 \n"
     ]
    },
    {
     "name": "stderr",
     "output_type": "stream",
     "text": [
      "[Parallel(n_jobs=1)]: Done   1 out of   1 | elapsed:   17.2s remaining:    0.0s\n"
     ]
    },
    {
     "name": "stdout",
     "output_type": "stream",
     "text": [
      "[CV]  clf__estimator__max_depth=10, clf__estimator__min_samples_leaf=2, clf__estimator__min_samples_split=2, total=  11.0s\n",
      "[CV] clf__estimator__max_depth=10, clf__estimator__min_samples_leaf=2, clf__estimator__min_samples_split=2 \n",
      "[CV]  clf__estimator__max_depth=10, clf__estimator__min_samples_leaf=2, clf__estimator__min_samples_split=2, total=  11.0s\n",
      "[CV] clf__estimator__max_depth=10, clf__estimator__min_samples_leaf=2, clf__estimator__min_samples_split=4 \n",
      "[CV]  clf__estimator__max_depth=10, clf__estimator__min_samples_leaf=2, clf__estimator__min_samples_split=4, total=  11.0s\n",
      "[CV] clf__estimator__max_depth=10, clf__estimator__min_samples_leaf=2, clf__estimator__min_samples_split=4 \n",
      "[CV]  clf__estimator__max_depth=10, clf__estimator__min_samples_leaf=2, clf__estimator__min_samples_split=4, total=  11.1s\n",
      "[CV] clf__estimator__max_depth=10, clf__estimator__min_samples_leaf=2, clf__estimator__min_samples_split=4 \n",
      "[CV]  clf__estimator__max_depth=10, clf__estimator__min_samples_leaf=2, clf__estimator__min_samples_split=4, total=  11.0s\n",
      "[CV] clf__estimator__max_depth=10, clf__estimator__min_samples_leaf=5, clf__estimator__min_samples_split=2 \n",
      "[CV]  clf__estimator__max_depth=10, clf__estimator__min_samples_leaf=5, clf__estimator__min_samples_split=2, total=  10.9s\n",
      "[CV] clf__estimator__max_depth=10, clf__estimator__min_samples_leaf=5, clf__estimator__min_samples_split=2 \n",
      "[CV]  clf__estimator__max_depth=10, clf__estimator__min_samples_leaf=5, clf__estimator__min_samples_split=2, total=  10.9s\n",
      "[CV] clf__estimator__max_depth=10, clf__estimator__min_samples_leaf=5, clf__estimator__min_samples_split=2 \n",
      "[CV]  clf__estimator__max_depth=10, clf__estimator__min_samples_leaf=5, clf__estimator__min_samples_split=2, total=  10.9s\n",
      "[CV] clf__estimator__max_depth=10, clf__estimator__min_samples_leaf=5, clf__estimator__min_samples_split=4 \n",
      "[CV]  clf__estimator__max_depth=10, clf__estimator__min_samples_leaf=5, clf__estimator__min_samples_split=4, total=  10.9s\n",
      "[CV] clf__estimator__max_depth=10, clf__estimator__min_samples_leaf=5, clf__estimator__min_samples_split=4 \n",
      "[CV]  clf__estimator__max_depth=10, clf__estimator__min_samples_leaf=5, clf__estimator__min_samples_split=4, total=  10.9s\n",
      "[CV] clf__estimator__max_depth=10, clf__estimator__min_samples_leaf=5, clf__estimator__min_samples_split=4 \n",
      "[CV]  clf__estimator__max_depth=10, clf__estimator__min_samples_leaf=5, clf__estimator__min_samples_split=4, total=  10.9s\n",
      "[CV] clf__estimator__max_depth=10, clf__estimator__min_samples_leaf=10, clf__estimator__min_samples_split=2 \n",
      "[CV]  clf__estimator__max_depth=10, clf__estimator__min_samples_leaf=10, clf__estimator__min_samples_split=2, total=  10.9s\n",
      "[CV] clf__estimator__max_depth=10, clf__estimator__min_samples_leaf=10, clf__estimator__min_samples_split=2 \n",
      "[CV]  clf__estimator__max_depth=10, clf__estimator__min_samples_leaf=10, clf__estimator__min_samples_split=2, total=  10.9s\n",
      "[CV] clf__estimator__max_depth=10, clf__estimator__min_samples_leaf=10, clf__estimator__min_samples_split=2 \n",
      "[CV]  clf__estimator__max_depth=10, clf__estimator__min_samples_leaf=10, clf__estimator__min_samples_split=2, total=  11.0s\n",
      "[CV] clf__estimator__max_depth=10, clf__estimator__min_samples_leaf=10, clf__estimator__min_samples_split=4 \n",
      "[CV]  clf__estimator__max_depth=10, clf__estimator__min_samples_leaf=10, clf__estimator__min_samples_split=4, total=  11.0s\n",
      "[CV] clf__estimator__max_depth=10, clf__estimator__min_samples_leaf=10, clf__estimator__min_samples_split=4 \n",
      "[CV]  clf__estimator__max_depth=10, clf__estimator__min_samples_leaf=10, clf__estimator__min_samples_split=4, total=  11.0s\n",
      "[CV] clf__estimator__max_depth=10, clf__estimator__min_samples_leaf=10, clf__estimator__min_samples_split=4 \n",
      "[CV]  clf__estimator__max_depth=10, clf__estimator__min_samples_leaf=10, clf__estimator__min_samples_split=4, total=  10.9s\n",
      "[CV] clf__estimator__max_depth=50, clf__estimator__min_samples_leaf=2, clf__estimator__min_samples_split=2 \n",
      "[CV]  clf__estimator__max_depth=50, clf__estimator__min_samples_leaf=2, clf__estimator__min_samples_split=2, total=  16.5s\n",
      "[CV] clf__estimator__max_depth=50, clf__estimator__min_samples_leaf=2, clf__estimator__min_samples_split=2 \n",
      "[CV]  clf__estimator__max_depth=50, clf__estimator__min_samples_leaf=2, clf__estimator__min_samples_split=2, total=  16.3s\n",
      "[CV] clf__estimator__max_depth=50, clf__estimator__min_samples_leaf=2, clf__estimator__min_samples_split=2 \n",
      "[CV]  clf__estimator__max_depth=50, clf__estimator__min_samples_leaf=2, clf__estimator__min_samples_split=2, total=  16.4s\n",
      "[CV] clf__estimator__max_depth=50, clf__estimator__min_samples_leaf=2, clf__estimator__min_samples_split=4 \n",
      "[CV]  clf__estimator__max_depth=50, clf__estimator__min_samples_leaf=2, clf__estimator__min_samples_split=4, total=  16.5s\n",
      "[CV] clf__estimator__max_depth=50, clf__estimator__min_samples_leaf=2, clf__estimator__min_samples_split=4 \n",
      "[CV]  clf__estimator__max_depth=50, clf__estimator__min_samples_leaf=2, clf__estimator__min_samples_split=4, total=  16.5s\n",
      "[CV] clf__estimator__max_depth=50, clf__estimator__min_samples_leaf=2, clf__estimator__min_samples_split=4 \n",
      "[CV]  clf__estimator__max_depth=50, clf__estimator__min_samples_leaf=2, clf__estimator__min_samples_split=4, total=  16.3s\n",
      "[CV] clf__estimator__max_depth=50, clf__estimator__min_samples_leaf=5, clf__estimator__min_samples_split=2 \n",
      "[CV]  clf__estimator__max_depth=50, clf__estimator__min_samples_leaf=5, clf__estimator__min_samples_split=2, total=  15.4s\n",
      "[CV] clf__estimator__max_depth=50, clf__estimator__min_samples_leaf=5, clf__estimator__min_samples_split=2 \n",
      "[CV]  clf__estimator__max_depth=50, clf__estimator__min_samples_leaf=5, clf__estimator__min_samples_split=2, total=  15.3s\n",
      "[CV] clf__estimator__max_depth=50, clf__estimator__min_samples_leaf=5, clf__estimator__min_samples_split=2 \n",
      "[CV]  clf__estimator__max_depth=50, clf__estimator__min_samples_leaf=5, clf__estimator__min_samples_split=2, total=  15.4s\n",
      "[CV] clf__estimator__max_depth=50, clf__estimator__min_samples_leaf=5, clf__estimator__min_samples_split=4 \n",
      "[CV]  clf__estimator__max_depth=50, clf__estimator__min_samples_leaf=5, clf__estimator__min_samples_split=4, total=  15.4s\n",
      "[CV] clf__estimator__max_depth=50, clf__estimator__min_samples_leaf=5, clf__estimator__min_samples_split=4 \n",
      "[CV]  clf__estimator__max_depth=50, clf__estimator__min_samples_leaf=5, clf__estimator__min_samples_split=4, total=  15.5s\n",
      "[CV] clf__estimator__max_depth=50, clf__estimator__min_samples_leaf=5, clf__estimator__min_samples_split=4 \n",
      "[CV]  clf__estimator__max_depth=50, clf__estimator__min_samples_leaf=5, clf__estimator__min_samples_split=4, total=  15.5s\n",
      "[CV] clf__estimator__max_depth=50, clf__estimator__min_samples_leaf=10, clf__estimator__min_samples_split=2 \n",
      "[CV]  clf__estimator__max_depth=50, clf__estimator__min_samples_leaf=10, clf__estimator__min_samples_split=2, total=  14.7s\n",
      "[CV] clf__estimator__max_depth=50, clf__estimator__min_samples_leaf=10, clf__estimator__min_samples_split=2 \n",
      "[CV]  clf__estimator__max_depth=50, clf__estimator__min_samples_leaf=10, clf__estimator__min_samples_split=2, total=  14.7s\n",
      "[CV] clf__estimator__max_depth=50, clf__estimator__min_samples_leaf=10, clf__estimator__min_samples_split=2 \n",
      "[CV]  clf__estimator__max_depth=50, clf__estimator__min_samples_leaf=10, clf__estimator__min_samples_split=2, total=  14.8s\n",
      "[CV] clf__estimator__max_depth=50, clf__estimator__min_samples_leaf=10, clf__estimator__min_samples_split=4 \n",
      "[CV]  clf__estimator__max_depth=50, clf__estimator__min_samples_leaf=10, clf__estimator__min_samples_split=4, total=  14.9s\n",
      "[CV] clf__estimator__max_depth=50, clf__estimator__min_samples_leaf=10, clf__estimator__min_samples_split=4 \n",
      "[CV]  clf__estimator__max_depth=50, clf__estimator__min_samples_leaf=10, clf__estimator__min_samples_split=4, total=  14.8s\n",
      "[CV] clf__estimator__max_depth=50, clf__estimator__min_samples_leaf=10, clf__estimator__min_samples_split=4 \n",
      "[CV]  clf__estimator__max_depth=50, clf__estimator__min_samples_leaf=10, clf__estimator__min_samples_split=4, total=  14.7s\n",
      "[CV] clf__estimator__max_depth=None, clf__estimator__min_samples_leaf=2, clf__estimator__min_samples_split=2 \n",
      "[CV]  clf__estimator__max_depth=None, clf__estimator__min_samples_leaf=2, clf__estimator__min_samples_split=2, total=  26.3s\n",
      "[CV] clf__estimator__max_depth=None, clf__estimator__min_samples_leaf=2, clf__estimator__min_samples_split=2 \n",
      "[CV]  clf__estimator__max_depth=None, clf__estimator__min_samples_leaf=2, clf__estimator__min_samples_split=2, total=  26.6s\n",
      "[CV] clf__estimator__max_depth=None, clf__estimator__min_samples_leaf=2, clf__estimator__min_samples_split=2 \n",
      "[CV]  clf__estimator__max_depth=None, clf__estimator__min_samples_leaf=2, clf__estimator__min_samples_split=2, total=  26.6s\n",
      "[CV] clf__estimator__max_depth=None, clf__estimator__min_samples_leaf=2, clf__estimator__min_samples_split=4 \n",
      "[CV]  clf__estimator__max_depth=None, clf__estimator__min_samples_leaf=2, clf__estimator__min_samples_split=4, total=  26.4s\n",
      "[CV] clf__estimator__max_depth=None, clf__estimator__min_samples_leaf=2, clf__estimator__min_samples_split=4 \n",
      "[CV]  clf__estimator__max_depth=None, clf__estimator__min_samples_leaf=2, clf__estimator__min_samples_split=4, total=  26.6s\n",
      "[CV] clf__estimator__max_depth=None, clf__estimator__min_samples_leaf=2, clf__estimator__min_samples_split=4 \n",
      "[CV]  clf__estimator__max_depth=None, clf__estimator__min_samples_leaf=2, clf__estimator__min_samples_split=4, total=  26.3s\n",
      "[CV] clf__estimator__max_depth=None, clf__estimator__min_samples_leaf=5, clf__estimator__min_samples_split=2 \n",
      "[CV]  clf__estimator__max_depth=None, clf__estimator__min_samples_leaf=5, clf__estimator__min_samples_split=2, total=  20.7s\n",
      "[CV] clf__estimator__max_depth=None, clf__estimator__min_samples_leaf=5, clf__estimator__min_samples_split=2 \n",
      "[CV]  clf__estimator__max_depth=None, clf__estimator__min_samples_leaf=5, clf__estimator__min_samples_split=2, total=  20.6s\n",
      "[CV] clf__estimator__max_depth=None, clf__estimator__min_samples_leaf=5, clf__estimator__min_samples_split=2 \n",
      "[CV]  clf__estimator__max_depth=None, clf__estimator__min_samples_leaf=5, clf__estimator__min_samples_split=2, total=  20.4s\n",
      "[CV] clf__estimator__max_depth=None, clf__estimator__min_samples_leaf=5, clf__estimator__min_samples_split=4 \n",
      "[CV]  clf__estimator__max_depth=None, clf__estimator__min_samples_leaf=5, clf__estimator__min_samples_split=4, total=  20.5s\n",
      "[CV] clf__estimator__max_depth=None, clf__estimator__min_samples_leaf=5, clf__estimator__min_samples_split=4 \n",
      "[CV]  clf__estimator__max_depth=None, clf__estimator__min_samples_leaf=5, clf__estimator__min_samples_split=4, total=  20.6s\n",
      "[CV] clf__estimator__max_depth=None, clf__estimator__min_samples_leaf=5, clf__estimator__min_samples_split=4 \n",
      "[CV]  clf__estimator__max_depth=None, clf__estimator__min_samples_leaf=5, clf__estimator__min_samples_split=4, total=  20.4s\n",
      "[CV] clf__estimator__max_depth=None, clf__estimator__min_samples_leaf=10, clf__estimator__min_samples_split=2 \n",
      "[CV]  clf__estimator__max_depth=None, clf__estimator__min_samples_leaf=10, clf__estimator__min_samples_split=2, total=  17.0s\n",
      "[CV] clf__estimator__max_depth=None, clf__estimator__min_samples_leaf=10, clf__estimator__min_samples_split=2 \n",
      "[CV]  clf__estimator__max_depth=None, clf__estimator__min_samples_leaf=10, clf__estimator__min_samples_split=2, total=  17.1s\n",
      "[CV] clf__estimator__max_depth=None, clf__estimator__min_samples_leaf=10, clf__estimator__min_samples_split=2 \n",
      "[CV]  clf__estimator__max_depth=None, clf__estimator__min_samples_leaf=10, clf__estimator__min_samples_split=2, total=  16.9s\n",
      "[CV] clf__estimator__max_depth=None, clf__estimator__min_samples_leaf=10, clf__estimator__min_samples_split=4 \n",
      "[CV]  clf__estimator__max_depth=None, clf__estimator__min_samples_leaf=10, clf__estimator__min_samples_split=4, total=  17.1s\n",
      "[CV] clf__estimator__max_depth=None, clf__estimator__min_samples_leaf=10, clf__estimator__min_samples_split=4 \n",
      "[CV]  clf__estimator__max_depth=None, clf__estimator__min_samples_leaf=10, clf__estimator__min_samples_split=4, total=  17.1s\n",
      "[CV] clf__estimator__max_depth=None, clf__estimator__min_samples_leaf=10, clf__estimator__min_samples_split=4 \n",
      "[CV]  clf__estimator__max_depth=None, clf__estimator__min_samples_leaf=10, clf__estimator__min_samples_split=4, total=  17.1s\n"
     ]
    },
    {
     "name": "stderr",
     "output_type": "stream",
     "text": [
      "[Parallel(n_jobs=1)]: Done  54 out of  54 | elapsed: 20.4min finished\n"
     ]
    }
   ],
   "source": [
    "cv = GridSearchCV(pipeline, param_grid = parameters,verbose = 2)\n",
    "np.random.seed(42)\n",
    "y_pred2 = cv.fit(X_train, Y_train)"
   ]
  },
  {
   "cell_type": "code",
   "execution_count": 24,
   "metadata": {
    "scrolled": true
   },
   "outputs": [
    {
     "ename": "ValueError",
     "evalue": "Unknown label type: (       related  request  offer  aid_related  medical_help  medical_products  \\\n7917         1        0      0            0             0                 0   \n25322        1        0      0            0             0                 0   \n22191        1        0      0            1             0                 0   \n18442        0        0      0            0             0                 0   \n1336         0        0      0            0             0                 0   \n24449        1        0      1            1             1                 0   \n7976         0        0      0            0             0                 0   \n17210        1        0      0            0             0                 0   \n14652        1        0      0            1             0                 0   \n20339        0        0      0            0             0                 0   \n9317         0        0      0            0             0                 0   \n25097        1        0      0            1             1                 1   \n19871        1        0      0            0             0                 0   \n9246         1        0      0            0             0                 0   \n3776         1        1      0            1             1                 0   \n16581        1        0      0            0             0                 0   \n20736        1        0      0            1             0                 0   \n21706        1        0      0            1             0                 0   \n5227         0        0      0            0             0                 0   \n9254         1        0      0            0             0                 0   \n10201        1        0      0            0             0                 0   \n23850        1        0      0            0             0                 0   \n25077        1        0      0            0             0                 0   \n20388        1        0      0            0             0                 0   \n26051        1        0      0            0             0                 0   \n17686        1        0      0            0             0                 0   \n1427         0        0      0            0             0                 0   \n8214         1        0      0            1             0                 0   \n17425        0        0      0            0             0                 0   \n1347         1        0      0            0             0                 0   \n...        ...      ...    ...          ...           ...               ...   \n977          1        1      0            1             0                 0   \n17292        0        0      0            0             0                 0   \n9684         0        0      0            0             0                 0   \n18234        1        1      0            1             0                 0   \n10810        1        0      0            1             0                 0   \n23358        1        0      0            1             0                 0   \n5157         1        0      0            0             0                 0   \n4701         1        1      0            1             0                 0   \n21565        1        0      0            1             0                 0   \n14216        0        0      0            0             0                 0   \n24470        1        0      0            1             0                 0   \n8105         1        1      0            1             0                 0   \n8629         0        0      0            0             0                 0   \n13905        1        0      0            0             0                 0   \n20373        1        0      0            0             0                 0   \n19172        1        0      0            0             0                 0   \n7668         1        1      0            1             0                 0   \n9441         0        0      0            0             0                 0   \n16373        1        1      0            1             0                 0   \n24197        1        0      0            1             0                 0   \n19828        1        0      0            0             0                 0   \n22628        1        0      0            1             1                 0   \n17805        1        0      0            0             0                 0   \n88           1        1      0            1             1                 0   \n3801         1        1      0            1             0                 0   \n19353        1        0      0            1             0                 0   \n19351        1        0      0            0             0                 0   \n13308        1        0      0            0             0                 0   \n22471        0        0      0            0             0                 0   \n21855        1        0      0            0             0                 0   \n\n       search_and_rescue  security  military  child_alone      ...        \\\n7917                   0         0         0            0      ...         \n25322                  0         0         0            0      ...         \n22191                  0         0         0            0      ...         \n18442                  0         0         0            0      ...         \n1336                   0         0         0            0      ...         \n24449                  0         0         0            0      ...         \n7976                   0         0         0            0      ...         \n17210                  0         0         0            0      ...         \n14652                  0         0         0            0      ...         \n20339                  0         0         0            0      ...         \n9317                   0         0         0            0      ...         \n25097                  0         0         0            0      ...         \n19871                  0         0         0            0      ...         \n9246                   0         0         0            0      ...         \n3776                   0         0         0            0      ...         \n16581                  0         0         0            0      ...         \n20736                  0         0         0            0      ...         \n21706                  0         0         0            0      ...         \n5227                   0         0         0            0      ...         \n9254                   0         0         0            0      ...         \n10201                  0         0         0            0      ...         \n23850                  0         0         0            0      ...         \n25077                  0         0         0            0      ...         \n20388                  0         0         0            0      ...         \n26051                  0         0         0            0      ...         \n17686                  0         0         0            0      ...         \n1427                   0         0         0            0      ...         \n8214                   0         0         1            0      ...         \n17425                  0         0         0            0      ...         \n1347                   0         0         0            0      ...         \n...                  ...       ...       ...          ...      ...         \n977                    0         0         0            0      ...         \n17292                  0         0         0            0      ...         \n9684                   0         0         0            0      ...         \n18234                  0         0         0            0      ...         \n10810                  0         0         0            0      ...         \n23358                  0         1         1            0      ...         \n5157                   0         0         0            0      ...         \n4701                   0         0         0            0      ...         \n21565                  0         0         0            0      ...         \n14216                  0         0         0            0      ...         \n24470                  0         0         0            0      ...         \n8105                   0         0         0            0      ...         \n8629                   0         0         0            0      ...         \n13905                  0         0         0            0      ...         \n20373                  0         0         0            0      ...         \n19172                  0         0         0            0      ...         \n7668                   0         0         0            0      ...         \n9441                   0         0         0            0      ...         \n16373                  0         0         0            0      ...         \n24197                  0         0         0            0      ...         \n19828                  0         0         0            0      ...         \n22628                  1         0         0            0      ...         \n17805                  0         0         0            0      ...         \n88                     0         0         0            0      ...         \n3801                   0         0         0            0      ...         \n19353                  0         0         1            0      ...         \n19351                  0         0         0            0      ...         \n13308                  0         0         0            0      ...         \n22471                  0         0         0            0      ...         \n21855                  0         0         0            0      ...         \n\n       aid_centers  other_infrastructure  weather_related  floods  storm  \\\n7917             0                     0                0       0      0   \n25322            0                     0                0       0      0   \n22191            0                     0                1       0      0   \n18442            0                     0                0       0      0   \n1336             0                     0                0       0      0   \n24449            0                     0                0       0      0   \n7976             0                     0                0       0      0   \n17210            0                     0                1       0      1   \n14652            0                     0                1       0      0   \n20339            0                     0                0       0      0   \n9317             0                     0                0       0      0   \n25097            0                     0                0       0      0   \n19871            0                     1                0       0      0   \n9246             0                     0                0       0      0   \n3776             0                     0                0       0      0   \n16581            0                     0                1       0      0   \n20736            0                     0                0       0      0   \n21706            0                     0                0       0      0   \n5227             0                     0                0       0      0   \n9254             0                     0                1       0      1   \n10201            0                     0                1       0      0   \n23850            0                     0                0       0      0   \n25077            0                     0                0       0      0   \n20388            0                     0                0       0      0   \n26051            0                     0                0       0      0   \n17686            0                     0                0       0      0   \n1427             0                     0                0       0      0   \n8214             0                     0                1       0      0   \n17425            0                     0                0       0      0   \n1347             0                     0                0       0      0   \n...            ...                   ...              ...     ...    ...   \n977              0                     0                0       0      0   \n17292            0                     0                0       0      0   \n9684             0                     0                0       0      0   \n18234            0                     0                0       0      0   \n10810            0                     0                0       0      0   \n23358            0                     0                0       0      0   \n5157             1                     0                0       0      0   \n4701             0                     0                0       0      0   \n21565            0                     0                0       0      0   \n14216            0                     0                0       0      0   \n24470            0                     0                0       0      0   \n8105             0                     0                0       0      0   \n8629             0                     0                0       0      0   \n13905            0                     0                1       0      0   \n20373            0                     0                1       0      1   \n19172            0                     0                0       0      0   \n7668             0                     0                0       0      0   \n9441             0                     0                0       0      0   \n16373            0                     0                1       0      0   \n24197            0                     0                0       0      0   \n19828            0                     0                0       0      0   \n22628            0                     0                0       0      0   \n17805            0                     0                1       0      0   \n88               0                     0                0       0      0   \n3801             0                     0                0       0      0   \n19353            0                     0                0       0      0   \n19351            0                     0                0       0      0   \n13308            0                     0                1       0      1   \n22471            0                     0                0       0      0   \n21855            0                     0                0       0      0   \n\n       fire  earthquake  cold  other_weather  direct_report  \n7917      0           0     0              0              0  \n25322     0           0     0              0              0  \n22191     0           0     1              1              0  \n18442     0           0     0              0              0  \n1336      0           0     0              0              0  \n24449     0           0     0              0              0  \n7976      0           0     0              0              0  \n17210     0           0     0              0              1  \n14652     0           1     0              0              0  \n20339     0           0     0              0              0  \n9317      0           0     0              0              0  \n25097     0           0     0              0              0  \n19871     0           0     0              0              0  \n9246      0           0     0              0              0  \n3776      0           0     0              0              1  \n16581     1           0     0              0              0  \n20736     0           0     0              0              0  \n21706     0           0     0              0              0  \n5227      0           0     0              0              0  \n9254      0           0     0              1              0  \n10201     0           1     0              1              0  \n23850     0           0     0              0              0  \n25077     0           0     0              0              1  \n20388     0           0     0              0              0  \n26051     0           0     0              0              0  \n17686     0           0     0              0              0  \n1427      0           0     0              0              0  \n8214      0           0     1              0              1  \n17425     0           0     0              0              0  \n1347      0           0     0              0              0  \n...     ...         ...   ...            ...            ...  \n977       0           0     0              0              1  \n17292     0           0     0              0              0  \n9684      0           0     0              0              0  \n18234     0           0     0              0              0  \n10810     0           0     0              0              0  \n23358     0           0     0              0              0  \n5157      0           0     0              0              0  \n4701      0           0     0              0              1  \n21565     0           0     0              0              0  \n14216     0           0     0              0              0  \n24470     0           0     0              0              0  \n8105      0           0     0              0              1  \n8629      0           0     0              0              0  \n13905     1           0     0              0              0  \n20373     0           1     0              0              1  \n19172     0           0     0              0              0  \n7668      0           0     0              0              1  \n9441      0           0     0              0              0  \n16373     0           0     0              1              0  \n24197     0           0     0              0              0  \n19828     0           0     0              0              0  \n22628     0           0     0              0              0  \n17805     0           1     0              0              0  \n88        0           0     0              0              0  \n3801      0           0     0              0              1  \n19353     0           0     0              0              0  \n19351     0           0     0              0              1  \n13308     0           0     0              0              0  \n22471     0           0     0              0              0  \n21855     0           0     0              0              0  \n\n[6554 rows x 36 columns], array([[1, 0, 0, ..., 0, 0, 0],\n       [1, 0, 0, ..., 0, 0, 0],\n       [1, 0, 0, ..., 0, 0, 0],\n       ..., \n       [1, 0, 0, ..., 0, 0, 0],\n       [1, 0, 0, ..., 0, 0, 0],\n       [1, 0, 0, ..., 0, 0, 0]]))",
     "output_type": "error",
     "traceback": [
      "\u001b[0;31m---------------------------------------------------------------------------\u001b[0m",
      "\u001b[0;31mValueError\u001b[0m                                Traceback (most recent call last)",
      "\u001b[0;32m<ipython-input-24-12506715b61c>\u001b[0m in \u001b[0;36m<module>\u001b[0;34m()\u001b[0m\n\u001b[1;32m      1\u001b[0m \u001b[0mprediction2\u001b[0m \u001b[0;34m=\u001b[0m \u001b[0my_pred2\u001b[0m\u001b[0;34m.\u001b[0m\u001b[0mpredict\u001b[0m\u001b[0;34m(\u001b[0m\u001b[0mX_test\u001b[0m\u001b[0;34m)\u001b[0m\u001b[0;34m\u001b[0m\u001b[0m\n\u001b[1;32m      2\u001b[0m \u001b[0;34m\u001b[0m\u001b[0m\n\u001b[0;32m----> 3\u001b[0;31m \u001b[0mprint\u001b[0m\u001b[0;34m(\u001b[0m\u001b[0mclassification_report\u001b[0m\u001b[0;34m(\u001b[0m\u001b[0mY_test\u001b[0m\u001b[0;34m,\u001b[0m \u001b[0mprediction2\u001b[0m \u001b[0;34m,\u001b[0m \u001b[0mtarget_names\u001b[0m \u001b[0;34m=\u001b[0m \u001b[0mcategory_names\u001b[0m\u001b[0;34m)\u001b[0m\u001b[0;34m)\u001b[0m\u001b[0;34m\u001b[0m\u001b[0m\n\u001b[0m",
      "\u001b[0;32m/opt/conda/lib/python3.6/site-packages/sklearn/metrics/classification.py\u001b[0m in \u001b[0;36mclassification_report\u001b[0;34m(y_true, y_pred, labels, target_names, sample_weight, digits)\u001b[0m\n\u001b[1;32m   1419\u001b[0m \u001b[0;34m\u001b[0m\u001b[0m\n\u001b[1;32m   1420\u001b[0m     \u001b[0;32mif\u001b[0m \u001b[0mlabels\u001b[0m \u001b[0;32mis\u001b[0m \u001b[0;32mNone\u001b[0m\u001b[0;34m:\u001b[0m\u001b[0;34m\u001b[0m\u001b[0m\n\u001b[0;32m-> 1421\u001b[0;31m         \u001b[0mlabels\u001b[0m \u001b[0;34m=\u001b[0m \u001b[0munique_labels\u001b[0m\u001b[0;34m(\u001b[0m\u001b[0my_true\u001b[0m\u001b[0;34m,\u001b[0m \u001b[0my_pred\u001b[0m\u001b[0;34m)\u001b[0m\u001b[0;34m\u001b[0m\u001b[0m\n\u001b[0m\u001b[1;32m   1422\u001b[0m     \u001b[0;32melse\u001b[0m\u001b[0;34m:\u001b[0m\u001b[0;34m\u001b[0m\u001b[0m\n\u001b[1;32m   1423\u001b[0m         \u001b[0mlabels\u001b[0m \u001b[0;34m=\u001b[0m \u001b[0mnp\u001b[0m\u001b[0;34m.\u001b[0m\u001b[0masarray\u001b[0m\u001b[0;34m(\u001b[0m\u001b[0mlabels\u001b[0m\u001b[0;34m)\u001b[0m\u001b[0;34m\u001b[0m\u001b[0m\n",
      "\u001b[0;32m/opt/conda/lib/python3.6/site-packages/sklearn/utils/multiclass.py\u001b[0m in \u001b[0;36munique_labels\u001b[0;34m(*ys)\u001b[0m\n\u001b[1;32m     95\u001b[0m     \u001b[0m_unique_labels\u001b[0m \u001b[0;34m=\u001b[0m \u001b[0m_FN_UNIQUE_LABELS\u001b[0m\u001b[0;34m.\u001b[0m\u001b[0mget\u001b[0m\u001b[0;34m(\u001b[0m\u001b[0mlabel_type\u001b[0m\u001b[0;34m,\u001b[0m \u001b[0;32mNone\u001b[0m\u001b[0;34m)\u001b[0m\u001b[0;34m\u001b[0m\u001b[0m\n\u001b[1;32m     96\u001b[0m     \u001b[0;32mif\u001b[0m \u001b[0;32mnot\u001b[0m \u001b[0m_unique_labels\u001b[0m\u001b[0;34m:\u001b[0m\u001b[0;34m\u001b[0m\u001b[0m\n\u001b[0;32m---> 97\u001b[0;31m         \u001b[0;32mraise\u001b[0m \u001b[0mValueError\u001b[0m\u001b[0;34m(\u001b[0m\u001b[0;34m\"Unknown label type: %s\"\u001b[0m \u001b[0;34m%\u001b[0m \u001b[0mrepr\u001b[0m\u001b[0;34m(\u001b[0m\u001b[0mys\u001b[0m\u001b[0;34m)\u001b[0m\u001b[0;34m)\u001b[0m\u001b[0;34m\u001b[0m\u001b[0m\n\u001b[0m\u001b[1;32m     98\u001b[0m \u001b[0;34m\u001b[0m\u001b[0m\n\u001b[1;32m     99\u001b[0m     \u001b[0mys_labels\u001b[0m \u001b[0;34m=\u001b[0m \u001b[0mset\u001b[0m\u001b[0;34m(\u001b[0m\u001b[0mchain\u001b[0m\u001b[0;34m.\u001b[0m\u001b[0mfrom_iterable\u001b[0m\u001b[0;34m(\u001b[0m\u001b[0m_unique_labels\u001b[0m\u001b[0;34m(\u001b[0m\u001b[0my\u001b[0m\u001b[0;34m)\u001b[0m \u001b[0;32mfor\u001b[0m \u001b[0my\u001b[0m \u001b[0;32min\u001b[0m \u001b[0mys\u001b[0m\u001b[0;34m)\u001b[0m\u001b[0;34m)\u001b[0m\u001b[0;34m\u001b[0m\u001b[0m\n",
      "\u001b[0;31mValueError\u001b[0m: Unknown label type: (       related  request  offer  aid_related  medical_help  medical_products  \\\n7917         1        0      0            0             0                 0   \n25322        1        0      0            0             0                 0   \n22191        1        0      0            1             0                 0   \n18442        0        0      0            0             0                 0   \n1336         0        0      0            0             0                 0   \n24449        1        0      1            1             1                 0   \n7976         0        0      0            0             0                 0   \n17210        1        0      0            0             0                 0   \n14652        1        0      0            1             0                 0   \n20339        0        0      0            0             0                 0   \n9317         0        0      0            0             0                 0   \n25097        1        0      0            1             1                 1   \n19871        1        0      0            0             0                 0   \n9246         1        0      0            0             0                 0   \n3776         1        1      0            1             1                 0   \n16581        1        0      0            0             0                 0   \n20736        1        0      0            1             0                 0   \n21706        1        0      0            1             0                 0   \n5227         0        0      0            0             0                 0   \n9254         1        0      0            0             0                 0   \n10201        1        0      0            0             0                 0   \n23850        1        0      0            0             0                 0   \n25077        1        0      0            0             0                 0   \n20388        1        0      0            0             0                 0   \n26051        1        0      0            0             0                 0   \n17686        1        0      0            0             0                 0   \n1427         0        0      0            0             0                 0   \n8214         1        0      0            1             0                 0   \n17425        0        0      0            0             0                 0   \n1347         1        0      0            0             0                 0   \n...        ...      ...    ...          ...           ...               ...   \n977          1        1      0            1             0                 0   \n17292        0        0      0            0             0                 0   \n9684         0        0      0            0             0                 0   \n18234        1        1      0            1             0                 0   \n10810        1        0      0            1             0                 0   \n23358        1        0      0            1             0                 0   \n5157         1        0      0            0             0                 0   \n4701         1        1      0            1             0                 0   \n21565        1        0      0            1             0                 0   \n14216        0        0      0            0             0                 0   \n24470        1        0      0            1             0                 0   \n8105         1        1      0            1             0                 0   \n8629         0        0      0            0             0                 0   \n13905        1        0      0            0             0                 0   \n20373        1        0      0            0             0                 0   \n19172        1        0      0            0             0                 0   \n7668         1        1      0            1             0                 0   \n9441         0        0      0            0             0                 0   \n16373        1        1      0            1             0                 0   \n24197        1        0      0            1             0                 0   \n19828        1        0      0            0             0                 0   \n22628        1        0      0            1             1                 0   \n17805        1        0      0            0             0                 0   \n88           1        1      0            1             1                 0   \n3801         1        1      0            1             0                 0   \n19353        1        0      0            1             0                 0   \n19351        1        0      0            0             0                 0   \n13308        1        0      0            0             0                 0   \n22471        0        0      0            0             0                 0   \n21855        1        0      0            0             0                 0   \n\n       search_and_rescue  security  military  child_alone      ...        \\\n7917                   0         0         0            0      ...         \n25322                  0         0         0            0      ...         \n22191                  0         0         0            0      ...         \n18442                  0         0         0            0      ...         \n1336                   0         0         0            0      ...         \n24449                  0         0         0            0      ...         \n7976                   0         0         0            0      ...         \n17210                  0         0         0            0      ...         \n14652                  0         0         0            0      ...         \n20339                  0         0         0            0      ...         \n9317                   0         0         0            0      ...         \n25097                  0         0         0            0      ...         \n19871                  0         0         0            0      ...         \n9246                   0         0         0            0      ...         \n3776                   0         0         0            0      ...         \n16581                  0         0         0            0      ...         \n20736                  0         0         0            0      ...         \n21706                  0         0         0            0      ...         \n5227                   0         0         0            0      ...         \n9254                   0         0         0            0      ...         \n10201                  0         0         0            0      ...         \n23850                  0         0         0            0      ...         \n25077                  0         0         0            0      ...         \n20388                  0         0         0            0      ...         \n26051                  0         0         0            0      ...         \n17686                  0         0         0            0      ...         \n1427                   0         0         0            0      ...         \n8214                   0         0         1            0      ...         \n17425                  0         0         0            0      ...         \n1347                   0         0         0            0      ...         \n...                  ...       ...       ...          ...      ...         \n977                    0         0         0            0      ...         \n17292                  0         0         0            0      ...         \n9684                   0         0         0            0      ...         \n18234                  0         0         0            0      ...         \n10810                  0         0         0            0      ...         \n23358                  0         1         1            0      ...         \n5157                   0         0         0            0      ...         \n4701                   0         0         0            0      ...         \n21565                  0         0         0            0      ...         \n14216                  0         0         0            0      ...         \n24470                  0         0         0            0      ...         \n8105                   0         0         0            0      ...         \n8629                   0         0         0            0      ...         \n13905                  0         0         0            0      ...         \n20373                  0         0         0            0      ...         \n19172                  0         0         0            0      ...         \n7668                   0         0         0            0      ...         \n9441                   0         0         0            0      ...         \n16373                  0         0         0            0      ...         \n24197                  0         0         0            0      ...         \n19828                  0         0         0            0      ...         \n22628                  1         0         0            0      ...         \n17805                  0         0         0            0      ...         \n88                     0         0         0            0      ...         \n3801                   0         0         0            0      ...         \n19353                  0         0         1            0      ...         \n19351                  0         0         0            0      ...         \n13308                  0         0         0            0      ...         \n22471                  0         0         0            0      ...         \n21855                  0         0         0            0      ...         \n\n       aid_centers  other_infrastructure  weather_related  floods  storm  \\\n7917             0                     0                0       0      0   \n25322            0                     0                0       0      0   \n22191            0                     0                1       0      0   \n18442            0                     0                0       0      0   \n1336             0                     0                0       0      0   \n24449            0                     0                0       0      0   \n7976             0                     0                0       0      0   \n17210            0                     0                1       0      1   \n14652            0                     0                1       0      0   \n20339            0                     0                0       0      0   \n9317             0                     0                0       0      0   \n25097            0                     0                0       0      0   \n19871            0                     1                0       0      0   \n9246             0                     0                0       0      0   \n3776             0                     0                0       0      0   \n16581            0                     0                1       0      0   \n20736            0                     0                0       0      0   \n21706            0                     0                0       0      0   \n5227             0                     0                0       0      0   \n9254             0                     0                1       0      1   \n10201            0                     0                1       0      0   \n23850            0                     0                0       0      0   \n25077            0                     0                0       0      0   \n20388            0                     0                0       0      0   \n26051            0                     0                0       0      0   \n17686            0                     0                0       0      0   \n1427             0                     0                0       0      0   \n8214             0                     0                1       0      0   \n17425            0                     0                0       0      0   \n1347             0                     0                0       0      0   \n...            ...                   ...              ...     ...    ...   \n977              0                     0                0       0      0   \n17292            0                     0                0       0      0   \n9684             0                     0                0       0      0   \n18234            0                     0                0       0      0   \n10810            0                     0                0       0      0   \n23358            0                     0                0       0      0   \n5157             1                     0                0       0      0   \n4701             0                     0                0       0      0   \n21565            0                     0                0       0      0   \n14216            0                     0                0       0      0   \n24470            0                     0                0       0      0   \n8105             0                     0                0       0      0   \n8629             0                     0                0       0      0   \n13905            0                     0                1       0      0   \n20373            0                     0                1       0      1   \n19172            0                     0                0       0      0   \n7668             0                     0                0       0      0   \n9441             0                     0                0       0      0   \n16373            0                     0                1       0      0   \n24197            0                     0                0       0      0   \n19828            0                     0                0       0      0   \n22628            0                     0                0       0      0   \n17805            0                     0                1       0      0   \n88               0                     0                0       0      0   \n3801             0                     0                0       0      0   \n19353            0                     0                0       0      0   \n19351            0                     0                0       0      0   \n13308            0                     0                1       0      1   \n22471            0                     0                0       0      0   \n21855            0                     0                0       0      0   \n\n       fire  earthquake  cold  other_weather  direct_report  \n7917      0           0     0              0              0  \n25322     0           0     0              0              0  \n22191     0           0     1              1              0  \n18442     0           0     0              0              0  \n1336      0           0     0              0              0  \n24449     0           0     0              0              0  \n7976      0           0     0              0              0  \n17210     0           0     0              0              1  \n14652     0           1     0              0              0  \n20339     0           0     0              0              0  \n9317      0           0     0              0              0  \n25097     0           0     0              0              0  \n19871     0           0     0              0              0  \n9246      0           0     0              0              0  \n3776      0           0     0              0              1  \n16581     1           0     0              0              0  \n20736     0           0     0              0              0  \n21706     0           0     0              0              0  \n5227      0           0     0              0              0  \n9254      0           0     0              1              0  \n10201     0           1     0              1              0  \n23850     0           0     0              0              0  \n25077     0           0     0              0              1  \n20388     0           0     0              0              0  \n26051     0           0     0              0              0  \n17686     0           0     0              0              0  \n1427      0           0     0              0              0  \n8214      0           0     1              0              1  \n17425     0           0     0              0              0  \n1347      0           0     0              0              0  \n...     ...         ...   ...            ...            ...  \n977       0           0     0              0              1  \n17292     0           0     0              0              0  \n9684      0           0     0              0              0  \n18234     0           0     0              0              0  \n10810     0           0     0              0              0  \n23358     0           0     0              0              0  \n5157      0           0     0              0              0  \n4701      0           0     0              0              1  \n21565     0           0     0              0              0  \n14216     0           0     0              0              0  \n24470     0           0     0              0              0  \n8105      0           0     0              0              1  \n8629      0           0     0              0              0  \n13905     1           0     0              0              0  \n20373     0           1     0              0              1  \n19172     0           0     0              0              0  \n7668      0           0     0              0              1  \n9441      0           0     0              0              0  \n16373     0           0     0              1              0  \n24197     0           0     0              0              0  \n19828     0           0     0              0              0  \n22628     0           0     0              0              0  \n17805     0           1     0              0              0  \n88        0           0     0              0              0  \n3801      0           0     0              0              1  \n19353     0           0     0              0              0  \n19351     0           0     0              0              1  \n13308     0           0     0              0              0  \n22471     0           0     0              0              0  \n21855     0           0     0              0              0  \n\n[6554 rows x 36 columns], array([[1, 0, 0, ..., 0, 0, 0],\n       [1, 0, 0, ..., 0, 0, 0],\n       [1, 0, 0, ..., 0, 0, 0],\n       ..., \n       [1, 0, 0, ..., 0, 0, 0],\n       [1, 0, 0, ..., 0, 0, 0],\n       [1, 0, 0, ..., 0, 0, 0]]))"
     ]
    }
   ],
   "source": [
    "prediction2 = y_pred2.predict(X_test)\n",
    "\n",
    "print(classification_report(Y_test, prediction2 , target_names = category_names))"
   ]
  },
  {
   "cell_type": "code",
   "execution_count": null,
   "metadata": {},
   "outputs": [],
   "source": []
  },
  {
   "cell_type": "markdown",
   "metadata": {},
   "source": [
    "### 8. Try improving your model further. Here are a few ideas:\n",
    "* try other machine learning algorithms\n",
    "* add other features besides the TF-IDF"
   ]
  },
  {
   "cell_type": "code",
   "execution_count": null,
   "metadata": {},
   "outputs": [],
   "source": [
    "pipeline2 = Pipeline([\n",
    "        ('features', FeatureUnion([\n",
    "\n",
    "            ('text_pipeline', Pipeline([\n",
    "                ('count_vectorizer', CountVectorizer(tokenizer=tokenize)),\n",
    "                ('tfidf_transformer', TfidfTransformer())\n",
    "            ])),\n",
    "       ])),\n",
    "\n",
    "        ('classifier', MultiOutputClassifier(AdaBoostClassifier()))\n",
    "    ])"
   ]
  },
  {
   "cell_type": "code",
   "execution_count": null,
   "metadata": {},
   "outputs": [],
   "source": [
    "X_train, X_test, y_train, y_test = train_test_split(X, y, random_state=42)\n",
    "\n",
    "pipeline2.fit(X_train, Y_train)"
   ]
  },
  {
   "cell_type": "code",
   "execution_count": null,
   "metadata": {},
   "outputs": [],
   "source": [
    "y_pred3 = pipeline2.predict(X_test)\n",
    "\n",
    "print(classification_report(Y_test, y_pred3, target_names = category_names))"
   ]
  },
  {
   "cell_type": "markdown",
   "metadata": {},
   "source": [
    "### 9. Export your model as a pickle file"
   ]
  },
  {
   "cell_type": "code",
   "execution_count": null,
   "metadata": {},
   "outputs": [],
   "source": [
    "# Pickle best model\n",
    "#pickle.dump(y_pred2, open('disaster_model.sav', 'wb'))"
   ]
  },
  {
   "cell_type": "markdown",
   "metadata": {},
   "source": [
    "### 10. Use this notebook to complete `train.py`\n",
    "Use the template file attached in the Resources folder to write a script that runs the steps above to create a database and export a model based on a new dataset specified by the user."
   ]
  },
  {
   "cell_type": "code",
   "execution_count": null,
   "metadata": {},
   "outputs": [],
   "source": []
  },
  {
   "cell_type": "code",
   "execution_count": null,
   "metadata": {},
   "outputs": [],
   "source": []
  }
 ],
 "metadata": {
  "kernelspec": {
   "display_name": "Python 3",
   "language": "python",
   "name": "python3"
  },
  "language_info": {
   "codemirror_mode": {
    "name": "ipython",
    "version": 3
   },
   "file_extension": ".py",
   "mimetype": "text/x-python",
   "name": "python",
   "nbconvert_exporter": "python",
   "pygments_lexer": "ipython3",
   "version": "3.6.3"
  }
 },
 "nbformat": 4,
 "nbformat_minor": 2
}
