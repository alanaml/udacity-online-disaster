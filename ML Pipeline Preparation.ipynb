{
 "cells": [
  {
   "cell_type": "markdown",
   "metadata": {},
   "source": [
    "# ML Pipeline Preparation\n",
    "Follow the instructions below to help you create your ML pipeline.\n",
    "### 1. Import libraries and load data from database.\n",
    "- Import Python libraries\n",
    "- Load dataset from database with [`read_sql_table`](https://pandas.pydata.org/pandas-docs/stable/generated/pandas.read_sql_table.html)\n",
    "- Define feature and target variables X and Y"
   ]
  },
  {
   "cell_type": "code",
   "execution_count": 1,
   "metadata": {},
   "outputs": [
    {
     "name": "stdout",
     "output_type": "stream",
     "text": [
      "[nltk_data] Downloading package stopwords to /root/nltk_data...\n",
      "[nltk_data]   Unzipping corpora/stopwords.zip.\n",
      "[nltk_data] Downloading package punkt to /root/nltk_data...\n",
      "[nltk_data]   Unzipping tokenizers/punkt.zip.\n",
      "[nltk_data] Downloading package wordnet to /root/nltk_data...\n",
      "[nltk_data]   Unzipping corpora/wordnet.zip.\n"
     ]
    }
   ],
   "source": [
    "# import libraries\n",
    "import pandas as pd\n",
    "import numpy as np\n",
    "from sqlalchemy import create_engine\n",
    "import re\n",
    "import os\n",
    "import pickle\n",
    "\n",
    "import nltk\n",
    "nltk.download('stopwords')\n",
    "nltk.download(['punkt', 'wordnet'])\n",
    "from nltk.tokenize import word_tokenize\n",
    "from nltk.tokenize import sent_tokenize\n",
    "from nltk.corpus import stopwords\n",
    "from nltk.stem import WordNetLemmatizer\n",
    "\n",
    "from sklearn.multioutput import MultiOutputClassifier\n",
    "from sklearn.ensemble import AdaBoostClassifier\n",
    "from sklearn.model_selection import train_test_split\n",
    "from sklearn.pipeline import Pipeline, FeatureUnion\n",
    "from sklearn.feature_extraction.text import CountVectorizer, TfidfTransformer\n",
    "from sklearn.ensemble import RandomForestClassifier\n",
    "from sklearn.datasets import make_multilabel_classification\n",
    "from sklearn.metrics import classification_report\n",
    "from sklearn.metrics import confusion_matrix\n",
    "from sklearn.model_selection import GridSearchCV\n",
    "from sklearn.base import BaseEstimator, TransformerMixin\n",
    "from sklearn.svm import SVC\n",
    "\n",
    "from copy import deepcopy\n",
    "\n",
    "url_regex = 'http[s]?://(?:[a-zA-Z]|[0-9]|[$-_@.&+]|[!*\\(\\),]|(?:%[0-9a-fA-F][0-9a-fA-F]))+'"
   ]
  },
  {
   "cell_type": "code",
   "execution_count": 2,
   "metadata": {},
   "outputs": [
    {
     "name": "stdout",
     "output_type": "stream",
     "text": [
      "/home/workspace\n"
     ]
    }
   ],
   "source": [
    "print(os.getcwd())"
   ]
  },
  {
   "cell_type": "code",
   "execution_count": 3,
   "metadata": {},
   "outputs": [],
   "source": [
    "# load data from database\n",
    "engine = create_engine('sqlite:///DisasterResponse.db')\n",
    "df = pd.read_sql_table('DisasterResponse', engine)\n",
    "X = df['message']\n",
    "y = df[df.columns[4:]]\n",
    "#y = df.drop(['message', 'genre', 'id', 'original'], axis=1)"
   ]
  },
  {
   "cell_type": "code",
   "execution_count": 4,
   "metadata": {},
   "outputs": [
    {
     "data": {
      "text/html": [
       "<div>\n",
       "<style scoped>\n",
       "    .dataframe tbody tr th:only-of-type {\n",
       "        vertical-align: middle;\n",
       "    }\n",
       "\n",
       "    .dataframe tbody tr th {\n",
       "        vertical-align: top;\n",
       "    }\n",
       "\n",
       "    .dataframe thead th {\n",
       "        text-align: right;\n",
       "    }\n",
       "</style>\n",
       "<table border=\"1\" class=\"dataframe\">\n",
       "  <thead>\n",
       "    <tr style=\"text-align: right;\">\n",
       "      <th></th>\n",
       "      <th>id</th>\n",
       "      <th>message</th>\n",
       "      <th>original</th>\n",
       "      <th>genre</th>\n",
       "      <th>related</th>\n",
       "      <th>request</th>\n",
       "      <th>offer</th>\n",
       "      <th>aid_related</th>\n",
       "      <th>medical_help</th>\n",
       "      <th>medical_products</th>\n",
       "      <th>...</th>\n",
       "      <th>aid_centers</th>\n",
       "      <th>other_infrastructure</th>\n",
       "      <th>weather_related</th>\n",
       "      <th>floods</th>\n",
       "      <th>storm</th>\n",
       "      <th>fire</th>\n",
       "      <th>earthquake</th>\n",
       "      <th>cold</th>\n",
       "      <th>other_weather</th>\n",
       "      <th>direct_report</th>\n",
       "    </tr>\n",
       "  </thead>\n",
       "  <tbody>\n",
       "    <tr>\n",
       "      <th>0</th>\n",
       "      <td>2</td>\n",
       "      <td>Weather update - a cold front from Cuba that c...</td>\n",
       "      <td>Un front froid se retrouve sur Cuba ce matin. ...</td>\n",
       "      <td>direct</td>\n",
       "      <td>1</td>\n",
       "      <td>0</td>\n",
       "      <td>0</td>\n",
       "      <td>0</td>\n",
       "      <td>0</td>\n",
       "      <td>0</td>\n",
       "      <td>...</td>\n",
       "      <td>0</td>\n",
       "      <td>0</td>\n",
       "      <td>0</td>\n",
       "      <td>0</td>\n",
       "      <td>0</td>\n",
       "      <td>0</td>\n",
       "      <td>0</td>\n",
       "      <td>0</td>\n",
       "      <td>0</td>\n",
       "      <td>0</td>\n",
       "    </tr>\n",
       "    <tr>\n",
       "      <th>1</th>\n",
       "      <td>7</td>\n",
       "      <td>Is the Hurricane over or is it not over</td>\n",
       "      <td>Cyclone nan fini osinon li pa fini</td>\n",
       "      <td>direct</td>\n",
       "      <td>1</td>\n",
       "      <td>0</td>\n",
       "      <td>0</td>\n",
       "      <td>1</td>\n",
       "      <td>0</td>\n",
       "      <td>0</td>\n",
       "      <td>...</td>\n",
       "      <td>0</td>\n",
       "      <td>0</td>\n",
       "      <td>1</td>\n",
       "      <td>0</td>\n",
       "      <td>1</td>\n",
       "      <td>0</td>\n",
       "      <td>0</td>\n",
       "      <td>0</td>\n",
       "      <td>0</td>\n",
       "      <td>0</td>\n",
       "    </tr>\n",
       "    <tr>\n",
       "      <th>2</th>\n",
       "      <td>8</td>\n",
       "      <td>Looking for someone but no name</td>\n",
       "      <td>Patnm, di Maryani relem pou li banm nouvel li ...</td>\n",
       "      <td>direct</td>\n",
       "      <td>1</td>\n",
       "      <td>0</td>\n",
       "      <td>0</td>\n",
       "      <td>0</td>\n",
       "      <td>0</td>\n",
       "      <td>0</td>\n",
       "      <td>...</td>\n",
       "      <td>0</td>\n",
       "      <td>0</td>\n",
       "      <td>0</td>\n",
       "      <td>0</td>\n",
       "      <td>0</td>\n",
       "      <td>0</td>\n",
       "      <td>0</td>\n",
       "      <td>0</td>\n",
       "      <td>0</td>\n",
       "      <td>0</td>\n",
       "    </tr>\n",
       "    <tr>\n",
       "      <th>3</th>\n",
       "      <td>9</td>\n",
       "      <td>UN reports Leogane 80-90 destroyed. Only Hospi...</td>\n",
       "      <td>UN reports Leogane 80-90 destroyed. Only Hospi...</td>\n",
       "      <td>direct</td>\n",
       "      <td>1</td>\n",
       "      <td>1</td>\n",
       "      <td>0</td>\n",
       "      <td>1</td>\n",
       "      <td>0</td>\n",
       "      <td>1</td>\n",
       "      <td>...</td>\n",
       "      <td>0</td>\n",
       "      <td>0</td>\n",
       "      <td>0</td>\n",
       "      <td>0</td>\n",
       "      <td>0</td>\n",
       "      <td>0</td>\n",
       "      <td>0</td>\n",
       "      <td>0</td>\n",
       "      <td>0</td>\n",
       "      <td>0</td>\n",
       "    </tr>\n",
       "    <tr>\n",
       "      <th>4</th>\n",
       "      <td>12</td>\n",
       "      <td>says: west side of Haiti, rest of the country ...</td>\n",
       "      <td>facade ouest d Haiti et le reste du pays aujou...</td>\n",
       "      <td>direct</td>\n",
       "      <td>1</td>\n",
       "      <td>0</td>\n",
       "      <td>0</td>\n",
       "      <td>0</td>\n",
       "      <td>0</td>\n",
       "      <td>0</td>\n",
       "      <td>...</td>\n",
       "      <td>0</td>\n",
       "      <td>0</td>\n",
       "      <td>0</td>\n",
       "      <td>0</td>\n",
       "      <td>0</td>\n",
       "      <td>0</td>\n",
       "      <td>0</td>\n",
       "      <td>0</td>\n",
       "      <td>0</td>\n",
       "      <td>0</td>\n",
       "    </tr>\n",
       "  </tbody>\n",
       "</table>\n",
       "<p>5 rows × 40 columns</p>\n",
       "</div>"
      ],
      "text/plain": [
       "   id                                            message  \\\n",
       "0   2  Weather update - a cold front from Cuba that c...   \n",
       "1   7            Is the Hurricane over or is it not over   \n",
       "2   8                    Looking for someone but no name   \n",
       "3   9  UN reports Leogane 80-90 destroyed. Only Hospi...   \n",
       "4  12  says: west side of Haiti, rest of the country ...   \n",
       "\n",
       "                                            original   genre  related  \\\n",
       "0  Un front froid se retrouve sur Cuba ce matin. ...  direct        1   \n",
       "1                 Cyclone nan fini osinon li pa fini  direct        1   \n",
       "2  Patnm, di Maryani relem pou li banm nouvel li ...  direct        1   \n",
       "3  UN reports Leogane 80-90 destroyed. Only Hospi...  direct        1   \n",
       "4  facade ouest d Haiti et le reste du pays aujou...  direct        1   \n",
       "\n",
       "   request  offer  aid_related  medical_help  medical_products      ...        \\\n",
       "0        0      0            0             0                 0      ...         \n",
       "1        0      0            1             0                 0      ...         \n",
       "2        0      0            0             0                 0      ...         \n",
       "3        1      0            1             0                 1      ...         \n",
       "4        0      0            0             0                 0      ...         \n",
       "\n",
       "   aid_centers  other_infrastructure  weather_related  floods  storm  fire  \\\n",
       "0            0                     0                0       0      0     0   \n",
       "1            0                     0                1       0      1     0   \n",
       "2            0                     0                0       0      0     0   \n",
       "3            0                     0                0       0      0     0   \n",
       "4            0                     0                0       0      0     0   \n",
       "\n",
       "   earthquake  cold  other_weather  direct_report  \n",
       "0           0     0              0              0  \n",
       "1           0     0              0              0  \n",
       "2           0     0              0              0  \n",
       "3           0     0              0              0  \n",
       "4           0     0              0              0  \n",
       "\n",
       "[5 rows x 40 columns]"
      ]
     },
     "execution_count": 4,
     "metadata": {},
     "output_type": "execute_result"
    }
   ],
   "source": [
    "df.head()"
   ]
  },
  {
   "cell_type": "code",
   "execution_count": 5,
   "metadata": {},
   "outputs": [
    {
     "name": "stdout",
     "output_type": "stream",
     "text": [
      "<class 'pandas.core.frame.DataFrame'>\n",
      "RangeIndex: 26216 entries, 0 to 26215\n",
      "Data columns (total 36 columns):\n",
      "related                   26216 non-null int64\n",
      "request                   26216 non-null int64\n",
      "offer                     26216 non-null int64\n",
      "aid_related               26216 non-null int64\n",
      "medical_help              26216 non-null int64\n",
      "medical_products          26216 non-null int64\n",
      "search_and_rescue         26216 non-null int64\n",
      "security                  26216 non-null int64\n",
      "military                  26216 non-null int64\n",
      "child_alone               26216 non-null int64\n",
      "water                     26216 non-null int64\n",
      "food                      26216 non-null int64\n",
      "shelter                   26216 non-null int64\n",
      "clothing                  26216 non-null int64\n",
      "money                     26216 non-null int64\n",
      "missing_people            26216 non-null int64\n",
      "refugees                  26216 non-null int64\n",
      "death                     26216 non-null int64\n",
      "other_aid                 26216 non-null int64\n",
      "infrastructure_related    26216 non-null int64\n",
      "transport                 26216 non-null int64\n",
      "buildings                 26216 non-null int64\n",
      "electricity               26216 non-null int64\n",
      "tools                     26216 non-null int64\n",
      "hospitals                 26216 non-null int64\n",
      "shops                     26216 non-null int64\n",
      "aid_centers               26216 non-null int64\n",
      "other_infrastructure      26216 non-null int64\n",
      "weather_related           26216 non-null int64\n",
      "floods                    26216 non-null int64\n",
      "storm                     26216 non-null int64\n",
      "fire                      26216 non-null int64\n",
      "earthquake                26216 non-null int64\n",
      "cold                      26216 non-null int64\n",
      "other_weather             26216 non-null int64\n",
      "direct_report             26216 non-null int64\n",
      "dtypes: int64(36)\n",
      "memory usage: 7.2 MB\n"
     ]
    }
   ],
   "source": [
    "y.info()"
   ]
  },
  {
   "cell_type": "markdown",
   "metadata": {},
   "source": [
    "### 2. Write a tokenization function to process your text data"
   ]
  },
  {
   "cell_type": "code",
   "execution_count": 6,
   "metadata": {},
   "outputs": [],
   "source": [
    "def tokenize(text):\n",
    "    # normalized text and remove punctuation\n",
    "    text = re.sub(r\"[^a-zA-Z0-9]\", \" \", text.lower())\n",
    "    # Extract all the urls from the provided text\n",
    "    detected_urls = re.findall(url_regex, text)\n",
    "    # Replace url with a url placeholder string\n",
    "    for url in detected_urls:\n",
    "        text = text.replace(url, \"urlplaceholder\")\n",
    "    # Extract the word tokens from the provided text\n",
    "    tokens = nltk.word_tokenize(text)\n",
    "    # Lemmanitizer to remove inflectional and derivationally related forms of a word\n",
    "    lemmatizer = nltk.WordNetLemmatizer()\n",
    "\n",
    "    clean_tokens = [lemmatizer.lemmatize(w).lower().strip() for w in tokens]\n",
    "    # List of clean tokens\n",
    "    return clean_tokens\n"
   ]
  },
  {
   "cell_type": "markdown",
   "metadata": {},
   "source": [
    "### 3. Build a machine learning pipeline\n",
    "This machine pipeline should take in the `message` column as input and output classification results on the other 36 categories in the dataset. You may find the [MultiOutputClassifier](http://scikit-learn.org/stable/modules/generated/sklearn.multioutput.MultiOutputClassifier.html) helpful for predicting multiple target variables."
   ]
  },
  {
   "cell_type": "code",
   "execution_count": 7,
   "metadata": {},
   "outputs": [],
   "source": [
    "#using MultiOutputClassifier to build an ML pipeline\n",
    "pipeline = Pipeline([\n",
    "    ('vect', CountVectorizer(tokenizer=tokenize)),\n",
    "    ('tfidf', TfidfTransformer()),\n",
    "    ('clf', MultiOutputClassifier(RandomForestClassifier())),  \n",
    "])\n"
   ]
  },
  {
   "cell_type": "markdown",
   "metadata": {},
   "source": [
    "### 4. Train pipeline\n",
    "- Split data into train and test sets\n",
    "- Train pipeline"
   ]
  },
  {
   "cell_type": "code",
   "execution_count": 8,
   "metadata": {},
   "outputs": [
    {
     "data": {
      "text/plain": [
       "Pipeline(memory=None,\n",
       "     steps=[('vect', CountVectorizer(analyzer='word', binary=False, decode_error='strict',\n",
       "        dtype=<class 'numpy.int64'>, encoding='utf-8', input='content',\n",
       "        lowercase=True, max_df=1.0, max_features=None, min_df=1,\n",
       "        ngram_range=(1, 1), preprocessor=None, stop_words=None,\n",
       "        strip...oob_score=False, random_state=None, verbose=0,\n",
       "            warm_start=False),\n",
       "           n_jobs=1))])"
      ]
     },
     "execution_count": 8,
     "metadata": {},
     "output_type": "execute_result"
    }
   ],
   "source": [
    "X_train, X_test, y_train, y_test = train_test_split(X, y, random_state=42)\n",
    "\n",
    "pipeline.fit(X_train, y_train)"
   ]
  },
  {
   "cell_type": "code",
   "execution_count": 41,
   "metadata": {},
   "outputs": [
    {
     "data": {
      "text/plain": [
       "((5243,), (20973,), (5243, 36), (20973, 36))"
      ]
     },
     "execution_count": 41,
     "metadata": {},
     "output_type": "execute_result"
    }
   ],
   "source": [
    "X_train.shape, X_test.shape, y_train.shape, y_test.shape"
   ]
  },
  {
   "cell_type": "code",
   "execution_count": null,
   "metadata": {},
   "outputs": [],
   "source": []
  },
  {
   "cell_type": "markdown",
   "metadata": {},
   "source": [
    "### 5. Test your model\n",
    "Report the f1 score, precision and recall for each output category of the dataset. You can do this by iterating through the columns and calling sklearn's `classification_report` on each."
   ]
  },
  {
   "cell_type": "code",
   "execution_count": 11,
   "metadata": {},
   "outputs": [],
   "source": [
    "y_pred = pipeline.predict(X_test)"
   ]
  },
  {
   "cell_type": "code",
   "execution_count": 51,
   "metadata": {},
   "outputs": [
    {
     "data": {
      "text/plain": [
       "pandas.core.frame.DataFrame"
      ]
     },
     "execution_count": 51,
     "metadata": {},
     "output_type": "execute_result"
    }
   ],
   "source": [
    "type(y_test)"
   ]
  },
  {
   "cell_type": "code",
   "execution_count": 92,
   "metadata": {
    "scrolled": true
   },
   "outputs": [
    {
     "data": {
      "text/plain": [
       "array([[1, 0, 0, ..., 0, 0, 0],\n",
       "       [1, 0, 0, ..., 0, 0, 0],\n",
       "       [1, 0, 0, ..., 1, 1, 0],\n",
       "       ..., \n",
       "       [1, 0, 0, ..., 0, 0, 0],\n",
       "       [1, 1, 0, ..., 0, 0, 1],\n",
       "       [0, 0, 0, ..., 0, 0, 0]])"
      ]
     },
     "execution_count": 92,
     "metadata": {},
     "output_type": "execute_result"
    }
   ],
   "source": [
    "y_test.values"
   ]
  },
  {
   "cell_type": "markdown",
   "metadata": {},
   "source": [
    "from sklearn.utils.multiclass import type_of_target\n",
    "type_of_target(y_test)==type_of_target(y_pred)"
   ]
  },
  {
   "cell_type": "code",
   "execution_count": 12,
   "metadata": {
    "scrolled": false
   },
   "outputs": [
    {
     "ename": "ValueError",
     "evalue": "Unknown label type: (       related  request  offer  aid_related  medical_help  medical_products  \\\n7917         1        0      0            0             0                 0   \n25322        1        0      0            0             0                 0   \n22191        1        0      0            1             0                 0   \n18442        0        0      0            0             0                 0   \n1336         0        0      0            0             0                 0   \n24449        1        0      1            1             1                 0   \n7976         0        0      0            0             0                 0   \n17210        1        0      0            0             0                 0   \n14652        1        0      0            1             0                 0   \n20339        0        0      0            0             0                 0   \n9317         0        0      0            0             0                 0   \n25097        1        0      0            1             1                 1   \n19871        1        0      0            0             0                 0   \n9246         1        0      0            0             0                 0   \n3776         1        1      0            1             1                 0   \n16581        1        0      0            0             0                 0   \n20736        1        0      0            1             0                 0   \n21706        1        0      0            1             0                 0   \n5227         0        0      0            0             0                 0   \n9254         1        0      0            0             0                 0   \n10201        1        0      0            0             0                 0   \n23850        1        0      0            0             0                 0   \n25077        1        0      0            0             0                 0   \n20388        1        0      0            0             0                 0   \n26051        1        0      0            0             0                 0   \n17686        1        0      0            0             0                 0   \n1427         0        0      0            0             0                 0   \n8214         1        0      0            1             0                 0   \n17425        0        0      0            0             0                 0   \n1347         1        0      0            0             0                 0   \n...        ...      ...    ...          ...           ...               ...   \n977          1        1      0            1             0                 0   \n17292        0        0      0            0             0                 0   \n9684         0        0      0            0             0                 0   \n18234        1        1      0            1             0                 0   \n10810        1        0      0            1             0                 0   \n23358        1        0      0            1             0                 0   \n5157         1        0      0            0             0                 0   \n4701         1        1      0            1             0                 0   \n21565        1        0      0            1             0                 0   \n14216        0        0      0            0             0                 0   \n24470        1        0      0            1             0                 0   \n8105         1        1      0            1             0                 0   \n8629         0        0      0            0             0                 0   \n13905        1        0      0            0             0                 0   \n20373        1        0      0            0             0                 0   \n19172        1        0      0            0             0                 0   \n7668         1        1      0            1             0                 0   \n9441         0        0      0            0             0                 0   \n16373        1        1      0            1             0                 0   \n24197        1        0      0            1             0                 0   \n19828        1        0      0            0             0                 0   \n22628        1        0      0            1             1                 0   \n17805        1        0      0            0             0                 0   \n88           1        1      0            1             1                 0   \n3801         1        1      0            1             0                 0   \n19353        1        0      0            1             0                 0   \n19351        1        0      0            0             0                 0   \n13308        1        0      0            0             0                 0   \n22471        0        0      0            0             0                 0   \n21855        1        0      0            0             0                 0   \n\n       search_and_rescue  security  military  child_alone      ...        \\\n7917                   0         0         0            0      ...         \n25322                  0         0         0            0      ...         \n22191                  0         0         0            0      ...         \n18442                  0         0         0            0      ...         \n1336                   0         0         0            0      ...         \n24449                  0         0         0            0      ...         \n7976                   0         0         0            0      ...         \n17210                  0         0         0            0      ...         \n14652                  0         0         0            0      ...         \n20339                  0         0         0            0      ...         \n9317                   0         0         0            0      ...         \n25097                  0         0         0            0      ...         \n19871                  0         0         0            0      ...         \n9246                   0         0         0            0      ...         \n3776                   0         0         0            0      ...         \n16581                  0         0         0            0      ...         \n20736                  0         0         0            0      ...         \n21706                  0         0         0            0      ...         \n5227                   0         0         0            0      ...         \n9254                   0         0         0            0      ...         \n10201                  0         0         0            0      ...         \n23850                  0         0         0            0      ...         \n25077                  0         0         0            0      ...         \n20388                  0         0         0            0      ...         \n26051                  0         0         0            0      ...         \n17686                  0         0         0            0      ...         \n1427                   0         0         0            0      ...         \n8214                   0         0         1            0      ...         \n17425                  0         0         0            0      ...         \n1347                   0         0         0            0      ...         \n...                  ...       ...       ...          ...      ...         \n977                    0         0         0            0      ...         \n17292                  0         0         0            0      ...         \n9684                   0         0         0            0      ...         \n18234                  0         0         0            0      ...         \n10810                  0         0         0            0      ...         \n23358                  0         1         1            0      ...         \n5157                   0         0         0            0      ...         \n4701                   0         0         0            0      ...         \n21565                  0         0         0            0      ...         \n14216                  0         0         0            0      ...         \n24470                  0         0         0            0      ...         \n8105                   0         0         0            0      ...         \n8629                   0         0         0            0      ...         \n13905                  0         0         0            0      ...         \n20373                  0         0         0            0      ...         \n19172                  0         0         0            0      ...         \n7668                   0         0         0            0      ...         \n9441                   0         0         0            0      ...         \n16373                  0         0         0            0      ...         \n24197                  0         0         0            0      ...         \n19828                  0         0         0            0      ...         \n22628                  1         0         0            0      ...         \n17805                  0         0         0            0      ...         \n88                     0         0         0            0      ...         \n3801                   0         0         0            0      ...         \n19353                  0         0         1            0      ...         \n19351                  0         0         0            0      ...         \n13308                  0         0         0            0      ...         \n22471                  0         0         0            0      ...         \n21855                  0         0         0            0      ...         \n\n       aid_centers  other_infrastructure  weather_related  floods  storm  \\\n7917             0                     0                0       0      0   \n25322            0                     0                0       0      0   \n22191            0                     0                1       0      0   \n18442            0                     0                0       0      0   \n1336             0                     0                0       0      0   \n24449            0                     0                0       0      0   \n7976             0                     0                0       0      0   \n17210            0                     0                1       0      1   \n14652            0                     0                1       0      0   \n20339            0                     0                0       0      0   \n9317             0                     0                0       0      0   \n25097            0                     0                0       0      0   \n19871            0                     1                0       0      0   \n9246             0                     0                0       0      0   \n3776             0                     0                0       0      0   \n16581            0                     0                1       0      0   \n20736            0                     0                0       0      0   \n21706            0                     0                0       0      0   \n5227             0                     0                0       0      0   \n9254             0                     0                1       0      1   \n10201            0                     0                1       0      0   \n23850            0                     0                0       0      0   \n25077            0                     0                0       0      0   \n20388            0                     0                0       0      0   \n26051            0                     0                0       0      0   \n17686            0                     0                0       0      0   \n1427             0                     0                0       0      0   \n8214             0                     0                1       0      0   \n17425            0                     0                0       0      0   \n1347             0                     0                0       0      0   \n...            ...                   ...              ...     ...    ...   \n977              0                     0                0       0      0   \n17292            0                     0                0       0      0   \n9684             0                     0                0       0      0   \n18234            0                     0                0       0      0   \n10810            0                     0                0       0      0   \n23358            0                     0                0       0      0   \n5157             1                     0                0       0      0   \n4701             0                     0                0       0      0   \n21565            0                     0                0       0      0   \n14216            0                     0                0       0      0   \n24470            0                     0                0       0      0   \n8105             0                     0                0       0      0   \n8629             0                     0                0       0      0   \n13905            0                     0                1       0      0   \n20373            0                     0                1       0      1   \n19172            0                     0                0       0      0   \n7668             0                     0                0       0      0   \n9441             0                     0                0       0      0   \n16373            0                     0                1       0      0   \n24197            0                     0                0       0      0   \n19828            0                     0                0       0      0   \n22628            0                     0                0       0      0   \n17805            0                     0                1       0      0   \n88               0                     0                0       0      0   \n3801             0                     0                0       0      0   \n19353            0                     0                0       0      0   \n19351            0                     0                0       0      0   \n13308            0                     0                1       0      1   \n22471            0                     0                0       0      0   \n21855            0                     0                0       0      0   \n\n       fire  earthquake  cold  other_weather  direct_report  \n7917      0           0     0              0              0  \n25322     0           0     0              0              0  \n22191     0           0     1              1              0  \n18442     0           0     0              0              0  \n1336      0           0     0              0              0  \n24449     0           0     0              0              0  \n7976      0           0     0              0              0  \n17210     0           0     0              0              1  \n14652     0           1     0              0              0  \n20339     0           0     0              0              0  \n9317      0           0     0              0              0  \n25097     0           0     0              0              0  \n19871     0           0     0              0              0  \n9246      0           0     0              0              0  \n3776      0           0     0              0              1  \n16581     1           0     0              0              0  \n20736     0           0     0              0              0  \n21706     0           0     0              0              0  \n5227      0           0     0              0              0  \n9254      0           0     0              1              0  \n10201     0           1     0              1              0  \n23850     0           0     0              0              0  \n25077     0           0     0              0              1  \n20388     0           0     0              0              0  \n26051     0           0     0              0              0  \n17686     0           0     0              0              0  \n1427      0           0     0              0              0  \n8214      0           0     1              0              1  \n17425     0           0     0              0              0  \n1347      0           0     0              0              0  \n...     ...         ...   ...            ...            ...  \n977       0           0     0              0              1  \n17292     0           0     0              0              0  \n9684      0           0     0              0              0  \n18234     0           0     0              0              0  \n10810     0           0     0              0              0  \n23358     0           0     0              0              0  \n5157      0           0     0              0              0  \n4701      0           0     0              0              1  \n21565     0           0     0              0              0  \n14216     0           0     0              0              0  \n24470     0           0     0              0              0  \n8105      0           0     0              0              1  \n8629      0           0     0              0              0  \n13905     1           0     0              0              0  \n20373     0           1     0              0              1  \n19172     0           0     0              0              0  \n7668      0           0     0              0              1  \n9441      0           0     0              0              0  \n16373     0           0     0              1              0  \n24197     0           0     0              0              0  \n19828     0           0     0              0              0  \n22628     0           0     0              0              0  \n17805     0           1     0              0              0  \n88        0           0     0              0              0  \n3801      0           0     0              0              1  \n19353     0           0     0              0              0  \n19351     0           0     0              0              1  \n13308     0           0     0              0              0  \n22471     0           0     0              0              0  \n21855     0           0     0              0              0  \n\n[6554 rows x 36 columns], array([[0, 1, 0, ..., 0, 0, 0],\n       [1, 0, 0, ..., 0, 0, 0],\n       [1, 0, 0, ..., 0, 0, 0],\n       ..., \n       [1, 0, 0, ..., 0, 0, 0],\n       [1, 0, 0, ..., 0, 0, 0],\n       [1, 0, 0, ..., 0, 0, 0]]))",
     "output_type": "error",
     "traceback": [
      "\u001b[0;31m---------------------------------------------------------------------------\u001b[0m",
      "\u001b[0;31mValueError\u001b[0m                                Traceback (most recent call last)",
      "\u001b[0;32m<ipython-input-12-8aa1f0ed8011>\u001b[0m in \u001b[0;36m<module>\u001b[0;34m()\u001b[0m\n\u001b[0;32m----> 1\u001b[0;31m \u001b[0mprint\u001b[0m\u001b[0;34m(\u001b[0m\u001b[0mclassification_report\u001b[0m\u001b[0;34m(\u001b[0m\u001b[0my_test\u001b[0m\u001b[0;34m,\u001b[0m \u001b[0my_pred\u001b[0m\u001b[0;34m,\u001b[0m \u001b[0mtarget_names\u001b[0m\u001b[0;34m=\u001b[0m\u001b[0my_test\u001b[0m\u001b[0;34m.\u001b[0m\u001b[0mcolumns\u001b[0m\u001b[0;34m)\u001b[0m\u001b[0;34m)\u001b[0m\u001b[0;34m\u001b[0m\u001b[0m\n\u001b[0m",
      "\u001b[0;32m/opt/conda/lib/python3.6/site-packages/sklearn/metrics/classification.py\u001b[0m in \u001b[0;36mclassification_report\u001b[0;34m(y_true, y_pred, labels, target_names, sample_weight, digits)\u001b[0m\n\u001b[1;32m   1419\u001b[0m \u001b[0;34m\u001b[0m\u001b[0m\n\u001b[1;32m   1420\u001b[0m     \u001b[0;32mif\u001b[0m \u001b[0mlabels\u001b[0m \u001b[0;32mis\u001b[0m \u001b[0;32mNone\u001b[0m\u001b[0;34m:\u001b[0m\u001b[0;34m\u001b[0m\u001b[0m\n\u001b[0;32m-> 1421\u001b[0;31m         \u001b[0mlabels\u001b[0m \u001b[0;34m=\u001b[0m \u001b[0munique_labels\u001b[0m\u001b[0;34m(\u001b[0m\u001b[0my_true\u001b[0m\u001b[0;34m,\u001b[0m \u001b[0my_pred\u001b[0m\u001b[0;34m)\u001b[0m\u001b[0;34m\u001b[0m\u001b[0m\n\u001b[0m\u001b[1;32m   1422\u001b[0m     \u001b[0;32melse\u001b[0m\u001b[0;34m:\u001b[0m\u001b[0;34m\u001b[0m\u001b[0m\n\u001b[1;32m   1423\u001b[0m         \u001b[0mlabels\u001b[0m \u001b[0;34m=\u001b[0m \u001b[0mnp\u001b[0m\u001b[0;34m.\u001b[0m\u001b[0masarray\u001b[0m\u001b[0;34m(\u001b[0m\u001b[0mlabels\u001b[0m\u001b[0;34m)\u001b[0m\u001b[0;34m\u001b[0m\u001b[0m\n",
      "\u001b[0;32m/opt/conda/lib/python3.6/site-packages/sklearn/utils/multiclass.py\u001b[0m in \u001b[0;36munique_labels\u001b[0;34m(*ys)\u001b[0m\n\u001b[1;32m     95\u001b[0m     \u001b[0m_unique_labels\u001b[0m \u001b[0;34m=\u001b[0m \u001b[0m_FN_UNIQUE_LABELS\u001b[0m\u001b[0;34m.\u001b[0m\u001b[0mget\u001b[0m\u001b[0;34m(\u001b[0m\u001b[0mlabel_type\u001b[0m\u001b[0;34m,\u001b[0m \u001b[0;32mNone\u001b[0m\u001b[0;34m)\u001b[0m\u001b[0;34m\u001b[0m\u001b[0m\n\u001b[1;32m     96\u001b[0m     \u001b[0;32mif\u001b[0m \u001b[0;32mnot\u001b[0m \u001b[0m_unique_labels\u001b[0m\u001b[0;34m:\u001b[0m\u001b[0;34m\u001b[0m\u001b[0m\n\u001b[0;32m---> 97\u001b[0;31m         \u001b[0;32mraise\u001b[0m \u001b[0mValueError\u001b[0m\u001b[0;34m(\u001b[0m\u001b[0;34m\"Unknown label type: %s\"\u001b[0m \u001b[0;34m%\u001b[0m \u001b[0mrepr\u001b[0m\u001b[0;34m(\u001b[0m\u001b[0mys\u001b[0m\u001b[0;34m)\u001b[0m\u001b[0;34m)\u001b[0m\u001b[0;34m\u001b[0m\u001b[0m\n\u001b[0m\u001b[1;32m     98\u001b[0m \u001b[0;34m\u001b[0m\u001b[0m\n\u001b[1;32m     99\u001b[0m     \u001b[0mys_labels\u001b[0m \u001b[0;34m=\u001b[0m \u001b[0mset\u001b[0m\u001b[0;34m(\u001b[0m\u001b[0mchain\u001b[0m\u001b[0;34m.\u001b[0m\u001b[0mfrom_iterable\u001b[0m\u001b[0;34m(\u001b[0m\u001b[0m_unique_labels\u001b[0m\u001b[0;34m(\u001b[0m\u001b[0my\u001b[0m\u001b[0;34m)\u001b[0m \u001b[0;32mfor\u001b[0m \u001b[0my\u001b[0m \u001b[0;32min\u001b[0m \u001b[0mys\u001b[0m\u001b[0;34m)\u001b[0m\u001b[0;34m)\u001b[0m\u001b[0;34m\u001b[0m\u001b[0m\n",
      "\u001b[0;31mValueError\u001b[0m: Unknown label type: (       related  request  offer  aid_related  medical_help  medical_products  \\\n7917         1        0      0            0             0                 0   \n25322        1        0      0            0             0                 0   \n22191        1        0      0            1             0                 0   \n18442        0        0      0            0             0                 0   \n1336         0        0      0            0             0                 0   \n24449        1        0      1            1             1                 0   \n7976         0        0      0            0             0                 0   \n17210        1        0      0            0             0                 0   \n14652        1        0      0            1             0                 0   \n20339        0        0      0            0             0                 0   \n9317         0        0      0            0             0                 0   \n25097        1        0      0            1             1                 1   \n19871        1        0      0            0             0                 0   \n9246         1        0      0            0             0                 0   \n3776         1        1      0            1             1                 0   \n16581        1        0      0            0             0                 0   \n20736        1        0      0            1             0                 0   \n21706        1        0      0            1             0                 0   \n5227         0        0      0            0             0                 0   \n9254         1        0      0            0             0                 0   \n10201        1        0      0            0             0                 0   \n23850        1        0      0            0             0                 0   \n25077        1        0      0            0             0                 0   \n20388        1        0      0            0             0                 0   \n26051        1        0      0            0             0                 0   \n17686        1        0      0            0             0                 0   \n1427         0        0      0            0             0                 0   \n8214         1        0      0            1             0                 0   \n17425        0        0      0            0             0                 0   \n1347         1        0      0            0             0                 0   \n...        ...      ...    ...          ...           ...               ...   \n977          1        1      0            1             0                 0   \n17292        0        0      0            0             0                 0   \n9684         0        0      0            0             0                 0   \n18234        1        1      0            1             0                 0   \n10810        1        0      0            1             0                 0   \n23358        1        0      0            1             0                 0   \n5157         1        0      0            0             0                 0   \n4701         1        1      0            1             0                 0   \n21565        1        0      0            1             0                 0   \n14216        0        0      0            0             0                 0   \n24470        1        0      0            1             0                 0   \n8105         1        1      0            1             0                 0   \n8629         0        0      0            0             0                 0   \n13905        1        0      0            0             0                 0   \n20373        1        0      0            0             0                 0   \n19172        1        0      0            0             0                 0   \n7668         1        1      0            1             0                 0   \n9441         0        0      0            0             0                 0   \n16373        1        1      0            1             0                 0   \n24197        1        0      0            1             0                 0   \n19828        1        0      0            0             0                 0   \n22628        1        0      0            1             1                 0   \n17805        1        0      0            0             0                 0   \n88           1        1      0            1             1                 0   \n3801         1        1      0            1             0                 0   \n19353        1        0      0            1             0                 0   \n19351        1        0      0            0             0                 0   \n13308        1        0      0            0             0                 0   \n22471        0        0      0            0             0                 0   \n21855        1        0      0            0             0                 0   \n\n       search_and_rescue  security  military  child_alone      ...        \\\n7917                   0         0         0            0      ...         \n25322                  0         0         0            0      ...         \n22191                  0         0         0            0      ...         \n18442                  0         0         0            0      ...         \n1336                   0         0         0            0      ...         \n24449                  0         0         0            0      ...         \n7976                   0         0         0            0      ...         \n17210                  0         0         0            0      ...         \n14652                  0         0         0            0      ...         \n20339                  0         0         0            0      ...         \n9317                   0         0         0            0      ...         \n25097                  0         0         0            0      ...         \n19871                  0         0         0            0      ...         \n9246                   0         0         0            0      ...         \n3776                   0         0         0            0      ...         \n16581                  0         0         0            0      ...         \n20736                  0         0         0            0      ...         \n21706                  0         0         0            0      ...         \n5227                   0         0         0            0      ...         \n9254                   0         0         0            0      ...         \n10201                  0         0         0            0      ...         \n23850                  0         0         0            0      ...         \n25077                  0         0         0            0      ...         \n20388                  0         0         0            0      ...         \n26051                  0         0         0            0      ...         \n17686                  0         0         0            0      ...         \n1427                   0         0         0            0      ...         \n8214                   0         0         1            0      ...         \n17425                  0         0         0            0      ...         \n1347                   0         0         0            0      ...         \n...                  ...       ...       ...          ...      ...         \n977                    0         0         0            0      ...         \n17292                  0         0         0            0      ...         \n9684                   0         0         0            0      ...         \n18234                  0         0         0            0      ...         \n10810                  0         0         0            0      ...         \n23358                  0         1         1            0      ...         \n5157                   0         0         0            0      ...         \n4701                   0         0         0            0      ...         \n21565                  0         0         0            0      ...         \n14216                  0         0         0            0      ...         \n24470                  0         0         0            0      ...         \n8105                   0         0         0            0      ...         \n8629                   0         0         0            0      ...         \n13905                  0         0         0            0      ...         \n20373                  0         0         0            0      ...         \n19172                  0         0         0            0      ...         \n7668                   0         0         0            0      ...         \n9441                   0         0         0            0      ...         \n16373                  0         0         0            0      ...         \n24197                  0         0         0            0      ...         \n19828                  0         0         0            0      ...         \n22628                  1         0         0            0      ...         \n17805                  0         0         0            0      ...         \n88                     0         0         0            0      ...         \n3801                   0         0         0            0      ...         \n19353                  0         0         1            0      ...         \n19351                  0         0         0            0      ...         \n13308                  0         0         0            0      ...         \n22471                  0         0         0            0      ...         \n21855                  0         0         0            0      ...         \n\n       aid_centers  other_infrastructure  weather_related  floods  storm  \\\n7917             0                     0                0       0      0   \n25322            0                     0                0       0      0   \n22191            0                     0                1       0      0   \n18442            0                     0                0       0      0   \n1336             0                     0                0       0      0   \n24449            0                     0                0       0      0   \n7976             0                     0                0       0      0   \n17210            0                     0                1       0      1   \n14652            0                     0                1       0      0   \n20339            0                     0                0       0      0   \n9317             0                     0                0       0      0   \n25097            0                     0                0       0      0   \n19871            0                     1                0       0      0   \n9246             0                     0                0       0      0   \n3776             0                     0                0       0      0   \n16581            0                     0                1       0      0   \n20736            0                     0                0       0      0   \n21706            0                     0                0       0      0   \n5227             0                     0                0       0      0   \n9254             0                     0                1       0      1   \n10201            0                     0                1       0      0   \n23850            0                     0                0       0      0   \n25077            0                     0                0       0      0   \n20388            0                     0                0       0      0   \n26051            0                     0                0       0      0   \n17686            0                     0                0       0      0   \n1427             0                     0                0       0      0   \n8214             0                     0                1       0      0   \n17425            0                     0                0       0      0   \n1347             0                     0                0       0      0   \n...            ...                   ...              ...     ...    ...   \n977              0                     0                0       0      0   \n17292            0                     0                0       0      0   \n9684             0                     0                0       0      0   \n18234            0                     0                0       0      0   \n10810            0                     0                0       0      0   \n23358            0                     0                0       0      0   \n5157             1                     0                0       0      0   \n4701             0                     0                0       0      0   \n21565            0                     0                0       0      0   \n14216            0                     0                0       0      0   \n24470            0                     0                0       0      0   \n8105             0                     0                0       0      0   \n8629             0                     0                0       0      0   \n13905            0                     0                1       0      0   \n20373            0                     0                1       0      1   \n19172            0                     0                0       0      0   \n7668             0                     0                0       0      0   \n9441             0                     0                0       0      0   \n16373            0                     0                1       0      0   \n24197            0                     0                0       0      0   \n19828            0                     0                0       0      0   \n22628            0                     0                0       0      0   \n17805            0                     0                1       0      0   \n88               0                     0                0       0      0   \n3801             0                     0                0       0      0   \n19353            0                     0                0       0      0   \n19351            0                     0                0       0      0   \n13308            0                     0                1       0      1   \n22471            0                     0                0       0      0   \n21855            0                     0                0       0      0   \n\n       fire  earthquake  cold  other_weather  direct_report  \n7917      0           0     0              0              0  \n25322     0           0     0              0              0  \n22191     0           0     1              1              0  \n18442     0           0     0              0              0  \n1336      0           0     0              0              0  \n24449     0           0     0              0              0  \n7976      0           0     0              0              0  \n17210     0           0     0              0              1  \n14652     0           1     0              0              0  \n20339     0           0     0              0              0  \n9317      0           0     0              0              0  \n25097     0           0     0              0              0  \n19871     0           0     0              0              0  \n9246      0           0     0              0              0  \n3776      0           0     0              0              1  \n16581     1           0     0              0              0  \n20736     0           0     0              0              0  \n21706     0           0     0              0              0  \n5227      0           0     0              0              0  \n9254      0           0     0              1              0  \n10201     0           1     0              1              0  \n23850     0           0     0              0              0  \n25077     0           0     0              0              1  \n20388     0           0     0              0              0  \n26051     0           0     0              0              0  \n17686     0           0     0              0              0  \n1427      0           0     0              0              0  \n8214      0           0     1              0              1  \n17425     0           0     0              0              0  \n1347      0           0     0              0              0  \n...     ...         ...   ...            ...            ...  \n977       0           0     0              0              1  \n17292     0           0     0              0              0  \n9684      0           0     0              0              0  \n18234     0           0     0              0              0  \n10810     0           0     0              0              0  \n23358     0           0     0              0              0  \n5157      0           0     0              0              0  \n4701      0           0     0              0              1  \n21565     0           0     0              0              0  \n14216     0           0     0              0              0  \n24470     0           0     0              0              0  \n8105      0           0     0              0              1  \n8629      0           0     0              0              0  \n13905     1           0     0              0              0  \n20373     0           1     0              0              1  \n19172     0           0     0              0              0  \n7668      0           0     0              0              1  \n9441      0           0     0              0              0  \n16373     0           0     0              1              0  \n24197     0           0     0              0              0  \n19828     0           0     0              0              0  \n22628     0           0     0              0              0  \n17805     0           1     0              0              0  \n88        0           0     0              0              0  \n3801      0           0     0              0              1  \n19353     0           0     0              0              0  \n19351     0           0     0              0              1  \n13308     0           0     0              0              0  \n22471     0           0     0              0              0  \n21855     0           0     0              0              0  \n\n[6554 rows x 36 columns], array([[0, 1, 0, ..., 0, 0, 0],\n       [1, 0, 0, ..., 0, 0, 0],\n       [1, 0, 0, ..., 0, 0, 0],\n       ..., \n       [1, 0, 0, ..., 0, 0, 0],\n       [1, 0, 0, ..., 0, 0, 0],\n       [1, 0, 0, ..., 0, 0, 0]]))"
     ]
    }
   ],
   "source": [
    "print(classification_report(y_test, y_pred, target_names=y_test.columns))"
   ]
  },
  {
   "cell_type": "code",
   "execution_count": 49,
   "metadata": {},
   "outputs": [],
   "source": [
    "\n"
   ]
  },
  {
   "cell_type": "markdown",
   "metadata": {},
   "source": [
    "### 6. Improve your model\n",
    "Use grid search to find better parameters. "
   ]
  },
  {
   "cell_type": "code",
   "execution_count": 28,
   "metadata": {
    "scrolled": true
   },
   "outputs": [
    {
     "data": {
      "text/plain": [
       "{'memory': None,\n",
       " 'steps': [('vect',\n",
       "   CountVectorizer(analyzer='word', binary=False, decode_error='strict',\n",
       "           dtype=<class 'numpy.int64'>, encoding='utf-8', input='content',\n",
       "           lowercase=True, max_df=1.0, max_features=None, min_df=1,\n",
       "           ngram_range=(1, 1), preprocessor=None, stop_words=None,\n",
       "           strip_accents=None, token_pattern='(?u)\\\\b\\\\w\\\\w+\\\\b',\n",
       "           tokenizer=<function tokenize at 0x7fe63ffbb598>, vocabulary=None)),\n",
       "  ('tfidf',\n",
       "   TfidfTransformer(norm='l2', smooth_idf=True, sublinear_tf=False, use_idf=True)),\n",
       "  ('clf',\n",
       "   MultiOutputClassifier(estimator=RandomForestClassifier(bootstrap=True, class_weight=None, criterion='gini',\n",
       "               max_depth=None, max_features='auto', max_leaf_nodes=None,\n",
       "               min_impurity_decrease=0.0, min_impurity_split=None,\n",
       "               min_samples_leaf=1, min_samples_split=2,\n",
       "               min_weight_fraction_leaf=0.0, n_estimators=10, n_jobs=1,\n",
       "               oob_score=False, random_state=None, verbose=0,\n",
       "               warm_start=False),\n",
       "              n_jobs=1))],\n",
       " 'vect': CountVectorizer(analyzer='word', binary=False, decode_error='strict',\n",
       "         dtype=<class 'numpy.int64'>, encoding='utf-8', input='content',\n",
       "         lowercase=True, max_df=1.0, max_features=None, min_df=1,\n",
       "         ngram_range=(1, 1), preprocessor=None, stop_words=None,\n",
       "         strip_accents=None, token_pattern='(?u)\\\\b\\\\w\\\\w+\\\\b',\n",
       "         tokenizer=<function tokenize at 0x7fe63ffbb598>, vocabulary=None),\n",
       " 'tfidf': TfidfTransformer(norm='l2', smooth_idf=True, sublinear_tf=False, use_idf=True),\n",
       " 'clf': MultiOutputClassifier(estimator=RandomForestClassifier(bootstrap=True, class_weight=None, criterion='gini',\n",
       "             max_depth=None, max_features='auto', max_leaf_nodes=None,\n",
       "             min_impurity_decrease=0.0, min_impurity_split=None,\n",
       "             min_samples_leaf=1, min_samples_split=2,\n",
       "             min_weight_fraction_leaf=0.0, n_estimators=10, n_jobs=1,\n",
       "             oob_score=False, random_state=None, verbose=0,\n",
       "             warm_start=False),\n",
       "            n_jobs=1),\n",
       " 'vect__analyzer': 'word',\n",
       " 'vect__binary': False,\n",
       " 'vect__decode_error': 'strict',\n",
       " 'vect__dtype': numpy.int64,\n",
       " 'vect__encoding': 'utf-8',\n",
       " 'vect__input': 'content',\n",
       " 'vect__lowercase': True,\n",
       " 'vect__max_df': 1.0,\n",
       " 'vect__max_features': None,\n",
       " 'vect__min_df': 1,\n",
       " 'vect__ngram_range': (1, 1),\n",
       " 'vect__preprocessor': None,\n",
       " 'vect__stop_words': None,\n",
       " 'vect__strip_accents': None,\n",
       " 'vect__token_pattern': '(?u)\\\\b\\\\w\\\\w+\\\\b',\n",
       " 'vect__tokenizer': <function __main__.tokenize(text)>,\n",
       " 'vect__vocabulary': None,\n",
       " 'tfidf__norm': 'l2',\n",
       " 'tfidf__smooth_idf': True,\n",
       " 'tfidf__sublinear_tf': False,\n",
       " 'tfidf__use_idf': True,\n",
       " 'clf__estimator__bootstrap': True,\n",
       " 'clf__estimator__class_weight': None,\n",
       " 'clf__estimator__criterion': 'gini',\n",
       " 'clf__estimator__max_depth': None,\n",
       " 'clf__estimator__max_features': 'auto',\n",
       " 'clf__estimator__max_leaf_nodes': None,\n",
       " 'clf__estimator__min_impurity_decrease': 0.0,\n",
       " 'clf__estimator__min_impurity_split': None,\n",
       " 'clf__estimator__min_samples_leaf': 1,\n",
       " 'clf__estimator__min_samples_split': 2,\n",
       " 'clf__estimator__min_weight_fraction_leaf': 0.0,\n",
       " 'clf__estimator__n_estimators': 10,\n",
       " 'clf__estimator__n_jobs': 1,\n",
       " 'clf__estimator__oob_score': False,\n",
       " 'clf__estimator__random_state': None,\n",
       " 'clf__estimator__verbose': 0,\n",
       " 'clf__estimator__warm_start': False,\n",
       " 'clf__estimator': RandomForestClassifier(bootstrap=True, class_weight=None, criterion='gini',\n",
       "             max_depth=None, max_features='auto', max_leaf_nodes=None,\n",
       "             min_impurity_decrease=0.0, min_impurity_split=None,\n",
       "             min_samples_leaf=1, min_samples_split=2,\n",
       "             min_weight_fraction_leaf=0.0, n_estimators=10, n_jobs=1,\n",
       "             oob_score=False, random_state=None, verbose=0,\n",
       "             warm_start=False),\n",
       " 'clf__n_jobs': 1}"
      ]
     },
     "execution_count": 28,
     "metadata": {},
     "output_type": "execute_result"
    }
   ],
   "source": [
    "pipeline.get_params()"
   ]
  },
  {
   "cell_type": "code",
   "execution_count": 29,
   "metadata": {},
   "outputs": [
    {
     "data": {
      "text/plain": [
       "GridSearchCV(cv=None, error_score='raise',\n",
       "       estimator=Pipeline(memory=None,\n",
       "     steps=[('vect', CountVectorizer(analyzer='word', binary=False, decode_error='strict',\n",
       "        dtype=<class 'numpy.int64'>, encoding='utf-8', input='content',\n",
       "        lowercase=True, max_df=1.0, max_features=None, min_df=1,\n",
       "        ngram_range=(1, 1), preprocessor=None, stop_words=None,\n",
       "        strip...oob_score=False, random_state=None, verbose=0,\n",
       "            warm_start=False),\n",
       "           n_jobs=1))]),\n",
       "       fit_params=None, iid=True, n_jobs=1,\n",
       "       param_grid={'clf__estimator__max_depth': [10, 50, None], 'clf__estimator__min_samples_leaf': [2, 5, 10], 'clf__estimator__min_samples_split': [2, 4]},\n",
       "       pre_dispatch='2*n_jobs', refit=True, return_train_score='warn',\n",
       "       scoring=None, verbose=0)"
      ]
     },
     "execution_count": 29,
     "metadata": {},
     "output_type": "execute_result"
    }
   ],
   "source": [
    "parameters = {'clf__estimator__max_depth': [10, 50, None],\n",
    "              'clf__estimator__min_samples_leaf':[2, 5, 10],\n",
    "             'clf__estimator__min_samples_split': [2, 4],}\n",
    "\n",
    "cv = GridSearchCV(pipeline, parameters)\n",
    "cv"
   ]
  },
  {
   "cell_type": "markdown",
   "metadata": {},
   "source": [
    "### 7. Test your model\n",
    "Show the accuracy, precision, and recall of the tuned model.  \n",
    "\n",
    "Since this project focuses on code quality, process, and  pipelines, there is no minimum performance metric needed to pass. However, make sure to fine tune your models for accuracy, precision and recall to make your project stand out - especially for your portfolio!"
   ]
  },
  {
   "cell_type": "code",
   "execution_count": 31,
   "metadata": {},
   "outputs": [
    {
     "name": "stdout",
     "output_type": "stream",
     "text": [
      "Fitting 3 folds for each of 18 candidates, totalling 54 fits\n",
      "[CV] clf__estimator__max_depth=10, clf__estimator__min_samples_leaf=2, clf__estimator__min_samples_split=2 \n",
      "[CV]  clf__estimator__max_depth=10, clf__estimator__min_samples_leaf=2, clf__estimator__min_samples_split=2, total=   3.5s\n",
      "[CV] clf__estimator__max_depth=10, clf__estimator__min_samples_leaf=2, clf__estimator__min_samples_split=2 \n"
     ]
    },
    {
     "name": "stderr",
     "output_type": "stream",
     "text": [
      "[Parallel(n_jobs=1)]: Done   1 out of   1 | elapsed:    5.2s remaining:    0.0s\n"
     ]
    },
    {
     "name": "stdout",
     "output_type": "stream",
     "text": [
      "[CV]  clf__estimator__max_depth=10, clf__estimator__min_samples_leaf=2, clf__estimator__min_samples_split=2, total=   3.5s\n",
      "[CV] clf__estimator__max_depth=10, clf__estimator__min_samples_leaf=2, clf__estimator__min_samples_split=2 \n",
      "[CV]  clf__estimator__max_depth=10, clf__estimator__min_samples_leaf=2, clf__estimator__min_samples_split=2, total=   3.6s\n",
      "[CV] clf__estimator__max_depth=10, clf__estimator__min_samples_leaf=2, clf__estimator__min_samples_split=4 \n",
      "[CV]  clf__estimator__max_depth=10, clf__estimator__min_samples_leaf=2, clf__estimator__min_samples_split=4, total=   3.5s\n",
      "[CV] clf__estimator__max_depth=10, clf__estimator__min_samples_leaf=2, clf__estimator__min_samples_split=4 \n",
      "[CV]  clf__estimator__max_depth=10, clf__estimator__min_samples_leaf=2, clf__estimator__min_samples_split=4, total=   3.5s\n",
      "[CV] clf__estimator__max_depth=10, clf__estimator__min_samples_leaf=2, clf__estimator__min_samples_split=4 \n",
      "[CV]  clf__estimator__max_depth=10, clf__estimator__min_samples_leaf=2, clf__estimator__min_samples_split=4, total=   3.5s\n",
      "[CV] clf__estimator__max_depth=10, clf__estimator__min_samples_leaf=5, clf__estimator__min_samples_split=2 \n",
      "[CV]  clf__estimator__max_depth=10, clf__estimator__min_samples_leaf=5, clf__estimator__min_samples_split=2, total=   3.6s\n",
      "[CV] clf__estimator__max_depth=10, clf__estimator__min_samples_leaf=5, clf__estimator__min_samples_split=2 \n",
      "[CV]  clf__estimator__max_depth=10, clf__estimator__min_samples_leaf=5, clf__estimator__min_samples_split=2, total=   3.5s\n",
      "[CV] clf__estimator__max_depth=10, clf__estimator__min_samples_leaf=5, clf__estimator__min_samples_split=2 \n",
      "[CV]  clf__estimator__max_depth=10, clf__estimator__min_samples_leaf=5, clf__estimator__min_samples_split=2, total=   3.5s\n",
      "[CV] clf__estimator__max_depth=10, clf__estimator__min_samples_leaf=5, clf__estimator__min_samples_split=4 \n",
      "[CV]  clf__estimator__max_depth=10, clf__estimator__min_samples_leaf=5, clf__estimator__min_samples_split=4, total=   3.4s\n",
      "[CV] clf__estimator__max_depth=10, clf__estimator__min_samples_leaf=5, clf__estimator__min_samples_split=4 \n",
      "[CV]  clf__estimator__max_depth=10, clf__estimator__min_samples_leaf=5, clf__estimator__min_samples_split=4, total=   3.5s\n",
      "[CV] clf__estimator__max_depth=10, clf__estimator__min_samples_leaf=5, clf__estimator__min_samples_split=4 \n",
      "[CV]  clf__estimator__max_depth=10, clf__estimator__min_samples_leaf=5, clf__estimator__min_samples_split=4, total=   3.5s\n",
      "[CV] clf__estimator__max_depth=10, clf__estimator__min_samples_leaf=10, clf__estimator__min_samples_split=2 \n",
      "[CV]  clf__estimator__max_depth=10, clf__estimator__min_samples_leaf=10, clf__estimator__min_samples_split=2, total=   3.5s\n",
      "[CV] clf__estimator__max_depth=10, clf__estimator__min_samples_leaf=10, clf__estimator__min_samples_split=2 \n",
      "[CV]  clf__estimator__max_depth=10, clf__estimator__min_samples_leaf=10, clf__estimator__min_samples_split=2, total=   3.5s\n",
      "[CV] clf__estimator__max_depth=10, clf__estimator__min_samples_leaf=10, clf__estimator__min_samples_split=2 \n",
      "[CV]  clf__estimator__max_depth=10, clf__estimator__min_samples_leaf=10, clf__estimator__min_samples_split=2, total=   3.5s\n",
      "[CV] clf__estimator__max_depth=10, clf__estimator__min_samples_leaf=10, clf__estimator__min_samples_split=4 \n",
      "[CV]  clf__estimator__max_depth=10, clf__estimator__min_samples_leaf=10, clf__estimator__min_samples_split=4, total=   3.5s\n",
      "[CV] clf__estimator__max_depth=10, clf__estimator__min_samples_leaf=10, clf__estimator__min_samples_split=4 \n",
      "[CV]  clf__estimator__max_depth=10, clf__estimator__min_samples_leaf=10, clf__estimator__min_samples_split=4, total=   3.5s\n",
      "[CV] clf__estimator__max_depth=10, clf__estimator__min_samples_leaf=10, clf__estimator__min_samples_split=4 \n",
      "[CV]  clf__estimator__max_depth=10, clf__estimator__min_samples_leaf=10, clf__estimator__min_samples_split=4, total=   3.5s\n",
      "[CV] clf__estimator__max_depth=50, clf__estimator__min_samples_leaf=2, clf__estimator__min_samples_split=2 \n",
      "[CV]  clf__estimator__max_depth=50, clf__estimator__min_samples_leaf=2, clf__estimator__min_samples_split=2, total=   4.7s\n",
      "[CV] clf__estimator__max_depth=50, clf__estimator__min_samples_leaf=2, clf__estimator__min_samples_split=2 \n",
      "[CV]  clf__estimator__max_depth=50, clf__estimator__min_samples_leaf=2, clf__estimator__min_samples_split=2, total=   4.7s\n",
      "[CV] clf__estimator__max_depth=50, clf__estimator__min_samples_leaf=2, clf__estimator__min_samples_split=2 \n",
      "[CV]  clf__estimator__max_depth=50, clf__estimator__min_samples_leaf=2, clf__estimator__min_samples_split=2, total=   4.8s\n",
      "[CV] clf__estimator__max_depth=50, clf__estimator__min_samples_leaf=2, clf__estimator__min_samples_split=4 \n",
      "[CV]  clf__estimator__max_depth=50, clf__estimator__min_samples_leaf=2, clf__estimator__min_samples_split=4, total=   4.7s\n",
      "[CV] clf__estimator__max_depth=50, clf__estimator__min_samples_leaf=2, clf__estimator__min_samples_split=4 \n",
      "[CV]  clf__estimator__max_depth=50, clf__estimator__min_samples_leaf=2, clf__estimator__min_samples_split=4, total=   4.8s\n",
      "[CV] clf__estimator__max_depth=50, clf__estimator__min_samples_leaf=2, clf__estimator__min_samples_split=4 \n",
      "[CV]  clf__estimator__max_depth=50, clf__estimator__min_samples_leaf=2, clf__estimator__min_samples_split=4, total=   4.7s\n",
      "[CV] clf__estimator__max_depth=50, clf__estimator__min_samples_leaf=5, clf__estimator__min_samples_split=2 \n",
      "[CV]  clf__estimator__max_depth=50, clf__estimator__min_samples_leaf=5, clf__estimator__min_samples_split=2, total=   4.4s\n",
      "[CV] clf__estimator__max_depth=50, clf__estimator__min_samples_leaf=5, clf__estimator__min_samples_split=2 \n",
      "[CV]  clf__estimator__max_depth=50, clf__estimator__min_samples_leaf=5, clf__estimator__min_samples_split=2, total=   4.4s\n",
      "[CV] clf__estimator__max_depth=50, clf__estimator__min_samples_leaf=5, clf__estimator__min_samples_split=2 \n",
      "[CV]  clf__estimator__max_depth=50, clf__estimator__min_samples_leaf=5, clf__estimator__min_samples_split=2, total=   4.4s\n",
      "[CV] clf__estimator__max_depth=50, clf__estimator__min_samples_leaf=5, clf__estimator__min_samples_split=4 \n",
      "[CV]  clf__estimator__max_depth=50, clf__estimator__min_samples_leaf=5, clf__estimator__min_samples_split=4, total=   4.4s\n",
      "[CV] clf__estimator__max_depth=50, clf__estimator__min_samples_leaf=5, clf__estimator__min_samples_split=4 \n",
      "[CV]  clf__estimator__max_depth=50, clf__estimator__min_samples_leaf=5, clf__estimator__min_samples_split=4, total=   4.5s\n",
      "[CV] clf__estimator__max_depth=50, clf__estimator__min_samples_leaf=5, clf__estimator__min_samples_split=4 \n",
      "[CV]  clf__estimator__max_depth=50, clf__estimator__min_samples_leaf=5, clf__estimator__min_samples_split=4, total=   4.4s\n",
      "[CV] clf__estimator__max_depth=50, clf__estimator__min_samples_leaf=10, clf__estimator__min_samples_split=2 \n",
      "[CV]  clf__estimator__max_depth=50, clf__estimator__min_samples_leaf=10, clf__estimator__min_samples_split=2, total=   4.1s\n",
      "[CV] clf__estimator__max_depth=50, clf__estimator__min_samples_leaf=10, clf__estimator__min_samples_split=2 \n",
      "[CV]  clf__estimator__max_depth=50, clf__estimator__min_samples_leaf=10, clf__estimator__min_samples_split=2, total=   4.0s\n",
      "[CV] clf__estimator__max_depth=50, clf__estimator__min_samples_leaf=10, clf__estimator__min_samples_split=2 \n",
      "[CV]  clf__estimator__max_depth=50, clf__estimator__min_samples_leaf=10, clf__estimator__min_samples_split=2, total=   3.9s\n",
      "[CV] clf__estimator__max_depth=50, clf__estimator__min_samples_leaf=10, clf__estimator__min_samples_split=4 \n",
      "[CV]  clf__estimator__max_depth=50, clf__estimator__min_samples_leaf=10, clf__estimator__min_samples_split=4, total=   4.0s\n",
      "[CV] clf__estimator__max_depth=50, clf__estimator__min_samples_leaf=10, clf__estimator__min_samples_split=4 \n",
      "[CV]  clf__estimator__max_depth=50, clf__estimator__min_samples_leaf=10, clf__estimator__min_samples_split=4, total=   4.0s\n",
      "[CV] clf__estimator__max_depth=50, clf__estimator__min_samples_leaf=10, clf__estimator__min_samples_split=4 \n",
      "[CV]  clf__estimator__max_depth=50, clf__estimator__min_samples_leaf=10, clf__estimator__min_samples_split=4, total=   4.0s\n",
      "[CV] clf__estimator__max_depth=None, clf__estimator__min_samples_leaf=2, clf__estimator__min_samples_split=2 \n",
      "[CV]  clf__estimator__max_depth=None, clf__estimator__min_samples_leaf=2, clf__estimator__min_samples_split=2, total=   5.5s\n",
      "[CV] clf__estimator__max_depth=None, clf__estimator__min_samples_leaf=2, clf__estimator__min_samples_split=2 \n",
      "[CV]  clf__estimator__max_depth=None, clf__estimator__min_samples_leaf=2, clf__estimator__min_samples_split=2, total=   5.5s\n",
      "[CV] clf__estimator__max_depth=None, clf__estimator__min_samples_leaf=2, clf__estimator__min_samples_split=2 \n",
      "[CV]  clf__estimator__max_depth=None, clf__estimator__min_samples_leaf=2, clf__estimator__min_samples_split=2, total=   5.6s\n",
      "[CV] clf__estimator__max_depth=None, clf__estimator__min_samples_leaf=2, clf__estimator__min_samples_split=4 \n",
      "[CV]  clf__estimator__max_depth=None, clf__estimator__min_samples_leaf=2, clf__estimator__min_samples_split=4, total=   5.6s\n",
      "[CV] clf__estimator__max_depth=None, clf__estimator__min_samples_leaf=2, clf__estimator__min_samples_split=4 \n",
      "[CV]  clf__estimator__max_depth=None, clf__estimator__min_samples_leaf=2, clf__estimator__min_samples_split=4, total=   5.6s\n",
      "[CV] clf__estimator__max_depth=None, clf__estimator__min_samples_leaf=2, clf__estimator__min_samples_split=4 \n",
      "[CV]  clf__estimator__max_depth=None, clf__estimator__min_samples_leaf=2, clf__estimator__min_samples_split=4, total=   5.5s\n",
      "[CV] clf__estimator__max_depth=None, clf__estimator__min_samples_leaf=5, clf__estimator__min_samples_split=2 \n",
      "[CV]  clf__estimator__max_depth=None, clf__estimator__min_samples_leaf=5, clf__estimator__min_samples_split=2, total=   4.7s\n",
      "[CV] clf__estimator__max_depth=None, clf__estimator__min_samples_leaf=5, clf__estimator__min_samples_split=2 \n",
      "[CV]  clf__estimator__max_depth=None, clf__estimator__min_samples_leaf=5, clf__estimator__min_samples_split=2, total=   4.7s\n",
      "[CV] clf__estimator__max_depth=None, clf__estimator__min_samples_leaf=5, clf__estimator__min_samples_split=2 \n",
      "[CV]  clf__estimator__max_depth=None, clf__estimator__min_samples_leaf=5, clf__estimator__min_samples_split=2, total=   4.7s\n",
      "[CV] clf__estimator__max_depth=None, clf__estimator__min_samples_leaf=5, clf__estimator__min_samples_split=4 \n",
      "[CV]  clf__estimator__max_depth=None, clf__estimator__min_samples_leaf=5, clf__estimator__min_samples_split=4, total=   4.7s\n",
      "[CV] clf__estimator__max_depth=None, clf__estimator__min_samples_leaf=5, clf__estimator__min_samples_split=4 \n",
      "[CV]  clf__estimator__max_depth=None, clf__estimator__min_samples_leaf=5, clf__estimator__min_samples_split=4, total=   4.7s\n",
      "[CV] clf__estimator__max_depth=None, clf__estimator__min_samples_leaf=5, clf__estimator__min_samples_split=4 \n",
      "[CV]  clf__estimator__max_depth=None, clf__estimator__min_samples_leaf=5, clf__estimator__min_samples_split=4, total=   4.7s\n",
      "[CV] clf__estimator__max_depth=None, clf__estimator__min_samples_leaf=10, clf__estimator__min_samples_split=2 \n",
      "[CV]  clf__estimator__max_depth=None, clf__estimator__min_samples_leaf=10, clf__estimator__min_samples_split=2, total=   4.1s\n",
      "[CV] clf__estimator__max_depth=None, clf__estimator__min_samples_leaf=10, clf__estimator__min_samples_split=2 \n",
      "[CV]  clf__estimator__max_depth=None, clf__estimator__min_samples_leaf=10, clf__estimator__min_samples_split=2, total=   4.0s\n",
      "[CV] clf__estimator__max_depth=None, clf__estimator__min_samples_leaf=10, clf__estimator__min_samples_split=2 \n",
      "[CV]  clf__estimator__max_depth=None, clf__estimator__min_samples_leaf=10, clf__estimator__min_samples_split=2, total=   4.0s\n",
      "[CV] clf__estimator__max_depth=None, clf__estimator__min_samples_leaf=10, clf__estimator__min_samples_split=4 \n",
      "[CV]  clf__estimator__max_depth=None, clf__estimator__min_samples_leaf=10, clf__estimator__min_samples_split=4, total=   4.1s\n",
      "[CV] clf__estimator__max_depth=None, clf__estimator__min_samples_leaf=10, clf__estimator__min_samples_split=4 \n",
      "[CV]  clf__estimator__max_depth=None, clf__estimator__min_samples_leaf=10, clf__estimator__min_samples_split=4, total=   4.0s\n",
      "[CV] clf__estimator__max_depth=None, clf__estimator__min_samples_leaf=10, clf__estimator__min_samples_split=4 \n",
      "[CV]  clf__estimator__max_depth=None, clf__estimator__min_samples_leaf=10, clf__estimator__min_samples_split=4, total=   4.0s\n"
     ]
    },
    {
     "name": "stderr",
     "output_type": "stream",
     "text": [
      "[Parallel(n_jobs=1)]: Done  54 out of  54 | elapsed:  5.4min finished\n"
     ]
    }
   ],
   "source": [
    "cv = GridSearchCV(pipeline, param_grid = parameters,verbose = 2)\n",
    "np.random.seed(42)\n",
    "y_pred2 = cv.fit(X_train, y_train)"
   ]
  },
  {
   "cell_type": "code",
   "execution_count": 55,
   "metadata": {
    "scrolled": true
   },
   "outputs": [
    {
     "ename": "ValueError",
     "evalue": "Unknown label type: (       related  request  offer  aid_related  medical_help  medical_products  \\\n7917         1        0      0            0             0                 0   \n25322        1        0      0            0             0                 0   \n22191        1        0      0            1             0                 0   \n18442        0        0      0            0             0                 0   \n1336         0        0      0            0             0                 0   \n24449        1        0      1            1             1                 0   \n7976         0        0      0            0             0                 0   \n17210        1        0      0            0             0                 0   \n14652        1        0      0            1             0                 0   \n20339        0        0      0            0             0                 0   \n9317         0        0      0            0             0                 0   \n25097        1        0      0            1             1                 1   \n19871        1        0      0            0             0                 0   \n9246         1        0      0            0             0                 0   \n3776         1        1      0            1             1                 0   \n16581        1        0      0            0             0                 0   \n20736        1        0      0            1             0                 0   \n21706        1        0      0            1             0                 0   \n5227         0        0      0            0             0                 0   \n9254         1        0      0            0             0                 0   \n10201        1        0      0            0             0                 0   \n23850        1        0      0            0             0                 0   \n25077        1        0      0            0             0                 0   \n20388        1        0      0            0             0                 0   \n26051        1        0      0            0             0                 0   \n17686        1        0      0            0             0                 0   \n1427         0        0      0            0             0                 0   \n8214         1        0      0            1             0                 0   \n17425        0        0      0            0             0                 0   \n1347         1        0      0            0             0                 0   \n...        ...      ...    ...          ...           ...               ...   \n25246        1        0      0            0             0                 0   \n5831         0        0      0            0             0                 0   \n23663        1        0      0            0             0                 0   \n191          1        1      0            1             0                 0   \n12901        1        0      0            0             0                 0   \n13233        1        1      0            1             0                 0   \n12629        1        0      0            0             0                 0   \n4485         1        1      0            1             0                 0   \n9783         0        0      0            0             0                 0   \n3924         1        1      0            1             0                 0   \n9940         1        1      0            1             0                 0   \n25534        1        0      0            0             0                 0   \n21505        1        1      0            0             0                 0   \n20965        1        0      0            1             1                 1   \n15198        1        0      0            0             0                 0   \n16061        1        0      0            0             0                 0   \n19497        1        0      0            0             0                 0   \n3303         1        1      0            1             0                 0   \n15549        1        0      0            1             0                 1   \n18074        1        0      0            1             1                 0   \n13304        1        0      0            0             0                 0   \n19692        0        0      0            0             0                 0   \n17888        1        0      0            0             0                 0   \n1806         1        0      0            0             0                 0   \n3871         1        1      0            1             1                 0   \n3791         1        1      0            1             0                 0   \n24589        1        0      0            1             0                 1   \n14154        1        0      0            1             1                 0   \n2786         1        1      0            1             0                 0   \n9259         0        0      0            0             0                 0   \n\n       search_and_rescue  security  military  child_alone      ...        \\\n7917                   0         0         0            0      ...         \n25322                  0         0         0            0      ...         \n22191                  0         0         0            0      ...         \n18442                  0         0         0            0      ...         \n1336                   0         0         0            0      ...         \n24449                  0         0         0            0      ...         \n7976                   0         0         0            0      ...         \n17210                  0         0         0            0      ...         \n14652                  0         0         0            0      ...         \n20339                  0         0         0            0      ...         \n9317                   0         0         0            0      ...         \n25097                  0         0         0            0      ...         \n19871                  0         0         0            0      ...         \n9246                   0         0         0            0      ...         \n3776                   0         0         0            0      ...         \n16581                  0         0         0            0      ...         \n20736                  0         0         0            0      ...         \n21706                  0         0         0            0      ...         \n5227                   0         0         0            0      ...         \n9254                   0         0         0            0      ...         \n10201                  0         0         0            0      ...         \n23850                  0         0         0            0      ...         \n25077                  0         0         0            0      ...         \n20388                  0         0         0            0      ...         \n26051                  0         0         0            0      ...         \n17686                  0         0         0            0      ...         \n1427                   0         0         0            0      ...         \n8214                   0         0         1            0      ...         \n17425                  0         0         0            0      ...         \n1347                   0         0         0            0      ...         \n...                  ...       ...       ...          ...      ...         \n25246                  0         0         0            0      ...         \n5831                   0         0         0            0      ...         \n23663                  0         0         0            0      ...         \n191                    0         0         0            0      ...         \n12901                  0         0         0            0      ...         \n13233                  0         0         0            0      ...         \n12629                  0         0         0            0      ...         \n4485                   0         0         0            0      ...         \n9783                   0         0         0            0      ...         \n3924                   0         0         0            0      ...         \n9940                   0         0         0            0      ...         \n25534                  0         0         0            0      ...         \n21505                  0         0         0            0      ...         \n20965                  0         0         0            0      ...         \n15198                  0         0         0            0      ...         \n16061                  0         0         0            0      ...         \n19497                  0         0         0            0      ...         \n3303                   1         0         0            0      ...         \n15549                  0         0         0            0      ...         \n18074                  0         0         0            0      ...         \n13304                  0         0         0            0      ...         \n19692                  0         0         0            0      ...         \n17888                  0         0         0            0      ...         \n1806                   0         0         0            0      ...         \n3871                   0         0         0            0      ...         \n3791                   0         0         0            0      ...         \n24589                  1         0         0            0      ...         \n14154                  0         0         0            0      ...         \n2786                   0         0         0            0      ...         \n9259                   0         0         0            0      ...         \n\n       aid_centers  other_infrastructure  weather_related  floods  storm  \\\n7917             0                     0                0       0      0   \n25322            0                     0                0       0      0   \n22191            0                     0                1       0      0   \n18442            0                     0                0       0      0   \n1336             0                     0                0       0      0   \n24449            0                     0                0       0      0   \n7976             0                     0                0       0      0   \n17210            0                     0                1       0      1   \n14652            0                     0                1       0      0   \n20339            0                     0                0       0      0   \n9317             0                     0                0       0      0   \n25097            0                     0                0       0      0   \n19871            0                     1                0       0      0   \n9246             0                     0                0       0      0   \n3776             0                     0                0       0      0   \n16581            0                     0                1       0      0   \n20736            0                     0                0       0      0   \n21706            0                     0                0       0      0   \n5227             0                     0                0       0      0   \n9254             0                     0                1       0      1   \n10201            0                     0                1       0      0   \n23850            0                     0                0       0      0   \n25077            0                     0                0       0      0   \n20388            0                     0                0       0      0   \n26051            0                     0                0       0      0   \n17686            0                     0                0       0      0   \n1427             0                     0                0       0      0   \n8214             0                     0                1       0      0   \n17425            0                     0                0       0      0   \n1347             0                     0                0       0      0   \n...            ...                   ...              ...     ...    ...   \n25246            0                     0                0       0      0   \n5831             0                     0                0       0      0   \n23663            0                     0                0       0      0   \n191              0                     0                0       0      0   \n12901            0                     0                0       0      0   \n13233            0                     0                1       0      1   \n12629            0                     0                1       0      1   \n4485             0                     0                1       0      0   \n9783             0                     0                0       0      0   \n3924             0                     0                0       0      0   \n9940             0                     0                1       0      0   \n25534            0                     0                0       0      0   \n21505            0                     0                0       0      0   \n20965            0                     0                0       0      0   \n15198            0                     0                0       0      0   \n16061            0                     0                1       0      1   \n19497            0                     0                0       0      0   \n3303             0                     0                1       0      0   \n15549            0                     0                1       0      1   \n18074            0                     0                0       0      0   \n13304            0                     0                1       0      1   \n19692            0                     0                0       0      0   \n17888            0                     0                0       0      0   \n1806             0                     0                0       0      0   \n3871             0                     0                0       0      0   \n3791             0                     0                0       0      0   \n24589            0                     0                1       1      0   \n14154            0                     0                0       0      0   \n2786             0                     0                0       0      0   \n9259             0                     0                0       0      0   \n\n       fire  earthquake  cold  other_weather  direct_report  \n7917      0           0     0              0              0  \n25322     0           0     0              0              0  \n22191     0           0     1              1              0  \n18442     0           0     0              0              0  \n1336      0           0     0              0              0  \n24449     0           0     0              0              0  \n7976      0           0     0              0              0  \n17210     0           0     0              0              1  \n14652     0           1     0              0              0  \n20339     0           0     0              0              0  \n9317      0           0     0              0              0  \n25097     0           0     0              0              0  \n19871     0           0     0              0              0  \n9246      0           0     0              0              0  \n3776      0           0     0              0              1  \n16581     1           0     0              0              0  \n20736     0           0     0              0              0  \n21706     0           0     0              0              0  \n5227      0           0     0              0              0  \n9254      0           0     0              1              0  \n10201     0           1     0              1              0  \n23850     0           0     0              0              0  \n25077     0           0     0              0              1  \n20388     0           0     0              0              0  \n26051     0           0     0              0              0  \n17686     0           0     0              0              0  \n1427      0           0     0              0              0  \n8214      0           0     1              0              1  \n17425     0           0     0              0              0  \n1347      0           0     0              0              0  \n...     ...         ...   ...            ...            ...  \n25246     0           0     0              0              0  \n5831      0           0     0              0              0  \n23663     0           0     0              0              1  \n191       0           0     0              0              0  \n12901     0           0     0              0              0  \n13233     0           0     0              0              0  \n12629     0           0     0              0              0  \n4485      0           1     0              0              1  \n9783      0           0     0              0              0  \n3924      0           0     0              0              0  \n9940      0           1     0              0              0  \n25534     0           0     0              0              0  \n21505     0           0     0              0              0  \n20965     0           0     0              0              0  \n15198     0           0     0              0              0  \n16061     0           0     0              1              0  \n19497     0           0     0              0              0  \n3303      0           1     0              0              1  \n15549     0           0     0              1              0  \n18074     0           0     0              0              0  \n13304     0           0     0              0              0  \n19692     0           0     0              0              0  \n17888     0           0     0              0              0  \n1806      0           0     0              0              0  \n3871      0           0     0              0              1  \n3791      0           0     0              0              1  \n24589     0           0     0              0              0  \n14154     0           0     0              0              0  \n2786      0           0     0              0              1  \n9259      0           0     0              0              0  \n\n[20973 rows x 36 columns], array([[1, 0, 0, ..., 0, 0, 0],\n       [1, 0, 0, ..., 0, 0, 0],\n       [1, 0, 0, ..., 0, 0, 0],\n       ..., \n       [1, 0, 0, ..., 0, 0, 0],\n       [1, 0, 0, ..., 0, 0, 0],\n       [1, 0, 0, ..., 0, 0, 0]]))",
     "output_type": "error",
     "traceback": [
      "\u001b[0;31m---------------------------------------------------------------------------\u001b[0m",
      "\u001b[0;31mValueError\u001b[0m                                Traceback (most recent call last)",
      "\u001b[0;32m<ipython-input-55-fcee6e7895ca>\u001b[0m in \u001b[0;36m<module>\u001b[0;34m()\u001b[0m\n\u001b[1;32m      1\u001b[0m \u001b[0mprediction2\u001b[0m \u001b[0;34m=\u001b[0m \u001b[0my_pred2\u001b[0m\u001b[0;34m.\u001b[0m\u001b[0mpredict\u001b[0m\u001b[0;34m(\u001b[0m\u001b[0mX_test\u001b[0m\u001b[0;34m)\u001b[0m\u001b[0;34m\u001b[0m\u001b[0m\n\u001b[1;32m      2\u001b[0m \u001b[0;34m\u001b[0m\u001b[0m\n\u001b[0;32m----> 3\u001b[0;31m \u001b[0mprint\u001b[0m\u001b[0;34m(\u001b[0m\u001b[0mclassification_report\u001b[0m\u001b[0;34m(\u001b[0m\u001b[0my_test\u001b[0m\u001b[0;34m,\u001b[0m \u001b[0mprediction2\u001b[0m \u001b[0;34m,\u001b[0m \u001b[0mtarget_names\u001b[0m \u001b[0;34m=\u001b[0m \u001b[0my_test\u001b[0m\u001b[0;34m.\u001b[0m\u001b[0mkeys\u001b[0m\u001b[0;34m(\u001b[0m\u001b[0;34m)\u001b[0m\u001b[0;34m)\u001b[0m\u001b[0;34m)\u001b[0m\u001b[0;34m\u001b[0m\u001b[0m\n\u001b[0m",
      "\u001b[0;32m/opt/conda/lib/python3.6/site-packages/sklearn/metrics/classification.py\u001b[0m in \u001b[0;36mclassification_report\u001b[0;34m(y_true, y_pred, labels, target_names, sample_weight, digits)\u001b[0m\n\u001b[1;32m   1419\u001b[0m \u001b[0;34m\u001b[0m\u001b[0m\n\u001b[1;32m   1420\u001b[0m     \u001b[0;32mif\u001b[0m \u001b[0mlabels\u001b[0m \u001b[0;32mis\u001b[0m \u001b[0;32mNone\u001b[0m\u001b[0;34m:\u001b[0m\u001b[0;34m\u001b[0m\u001b[0m\n\u001b[0;32m-> 1421\u001b[0;31m         \u001b[0mlabels\u001b[0m \u001b[0;34m=\u001b[0m \u001b[0munique_labels\u001b[0m\u001b[0;34m(\u001b[0m\u001b[0my_true\u001b[0m\u001b[0;34m,\u001b[0m \u001b[0my_pred\u001b[0m\u001b[0;34m)\u001b[0m\u001b[0;34m\u001b[0m\u001b[0m\n\u001b[0m\u001b[1;32m   1422\u001b[0m     \u001b[0;32melse\u001b[0m\u001b[0;34m:\u001b[0m\u001b[0;34m\u001b[0m\u001b[0m\n\u001b[1;32m   1423\u001b[0m         \u001b[0mlabels\u001b[0m \u001b[0;34m=\u001b[0m \u001b[0mnp\u001b[0m\u001b[0;34m.\u001b[0m\u001b[0masarray\u001b[0m\u001b[0;34m(\u001b[0m\u001b[0mlabels\u001b[0m\u001b[0;34m)\u001b[0m\u001b[0;34m\u001b[0m\u001b[0m\n",
      "\u001b[0;32m/opt/conda/lib/python3.6/site-packages/sklearn/utils/multiclass.py\u001b[0m in \u001b[0;36munique_labels\u001b[0;34m(*ys)\u001b[0m\n\u001b[1;32m     95\u001b[0m     \u001b[0m_unique_labels\u001b[0m \u001b[0;34m=\u001b[0m \u001b[0m_FN_UNIQUE_LABELS\u001b[0m\u001b[0;34m.\u001b[0m\u001b[0mget\u001b[0m\u001b[0;34m(\u001b[0m\u001b[0mlabel_type\u001b[0m\u001b[0;34m,\u001b[0m \u001b[0;32mNone\u001b[0m\u001b[0;34m)\u001b[0m\u001b[0;34m\u001b[0m\u001b[0m\n\u001b[1;32m     96\u001b[0m     \u001b[0;32mif\u001b[0m \u001b[0;32mnot\u001b[0m \u001b[0m_unique_labels\u001b[0m\u001b[0;34m:\u001b[0m\u001b[0;34m\u001b[0m\u001b[0m\n\u001b[0;32m---> 97\u001b[0;31m         \u001b[0;32mraise\u001b[0m \u001b[0mValueError\u001b[0m\u001b[0;34m(\u001b[0m\u001b[0;34m\"Unknown label type: %s\"\u001b[0m \u001b[0;34m%\u001b[0m \u001b[0mrepr\u001b[0m\u001b[0;34m(\u001b[0m\u001b[0mys\u001b[0m\u001b[0;34m)\u001b[0m\u001b[0;34m)\u001b[0m\u001b[0;34m\u001b[0m\u001b[0m\n\u001b[0m\u001b[1;32m     98\u001b[0m \u001b[0;34m\u001b[0m\u001b[0m\n\u001b[1;32m     99\u001b[0m     \u001b[0mys_labels\u001b[0m \u001b[0;34m=\u001b[0m \u001b[0mset\u001b[0m\u001b[0;34m(\u001b[0m\u001b[0mchain\u001b[0m\u001b[0;34m.\u001b[0m\u001b[0mfrom_iterable\u001b[0m\u001b[0;34m(\u001b[0m\u001b[0m_unique_labels\u001b[0m\u001b[0;34m(\u001b[0m\u001b[0my\u001b[0m\u001b[0;34m)\u001b[0m \u001b[0;32mfor\u001b[0m \u001b[0my\u001b[0m \u001b[0;32min\u001b[0m \u001b[0mys\u001b[0m\u001b[0;34m)\u001b[0m\u001b[0;34m)\u001b[0m\u001b[0;34m\u001b[0m\u001b[0m\n",
      "\u001b[0;31mValueError\u001b[0m: Unknown label type: (       related  request  offer  aid_related  medical_help  medical_products  \\\n7917         1        0      0            0             0                 0   \n25322        1        0      0            0             0                 0   \n22191        1        0      0            1             0                 0   \n18442        0        0      0            0             0                 0   \n1336         0        0      0            0             0                 0   \n24449        1        0      1            1             1                 0   \n7976         0        0      0            0             0                 0   \n17210        1        0      0            0             0                 0   \n14652        1        0      0            1             0                 0   \n20339        0        0      0            0             0                 0   \n9317         0        0      0            0             0                 0   \n25097        1        0      0            1             1                 1   \n19871        1        0      0            0             0                 0   \n9246         1        0      0            0             0                 0   \n3776         1        1      0            1             1                 0   \n16581        1        0      0            0             0                 0   \n20736        1        0      0            1             0                 0   \n21706        1        0      0            1             0                 0   \n5227         0        0      0            0             0                 0   \n9254         1        0      0            0             0                 0   \n10201        1        0      0            0             0                 0   \n23850        1        0      0            0             0                 0   \n25077        1        0      0            0             0                 0   \n20388        1        0      0            0             0                 0   \n26051        1        0      0            0             0                 0   \n17686        1        0      0            0             0                 0   \n1427         0        0      0            0             0                 0   \n8214         1        0      0            1             0                 0   \n17425        0        0      0            0             0                 0   \n1347         1        0      0            0             0                 0   \n...        ...      ...    ...          ...           ...               ...   \n25246        1        0      0            0             0                 0   \n5831         0        0      0            0             0                 0   \n23663        1        0      0            0             0                 0   \n191          1        1      0            1             0                 0   \n12901        1        0      0            0             0                 0   \n13233        1        1      0            1             0                 0   \n12629        1        0      0            0             0                 0   \n4485         1        1      0            1             0                 0   \n9783         0        0      0            0             0                 0   \n3924         1        1      0            1             0                 0   \n9940         1        1      0            1             0                 0   \n25534        1        0      0            0             0                 0   \n21505        1        1      0            0             0                 0   \n20965        1        0      0            1             1                 1   \n15198        1        0      0            0             0                 0   \n16061        1        0      0            0             0                 0   \n19497        1        0      0            0             0                 0   \n3303         1        1      0            1             0                 0   \n15549        1        0      0            1             0                 1   \n18074        1        0      0            1             1                 0   \n13304        1        0      0            0             0                 0   \n19692        0        0      0            0             0                 0   \n17888        1        0      0            0             0                 0   \n1806         1        0      0            0             0                 0   \n3871         1        1      0            1             1                 0   \n3791         1        1      0            1             0                 0   \n24589        1        0      0            1             0                 1   \n14154        1        0      0            1             1                 0   \n2786         1        1      0            1             0                 0   \n9259         0        0      0            0             0                 0   \n\n       search_and_rescue  security  military  child_alone      ...        \\\n7917                   0         0         0            0      ...         \n25322                  0         0         0            0      ...         \n22191                  0         0         0            0      ...         \n18442                  0         0         0            0      ...         \n1336                   0         0         0            0      ...         \n24449                  0         0         0            0      ...         \n7976                   0         0         0            0      ...         \n17210                  0         0         0            0      ...         \n14652                  0         0         0            0      ...         \n20339                  0         0         0            0      ...         \n9317                   0         0         0            0      ...         \n25097                  0         0         0            0      ...         \n19871                  0         0         0            0      ...         \n9246                   0         0         0            0      ...         \n3776                   0         0         0            0      ...         \n16581                  0         0         0            0      ...         \n20736                  0         0         0            0      ...         \n21706                  0         0         0            0      ...         \n5227                   0         0         0            0      ...         \n9254                   0         0         0            0      ...         \n10201                  0         0         0            0      ...         \n23850                  0         0         0            0      ...         \n25077                  0         0         0            0      ...         \n20388                  0         0         0            0      ...         \n26051                  0         0         0            0      ...         \n17686                  0         0         0            0      ...         \n1427                   0         0         0            0      ...         \n8214                   0         0         1            0      ...         \n17425                  0         0         0            0      ...         \n1347                   0         0         0            0      ...         \n...                  ...       ...       ...          ...      ...         \n25246                  0         0         0            0      ...         \n5831                   0         0         0            0      ...         \n23663                  0         0         0            0      ...         \n191                    0         0         0            0      ...         \n12901                  0         0         0            0      ...         \n13233                  0         0         0            0      ...         \n12629                  0         0         0            0      ...         \n4485                   0         0         0            0      ...         \n9783                   0         0         0            0      ...         \n3924                   0         0         0            0      ...         \n9940                   0         0         0            0      ...         \n25534                  0         0         0            0      ...         \n21505                  0         0         0            0      ...         \n20965                  0         0         0            0      ...         \n15198                  0         0         0            0      ...         \n16061                  0         0         0            0      ...         \n19497                  0         0         0            0      ...         \n3303                   1         0         0            0      ...         \n15549                  0         0         0            0      ...         \n18074                  0         0         0            0      ...         \n13304                  0         0         0            0      ...         \n19692                  0         0         0            0      ...         \n17888                  0         0         0            0      ...         \n1806                   0         0         0            0      ...         \n3871                   0         0         0            0      ...         \n3791                   0         0         0            0      ...         \n24589                  1         0         0            0      ...         \n14154                  0         0         0            0      ...         \n2786                   0         0         0            0      ...         \n9259                   0         0         0            0      ...         \n\n       aid_centers  other_infrastructure  weather_related  floods  storm  \\\n7917             0                     0                0       0      0   \n25322            0                     0                0       0      0   \n22191            0                     0                1       0      0   \n18442            0                     0                0       0      0   \n1336             0                     0                0       0      0   \n24449            0                     0                0       0      0   \n7976             0                     0                0       0      0   \n17210            0                     0                1       0      1   \n14652            0                     0                1       0      0   \n20339            0                     0                0       0      0   \n9317             0                     0                0       0      0   \n25097            0                     0                0       0      0   \n19871            0                     1                0       0      0   \n9246             0                     0                0       0      0   \n3776             0                     0                0       0      0   \n16581            0                     0                1       0      0   \n20736            0                     0                0       0      0   \n21706            0                     0                0       0      0   \n5227             0                     0                0       0      0   \n9254             0                     0                1       0      1   \n10201            0                     0                1       0      0   \n23850            0                     0                0       0      0   \n25077            0                     0                0       0      0   \n20388            0                     0                0       0      0   \n26051            0                     0                0       0      0   \n17686            0                     0                0       0      0   \n1427             0                     0                0       0      0   \n8214             0                     0                1       0      0   \n17425            0                     0                0       0      0   \n1347             0                     0                0       0      0   \n...            ...                   ...              ...     ...    ...   \n25246            0                     0                0       0      0   \n5831             0                     0                0       0      0   \n23663            0                     0                0       0      0   \n191              0                     0                0       0      0   \n12901            0                     0                0       0      0   \n13233            0                     0                1       0      1   \n12629            0                     0                1       0      1   \n4485             0                     0                1       0      0   \n9783             0                     0                0       0      0   \n3924             0                     0                0       0      0   \n9940             0                     0                1       0      0   \n25534            0                     0                0       0      0   \n21505            0                     0                0       0      0   \n20965            0                     0                0       0      0   \n15198            0                     0                0       0      0   \n16061            0                     0                1       0      1   \n19497            0                     0                0       0      0   \n3303             0                     0                1       0      0   \n15549            0                     0                1       0      1   \n18074            0                     0                0       0      0   \n13304            0                     0                1       0      1   \n19692            0                     0                0       0      0   \n17888            0                     0                0       0      0   \n1806             0                     0                0       0      0   \n3871             0                     0                0       0      0   \n3791             0                     0                0       0      0   \n24589            0                     0                1       1      0   \n14154            0                     0                0       0      0   \n2786             0                     0                0       0      0   \n9259             0                     0                0       0      0   \n\n       fire  earthquake  cold  other_weather  direct_report  \n7917      0           0     0              0              0  \n25322     0           0     0              0              0  \n22191     0           0     1              1              0  \n18442     0           0     0              0              0  \n1336      0           0     0              0              0  \n24449     0           0     0              0              0  \n7976      0           0     0              0              0  \n17210     0           0     0              0              1  \n14652     0           1     0              0              0  \n20339     0           0     0              0              0  \n9317      0           0     0              0              0  \n25097     0           0     0              0              0  \n19871     0           0     0              0              0  \n9246      0           0     0              0              0  \n3776      0           0     0              0              1  \n16581     1           0     0              0              0  \n20736     0           0     0              0              0  \n21706     0           0     0              0              0  \n5227      0           0     0              0              0  \n9254      0           0     0              1              0  \n10201     0           1     0              1              0  \n23850     0           0     0              0              0  \n25077     0           0     0              0              1  \n20388     0           0     0              0              0  \n26051     0           0     0              0              0  \n17686     0           0     0              0              0  \n1427      0           0     0              0              0  \n8214      0           0     1              0              1  \n17425     0           0     0              0              0  \n1347      0           0     0              0              0  \n...     ...         ...   ...            ...            ...  \n25246     0           0     0              0              0  \n5831      0           0     0              0              0  \n23663     0           0     0              0              1  \n191       0           0     0              0              0  \n12901     0           0     0              0              0  \n13233     0           0     0              0              0  \n12629     0           0     0              0              0  \n4485      0           1     0              0              1  \n9783      0           0     0              0              0  \n3924      0           0     0              0              0  \n9940      0           1     0              0              0  \n25534     0           0     0              0              0  \n21505     0           0     0              0              0  \n20965     0           0     0              0              0  \n15198     0           0     0              0              0  \n16061     0           0     0              1              0  \n19497     0           0     0              0              0  \n3303      0           1     0              0              1  \n15549     0           0     0              1              0  \n18074     0           0     0              0              0  \n13304     0           0     0              0              0  \n19692     0           0     0              0              0  \n17888     0           0     0              0              0  \n1806      0           0     0              0              0  \n3871      0           0     0              0              1  \n3791      0           0     0              0              1  \n24589     0           0     0              0              0  \n14154     0           0     0              0              0  \n2786      0           0     0              0              1  \n9259      0           0     0              0              0  \n\n[20973 rows x 36 columns], array([[1, 0, 0, ..., 0, 0, 0],\n       [1, 0, 0, ..., 0, 0, 0],\n       [1, 0, 0, ..., 0, 0, 0],\n       ..., \n       [1, 0, 0, ..., 0, 0, 0],\n       [1, 0, 0, ..., 0, 0, 0],\n       [1, 0, 0, ..., 0, 0, 0]]))"
     ]
    }
   ],
   "source": [
    "prediction2 = y_pred2.predict(X_test)\n",
    "\n",
    "print(classification_report(y_test.values, prediction2 , target_names = y_test.keys()))"
   ]
  },
  {
   "cell_type": "code",
   "execution_count": null,
   "metadata": {},
   "outputs": [],
   "source": [
    "prediction2"
   ]
  },
  {
   "cell_type": "markdown",
   "metadata": {},
   "source": [
    "### 8. Try improving your model further. Here are a few ideas:\n",
    "* try other machine learning algorithms\n",
    "* add other features besides the TF-IDF"
   ]
  },
  {
   "cell_type": "code",
   "execution_count": 63,
   "metadata": {},
   "outputs": [],
   "source": [
    "pipeline2 = Pipeline([\n",
    "        ('features', FeatureUnion([\n",
    "\n",
    "            ('text_pipeline', Pipeline([\n",
    "                ('count_vectorizer', CountVectorizer(tokenizer=tokenize)),\n",
    "                ('tfidf_transformer', TfidfTransformer())\n",
    "            ])),\n",
    "       ])),\n",
    "\n",
    "        ('classifier', MultiOutputClassifier(AdaBoostClassifier()))\n",
    "    ])"
   ]
  },
  {
   "cell_type": "code",
   "execution_count": 64,
   "metadata": {},
   "outputs": [
    {
     "data": {
      "text/plain": [
       "Pipeline(memory=None,\n",
       "     steps=[('features', FeatureUnion(n_jobs=1,\n",
       "       transformer_list=[('text_pipeline', Pipeline(memory=None,\n",
       "     steps=[('count_vectorizer', CountVectorizer(analyzer='word', binary=False, decode_error='strict',\n",
       "        dtype=<class 'numpy.int64'>, encoding='utf-8', input='content',\n",
       "        lowercase...mator=None,\n",
       "          learning_rate=1.0, n_estimators=50, random_state=None),\n",
       "           n_jobs=1))])"
      ]
     },
     "execution_count": 64,
     "metadata": {},
     "output_type": "execute_result"
    }
   ],
   "source": [
    "X_train, X_test, y_train, y_test = train_test_split(X, y, random_state=42)\n",
    "\n",
    "pipeline2.fit(X_train, y_train)"
   ]
  },
  {
   "cell_type": "code",
   "execution_count": 65,
   "metadata": {},
   "outputs": [
    {
     "name": "stdout",
     "output_type": "stream",
     "text": [
      "                        precision    recall  f1-score   support\n",
      "\n",
      "               request       0.77      0.55      0.64      1111\n",
      "                 offer       0.00      0.00      0.00        33\n",
      "           aid_related       0.75      0.59      0.66      2670\n",
      "          medical_help       0.57      0.25      0.35       535\n",
      "      medical_products       0.65      0.35      0.45       344\n",
      "     search_and_rescue       0.51      0.15      0.23       159\n",
      "              security       0.14      0.03      0.04       116\n",
      "              military       0.56      0.27      0.36       200\n",
      "           child_alone       0.00      0.00      0.00         0\n",
      "                 water       0.72      0.61      0.66       418\n",
      "                  food       0.81      0.68      0.74       745\n",
      "               shelter       0.77      0.58      0.66       581\n",
      "              clothing       0.68      0.43      0.53        98\n",
      "                 money       0.46      0.28      0.35       133\n",
      "        missing_people       0.73      0.15      0.25        73\n",
      "              refugees       0.56      0.29      0.38       215\n",
      "                 death       0.79      0.40      0.53       297\n",
      "             other_aid       0.54      0.16      0.25       864\n",
      "infrastructure_related       0.40      0.08      0.14       411\n",
      "             transport       0.69      0.20      0.31       303\n",
      "             buildings       0.68      0.38      0.49       323\n",
      "           electricity       0.64      0.24      0.35       147\n",
      "                 tools       0.18      0.05      0.07        43\n",
      "             hospitals       0.35      0.14      0.20        56\n",
      "                 shops       0.00      0.00      0.00        24\n",
      "           aid_centers       0.17      0.04      0.06        81\n",
      "  other_infrastructure       0.37      0.08      0.13       283\n",
      "       weather_related       0.85      0.65      0.74      1773\n",
      "                floods       0.86      0.57      0.68       519\n",
      "                 storm       0.74      0.47      0.58       605\n",
      "                  fire       0.54      0.20      0.29        66\n",
      "            earthquake       0.87      0.75      0.81       590\n",
      "                  cold       0.77      0.35      0.48       141\n",
      "         other_weather       0.48      0.18      0.26       335\n",
      "         direct_report       0.72      0.46      0.56      1272\n",
      "\n",
      "           avg / total       0.70      0.46      0.55     15564\n",
      "\n"
     ]
    },
    {
     "name": "stderr",
     "output_type": "stream",
     "text": [
      "/opt/conda/lib/python3.6/site-packages/sklearn/metrics/classification.py:1135: UndefinedMetricWarning: Precision and F-score are ill-defined and being set to 0.0 in labels with no predicted samples.\n",
      "  'precision', 'predicted', average, warn_for)\n",
      "/opt/conda/lib/python3.6/site-packages/sklearn/metrics/classification.py:1137: UndefinedMetricWarning: Recall and F-score are ill-defined and being set to 0.0 in labels with no true samples.\n",
      "  'recall', 'true', average, warn_for)\n"
     ]
    }
   ],
   "source": [
    "y_pred3 = pipeline2.predict(X_test)\n",
    "\n",
    "print(classification_report(y_test, y_pred3, target_names = y.columns))"
   ]
  },
  {
   "cell_type": "markdown",
   "metadata": {},
   "source": [
    "### 9. Export your model as a pickle file"
   ]
  },
  {
   "cell_type": "code",
   "execution_count": 3,
   "metadata": {},
   "outputs": [],
   "source": [
    "# Pickle best model\n",
    "pickle.dump(y_pred2, open('disaster_model.sav', 'wb'))"
   ]
  },
  {
   "cell_type": "markdown",
   "metadata": {},
   "source": [
    "### 10. Use this notebook to complete `train.py`\n",
    "Use the template file attached in the Resources folder to write a script that runs the steps above to create a database and export a model based on a new dataset specified by the user."
   ]
  },
  {
   "cell_type": "code",
   "execution_count": 4,
   "metadata": {},
   "outputs": [
    {
     "data": {
      "text/plain": [
       "b'\\x80\\x03X\\x0e\\x00\\x00\\x00classifier.pklq\\x00.'"
      ]
     },
     "execution_count": 4,
     "metadata": {},
     "output_type": "execute_result"
    }
   ],
   "source": []
  },
  {
   "cell_type": "code",
   "execution_count": null,
   "metadata": {},
   "outputs": [],
   "source": []
  }
 ],
 "metadata": {
  "kernelspec": {
   "display_name": "Python 3",
   "language": "python",
   "name": "python3"
  },
  "language_info": {
   "codemirror_mode": {
    "name": "ipython",
    "version": 3
   },
   "file_extension": ".py",
   "mimetype": "text/x-python",
   "name": "python",
   "nbconvert_exporter": "python",
   "pygments_lexer": "ipython3",
   "version": "3.6.3"
  }
 },
 "nbformat": 4,
 "nbformat_minor": 2
}
