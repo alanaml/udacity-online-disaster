{
 "cells": [
  {
   "cell_type": "markdown",
   "metadata": {},
   "source": [
    "# ML Pipeline Preparation\n",
    "Follow the instructions below to help you create your ML pipeline.\n",
    "### 1. Import libraries and load data from database.\n",
    "- Import Python libraries\n",
    "- Load dataset from database with [`read_sql_table`](https://pandas.pydata.org/pandas-docs/stable/generated/pandas.read_sql_table.html)\n",
    "- Define feature and target variables X and Y"
   ]
  },
  {
   "cell_type": "code",
   "execution_count": 2,
   "metadata": {},
   "outputs": [
    {
     "name": "stdout",
     "output_type": "stream",
     "text": [
      "[nltk_data] Downloading package stopwords to /root/nltk_data...\n",
      "[nltk_data]   Unzipping corpora/stopwords.zip.\n",
      "[nltk_data] Downloading package punkt to /root/nltk_data...\n",
      "[nltk_data]   Unzipping tokenizers/punkt.zip.\n",
      "[nltk_data] Downloading package wordnet to /root/nltk_data...\n",
      "[nltk_data]   Unzipping corpora/wordnet.zip.\n"
     ]
    }
   ],
   "source": [
    "# import libraries\n",
    "import pandas as pd\n",
    "import numpy as np\n",
    "from sqlalchemy import create_engine\n",
    "import re\n",
    "import os\n",
    "import pickle\n",
    "from nltk.tokenize import word_tokenize\n",
    "from nltk.tokenize import sent_tokenize\n",
    "from nltk.corpus import stopwords\n",
    "from nltk.stem import WordNetLemmatizer\n",
    "from sklearn.multioutput import MultiOutputClassifier\n",
    "from sklearn.neighbors import KNeighborsClassifier\n",
    "from sklearn.ensemble import AdaBoostClassifier\n",
    "from sklearn.model_selection import train_test_split\n",
    "from sklearn.pipeline import Pipeline, FeatureUnion\n",
    "from sklearn.feature_extraction.text import CountVectorizer, TfidfTransformer\n",
    "from sklearn.ensemble import RandomForestClassifier\n",
    "from sklearn.datasets import make_multilabel_classification\n",
    "from sklearn.metrics import classification_report\n",
    "from sklearn.metrics import confusion_matrix\n",
    "from sklearn.model_selection import GridSearchCV\n",
    "from sklearn.base import BaseEstimator, TransformerMixin\n",
    "from sklearn.svm import SVC\n",
    "from copy import deepcopy\n",
    "import nltk\n",
    "nltk.download('stopwords')\n",
    "nltk.download(['punkt', 'wordnet'])\n",
    "url_regex = 'http[s]?://(?:[a-zA-Z]|[0-9]|[$-_@.&+]|[!*\\(\\),]|(?:%[0-9a-fA-F][0-9a-fA-F]))+'"
   ]
  },
  {
   "cell_type": "code",
   "execution_count": 2,
   "metadata": {},
   "outputs": [
    {
     "name": "stdout",
     "output_type": "stream",
     "text": [
      "/home/workspace\n"
     ]
    }
   ],
   "source": [
    "print(os.getcwd())"
   ]
  },
  {
   "cell_type": "code",
   "execution_count": 40,
   "metadata": {},
   "outputs": [],
   "source": [
    "# load data from database\n",
    "engine = create_engine('sqlite:///DisasterResponse.db')\n",
    "df = pd.read_sql_table('DisasterResponse', engine)\n",
    "X = df['message']\n",
    "y = df[df.columns[5:]]\n",
    "#y = df.drop(['message', 'genre', 'id', 'original'], axis=1)"
   ]
  },
  {
   "cell_type": "code",
   "execution_count": 30,
   "metadata": {},
   "outputs": [
    {
     "data": {
      "text/html": [
       "<div>\n",
       "<style scoped>\n",
       "    .dataframe tbody tr th:only-of-type {\n",
       "        vertical-align: middle;\n",
       "    }\n",
       "\n",
       "    .dataframe tbody tr th {\n",
       "        vertical-align: top;\n",
       "    }\n",
       "\n",
       "    .dataframe thead th {\n",
       "        text-align: right;\n",
       "    }\n",
       "</style>\n",
       "<table border=\"1\" class=\"dataframe\">\n",
       "  <thead>\n",
       "    <tr style=\"text-align: right;\">\n",
       "      <th></th>\n",
       "      <th>id</th>\n",
       "      <th>message</th>\n",
       "      <th>original</th>\n",
       "      <th>genre</th>\n",
       "      <th>related</th>\n",
       "      <th>request</th>\n",
       "      <th>offer</th>\n",
       "      <th>aid_related</th>\n",
       "      <th>medical_help</th>\n",
       "      <th>medical_products</th>\n",
       "      <th>...</th>\n",
       "      <th>aid_centers</th>\n",
       "      <th>other_infrastructure</th>\n",
       "      <th>weather_related</th>\n",
       "      <th>floods</th>\n",
       "      <th>storm</th>\n",
       "      <th>fire</th>\n",
       "      <th>earthquake</th>\n",
       "      <th>cold</th>\n",
       "      <th>other_weather</th>\n",
       "      <th>direct_report</th>\n",
       "    </tr>\n",
       "  </thead>\n",
       "  <tbody>\n",
       "    <tr>\n",
       "      <th>0</th>\n",
       "      <td>2</td>\n",
       "      <td>Weather update - a cold front from Cuba that c...</td>\n",
       "      <td>Un front froid se retrouve sur Cuba ce matin. ...</td>\n",
       "      <td>direct</td>\n",
       "      <td>1</td>\n",
       "      <td>0</td>\n",
       "      <td>0</td>\n",
       "      <td>0</td>\n",
       "      <td>0</td>\n",
       "      <td>0</td>\n",
       "      <td>...</td>\n",
       "      <td>0</td>\n",
       "      <td>0</td>\n",
       "      <td>0</td>\n",
       "      <td>0</td>\n",
       "      <td>0</td>\n",
       "      <td>0</td>\n",
       "      <td>0</td>\n",
       "      <td>0</td>\n",
       "      <td>0</td>\n",
       "      <td>0</td>\n",
       "    </tr>\n",
       "    <tr>\n",
       "      <th>1</th>\n",
       "      <td>7</td>\n",
       "      <td>Is the Hurricane over or is it not over</td>\n",
       "      <td>Cyclone nan fini osinon li pa fini</td>\n",
       "      <td>direct</td>\n",
       "      <td>1</td>\n",
       "      <td>0</td>\n",
       "      <td>0</td>\n",
       "      <td>1</td>\n",
       "      <td>0</td>\n",
       "      <td>0</td>\n",
       "      <td>...</td>\n",
       "      <td>0</td>\n",
       "      <td>0</td>\n",
       "      <td>1</td>\n",
       "      <td>0</td>\n",
       "      <td>1</td>\n",
       "      <td>0</td>\n",
       "      <td>0</td>\n",
       "      <td>0</td>\n",
       "      <td>0</td>\n",
       "      <td>0</td>\n",
       "    </tr>\n",
       "    <tr>\n",
       "      <th>2</th>\n",
       "      <td>8</td>\n",
       "      <td>Looking for someone but no name</td>\n",
       "      <td>Patnm, di Maryani relem pou li banm nouvel li ...</td>\n",
       "      <td>direct</td>\n",
       "      <td>1</td>\n",
       "      <td>0</td>\n",
       "      <td>0</td>\n",
       "      <td>0</td>\n",
       "      <td>0</td>\n",
       "      <td>0</td>\n",
       "      <td>...</td>\n",
       "      <td>0</td>\n",
       "      <td>0</td>\n",
       "      <td>0</td>\n",
       "      <td>0</td>\n",
       "      <td>0</td>\n",
       "      <td>0</td>\n",
       "      <td>0</td>\n",
       "      <td>0</td>\n",
       "      <td>0</td>\n",
       "      <td>0</td>\n",
       "    </tr>\n",
       "    <tr>\n",
       "      <th>3</th>\n",
       "      <td>9</td>\n",
       "      <td>UN reports Leogane 80-90 destroyed. Only Hospi...</td>\n",
       "      <td>UN reports Leogane 80-90 destroyed. Only Hospi...</td>\n",
       "      <td>direct</td>\n",
       "      <td>1</td>\n",
       "      <td>1</td>\n",
       "      <td>0</td>\n",
       "      <td>1</td>\n",
       "      <td>0</td>\n",
       "      <td>1</td>\n",
       "      <td>...</td>\n",
       "      <td>0</td>\n",
       "      <td>0</td>\n",
       "      <td>0</td>\n",
       "      <td>0</td>\n",
       "      <td>0</td>\n",
       "      <td>0</td>\n",
       "      <td>0</td>\n",
       "      <td>0</td>\n",
       "      <td>0</td>\n",
       "      <td>0</td>\n",
       "    </tr>\n",
       "    <tr>\n",
       "      <th>4</th>\n",
       "      <td>12</td>\n",
       "      <td>says: west side of Haiti, rest of the country ...</td>\n",
       "      <td>facade ouest d Haiti et le reste du pays aujou...</td>\n",
       "      <td>direct</td>\n",
       "      <td>1</td>\n",
       "      <td>0</td>\n",
       "      <td>0</td>\n",
       "      <td>0</td>\n",
       "      <td>0</td>\n",
       "      <td>0</td>\n",
       "      <td>...</td>\n",
       "      <td>0</td>\n",
       "      <td>0</td>\n",
       "      <td>0</td>\n",
       "      <td>0</td>\n",
       "      <td>0</td>\n",
       "      <td>0</td>\n",
       "      <td>0</td>\n",
       "      <td>0</td>\n",
       "      <td>0</td>\n",
       "      <td>0</td>\n",
       "    </tr>\n",
       "  </tbody>\n",
       "</table>\n",
       "<p>5 rows × 40 columns</p>\n",
       "</div>"
      ],
      "text/plain": [
       "   id                                            message  \\\n",
       "0   2  Weather update - a cold front from Cuba that c...   \n",
       "1   7            Is the Hurricane over or is it not over   \n",
       "2   8                    Looking for someone but no name   \n",
       "3   9  UN reports Leogane 80-90 destroyed. Only Hospi...   \n",
       "4  12  says: west side of Haiti, rest of the country ...   \n",
       "\n",
       "                                            original   genre  related  \\\n",
       "0  Un front froid se retrouve sur Cuba ce matin. ...  direct        1   \n",
       "1                 Cyclone nan fini osinon li pa fini  direct        1   \n",
       "2  Patnm, di Maryani relem pou li banm nouvel li ...  direct        1   \n",
       "3  UN reports Leogane 80-90 destroyed. Only Hospi...  direct        1   \n",
       "4  facade ouest d Haiti et le reste du pays aujou...  direct        1   \n",
       "\n",
       "   request  offer  aid_related  medical_help  medical_products      ...        \\\n",
       "0        0      0            0             0                 0      ...         \n",
       "1        0      0            1             0                 0      ...         \n",
       "2        0      0            0             0                 0      ...         \n",
       "3        1      0            1             0                 1      ...         \n",
       "4        0      0            0             0                 0      ...         \n",
       "\n",
       "   aid_centers  other_infrastructure  weather_related  floods  storm  fire  \\\n",
       "0            0                     0                0       0      0     0   \n",
       "1            0                     0                1       0      1     0   \n",
       "2            0                     0                0       0      0     0   \n",
       "3            0                     0                0       0      0     0   \n",
       "4            0                     0                0       0      0     0   \n",
       "\n",
       "   earthquake  cold  other_weather  direct_report  \n",
       "0           0     0              0              0  \n",
       "1           0     0              0              0  \n",
       "2           0     0              0              0  \n",
       "3           0     0              0              0  \n",
       "4           0     0              0              0  \n",
       "\n",
       "[5 rows x 40 columns]"
      ]
     },
     "execution_count": 30,
     "metadata": {},
     "output_type": "execute_result"
    }
   ],
   "source": [
    "df.head()"
   ]
  },
  {
   "cell_type": "code",
   "execution_count": 31,
   "metadata": {},
   "outputs": [
    {
     "name": "stdout",
     "output_type": "stream",
     "text": [
      "<class 'pandas.core.frame.DataFrame'>\n",
      "RangeIndex: 26216 entries, 0 to 26215\n",
      "Data columns (total 35 columns):\n",
      "request                   26216 non-null int64\n",
      "offer                     26216 non-null int64\n",
      "aid_related               26216 non-null int64\n",
      "medical_help              26216 non-null int64\n",
      "medical_products          26216 non-null int64\n",
      "search_and_rescue         26216 non-null int64\n",
      "security                  26216 non-null int64\n",
      "military                  26216 non-null int64\n",
      "child_alone               26216 non-null int64\n",
      "water                     26216 non-null int64\n",
      "food                      26216 non-null int64\n",
      "shelter                   26216 non-null int64\n",
      "clothing                  26216 non-null int64\n",
      "money                     26216 non-null int64\n",
      "missing_people            26216 non-null int64\n",
      "refugees                  26216 non-null int64\n",
      "death                     26216 non-null int64\n",
      "other_aid                 26216 non-null int64\n",
      "infrastructure_related    26216 non-null int64\n",
      "transport                 26216 non-null int64\n",
      "buildings                 26216 non-null int64\n",
      "electricity               26216 non-null int64\n",
      "tools                     26216 non-null int64\n",
      "hospitals                 26216 non-null int64\n",
      "shops                     26216 non-null int64\n",
      "aid_centers               26216 non-null int64\n",
      "other_infrastructure      26216 non-null int64\n",
      "weather_related           26216 non-null int64\n",
      "floods                    26216 non-null int64\n",
      "storm                     26216 non-null int64\n",
      "fire                      26216 non-null int64\n",
      "earthquake                26216 non-null int64\n",
      "cold                      26216 non-null int64\n",
      "other_weather             26216 non-null int64\n",
      "direct_report             26216 non-null int64\n",
      "dtypes: int64(35)\n",
      "memory usage: 7.0 MB\n"
     ]
    }
   ],
   "source": [
    "y.info()"
   ]
  },
  {
   "cell_type": "markdown",
   "metadata": {},
   "source": [
    "### 2. Write a tokenization function to process your text data"
   ]
  },
  {
   "cell_type": "code",
   "execution_count": 41,
   "metadata": {},
   "outputs": [],
   "source": [
    "def tokenize(text):\n",
    "    detected_urls = re.findall(url_regex, text)\n",
    "    for url in detected_urls:\n",
    "        text = text.replace(url, \"urlplaceholder\")\n",
    "\n",
    "    tokens = word_tokenize(text)\n",
    "    lemmatizer = WordNetLemmatizer()\n",
    "\n",
    "    clean_tokens = []\n",
    "    for tok in tokens:\n",
    "        clean_tok = lemmatizer.lemmatize(tok).lower().strip()\n",
    "        clean_tokens.append(clean_tok)\n",
    "\n",
    "    return clean_tokens\n"
   ]
  },
  {
   "cell_type": "markdown",
   "metadata": {},
   "source": [
    "### 3. Build a machine learning pipeline\n",
    "This machine pipeline should take in the `message` column as input and output classification results on the other 36 categories in the dataset. You may find the [MultiOutputClassifier](http://scikit-learn.org/stable/modules/generated/sklearn.multioutput.MultiOutputClassifier.html) helpful for predicting multiple target variables."
   ]
  },
  {
   "cell_type": "code",
   "execution_count": 42,
   "metadata": {},
   "outputs": [],
   "source": [
    "#using MultiOutputClassifier to build an ML pipeline\n",
    "pipeline = Pipeline([\n",
    "    ('vect', CountVectorizer(tokenizer = tokenize)),\n",
    "    ('tfidf', TfidfTransformer()),\n",
    "    ('clf', MultiOutputClassifier(RandomForestClassifier()))\n",
    "])\n"
   ]
  },
  {
   "cell_type": "markdown",
   "metadata": {},
   "source": [
    "### 4. Train pipeline\n",
    "- Split data into train and test sets\n",
    "- Train pipeline"
   ]
  },
  {
   "cell_type": "code",
   "execution_count": 47,
   "metadata": {},
   "outputs": [
    {
     "data": {
      "text/plain": [
       "Pipeline(memory=None,\n",
       "     steps=[('vect', CountVectorizer(analyzer='word', binary=False, decode_error='strict',\n",
       "        dtype=<class 'numpy.int64'>, encoding='utf-8', input='content',\n",
       "        lowercase=True, max_df=1.0, max_features=None, min_df=1,\n",
       "        ngram_range=(1, 1), preprocessor=None, stop_words=None,\n",
       "        strip...oob_score=False, random_state=None, verbose=0,\n",
       "            warm_start=False),\n",
       "           n_jobs=1))])"
      ]
     },
     "execution_count": 47,
     "metadata": {},
     "output_type": "execute_result"
    }
   ],
   "source": [
    "X_train, X_test, y_train, y_test = train_test_split(X, y, random_state=42)\n",
    "\n",
    "pipeline.fit(X_train, y_train)"
   ]
  },
  {
   "cell_type": "code",
   "execution_count": 44,
   "metadata": {},
   "outputs": [
    {
     "data": {
      "text/plain": [
       "((5243,), (20973,), (5243, 35), (20973, 35))"
      ]
     },
     "execution_count": 44,
     "metadata": {},
     "output_type": "execute_result"
    }
   ],
   "source": [
    "X_train.shape, X_test.shape, y_train.shape, y_test.shape"
   ]
  },
  {
   "cell_type": "markdown",
   "metadata": {},
   "source": [
    "### 5. Test your model\n",
    "Report the f1 score, precision and recall for each output category of the dataset. You can do this by iterating through the columns and calling sklearn's `classification_report` on each."
   ]
  },
  {
   "cell_type": "code",
   "execution_count": 50,
   "metadata": {},
   "outputs": [
    {
     "name": "stdout",
     "output_type": "stream",
     "text": [
      "                        precision    recall  f1-score   support\n",
      "\n",
      "               request       0.81      0.37      0.51      1111\n",
      "                 offer       0.00      0.00      0.00        33\n",
      "           aid_related       0.74      0.51      0.61      2670\n",
      "          medical_help       0.61      0.07      0.12       535\n",
      "      medical_products       0.79      0.08      0.14       344\n",
      "     search_and_rescue       0.60      0.04      0.07       159\n",
      "              security       0.20      0.01      0.02       116\n",
      "              military       0.50      0.06      0.10       200\n",
      "           child_alone       0.00      0.00      0.00         0\n",
      "                 water       0.83      0.28      0.42       418\n",
      "                  food       0.82      0.27      0.40       745\n",
      "               shelter       0.77      0.16      0.27       581\n",
      "              clothing       0.56      0.05      0.09        98\n",
      "                 money       0.78      0.05      0.10       133\n",
      "        missing_people       0.33      0.01      0.03        73\n",
      "              refugees       0.38      0.03      0.05       215\n",
      "                 death       0.79      0.07      0.14       297\n",
      "             other_aid       0.47      0.02      0.04       864\n",
      "infrastructure_related       0.33      0.00      0.01       411\n",
      "             transport       0.68      0.04      0.08       303\n",
      "             buildings       0.80      0.11      0.19       323\n",
      "           electricity       0.00      0.00      0.00       147\n",
      "                 tools       0.00      0.00      0.00        43\n",
      "             hospitals       0.00      0.00      0.00        56\n",
      "                 shops       0.00      0.00      0.00        24\n",
      "           aid_centers       0.00      0.00      0.00        81\n",
      "  other_infrastructure       0.00      0.00      0.00       283\n",
      "       weather_related       0.84      0.50      0.63      1773\n",
      "                floods       0.84      0.23      0.36       519\n",
      "                 storm       0.77      0.35      0.48       605\n",
      "                  fire       0.50      0.02      0.03        66\n",
      "            earthquake       0.89      0.73      0.81       590\n",
      "                  cold       0.80      0.03      0.05       141\n",
      "         other_weather       0.71      0.07      0.14       335\n",
      "         direct_report       0.78      0.29      0.42      1272\n",
      "\n",
      "           avg / total       0.70      0.28      0.37     15564\n",
      "\n"
     ]
    },
    {
     "name": "stderr",
     "output_type": "stream",
     "text": [
      "/opt/conda/lib/python3.6/site-packages/sklearn/metrics/classification.py:1135: UndefinedMetricWarning: Precision and F-score are ill-defined and being set to 0.0 in labels with no predicted samples.\n",
      "  'precision', 'predicted', average, warn_for)\n",
      "/opt/conda/lib/python3.6/site-packages/sklearn/metrics/classification.py:1137: UndefinedMetricWarning: Recall and F-score are ill-defined and being set to 0.0 in labels with no true samples.\n",
      "  'recall', 'true', average, warn_for)\n"
     ]
    }
   ],
   "source": [
    "y_pred = pipeline.predict(X_test)\n",
    "\n",
    "print(classification_report(y_test, y_pred, target_names = y.columns))"
   ]
  },
  {
   "cell_type": "code",
   "execution_count": 49,
   "metadata": {},
   "outputs": [],
   "source": [
    "# def display_results(cv, y_test, y_pred):\n",
    "#     labels = np.unique(y_pred)\n",
    "#     confusion_mat = confusion_matrix(y_test, y_pred, labels=labels)\n",
    "#     accuracy = (y_pred == y_test).mean()\n",
    "#     cr_y1 = classification_report(y_test[:,0],y_pred[:,0])\n",
    "#      print(\"Labels:\", labels)\n",
    "#     print(\"Confusion Matrix:\\n\", confusion_mat)\n",
    "#     print(\"Accuracy:\", accuracy)\n",
    "#     #print(\"\\nBest Parameters:\", cv.best_params_)\n",
    "#     print(\"f1 score:\", cr_y1)\n"
   ]
  },
  {
   "cell_type": "markdown",
   "metadata": {},
   "source": [
    "### 6. Improve your model\n",
    "Use grid search to find better parameters. "
   ]
  },
  {
   "cell_type": "code",
   "execution_count": 55,
   "metadata": {
    "scrolled": true
   },
   "outputs": [
    {
     "data": {
      "text/plain": [
       "{'memory': None,\n",
       " 'steps': [('vect',\n",
       "   CountVectorizer(analyzer='word', binary=False, decode_error='strict',\n",
       "           dtype=<class 'numpy.int64'>, encoding='utf-8', input='content',\n",
       "           lowercase=True, max_df=1.0, max_features=None, min_df=1,\n",
       "           ngram_range=(1, 1), preprocessor=None, stop_words=None,\n",
       "           strip_accents=None, token_pattern='(?u)\\\\b\\\\w\\\\w+\\\\b',\n",
       "           tokenizer=<function tokenize at 0x7f0f425880d0>, vocabulary=None)),\n",
       "  ('tfidf',\n",
       "   TfidfTransformer(norm='l2', smooth_idf=True, sublinear_tf=False, use_idf=True)),\n",
       "  ('clf',\n",
       "   MultiOutputClassifier(estimator=RandomForestClassifier(bootstrap=True, class_weight=None, criterion='gini',\n",
       "               max_depth=None, max_features='auto', max_leaf_nodes=None,\n",
       "               min_impurity_decrease=0.0, min_impurity_split=None,\n",
       "               min_samples_leaf=1, min_samples_split=2,\n",
       "               min_weight_fraction_leaf=0.0, n_estimators=10, n_jobs=1,\n",
       "               oob_score=False, random_state=None, verbose=0,\n",
       "               warm_start=False),\n",
       "              n_jobs=1))],\n",
       " 'vect': CountVectorizer(analyzer='word', binary=False, decode_error='strict',\n",
       "         dtype=<class 'numpy.int64'>, encoding='utf-8', input='content',\n",
       "         lowercase=True, max_df=1.0, max_features=None, min_df=1,\n",
       "         ngram_range=(1, 1), preprocessor=None, stop_words=None,\n",
       "         strip_accents=None, token_pattern='(?u)\\\\b\\\\w\\\\w+\\\\b',\n",
       "         tokenizer=<function tokenize at 0x7f0f425880d0>, vocabulary=None),\n",
       " 'tfidf': TfidfTransformer(norm='l2', smooth_idf=True, sublinear_tf=False, use_idf=True),\n",
       " 'clf': MultiOutputClassifier(estimator=RandomForestClassifier(bootstrap=True, class_weight=None, criterion='gini',\n",
       "             max_depth=None, max_features='auto', max_leaf_nodes=None,\n",
       "             min_impurity_decrease=0.0, min_impurity_split=None,\n",
       "             min_samples_leaf=1, min_samples_split=2,\n",
       "             min_weight_fraction_leaf=0.0, n_estimators=10, n_jobs=1,\n",
       "             oob_score=False, random_state=None, verbose=0,\n",
       "             warm_start=False),\n",
       "            n_jobs=1),\n",
       " 'vect__analyzer': 'word',\n",
       " 'vect__binary': False,\n",
       " 'vect__decode_error': 'strict',\n",
       " 'vect__dtype': numpy.int64,\n",
       " 'vect__encoding': 'utf-8',\n",
       " 'vect__input': 'content',\n",
       " 'vect__lowercase': True,\n",
       " 'vect__max_df': 1.0,\n",
       " 'vect__max_features': None,\n",
       " 'vect__min_df': 1,\n",
       " 'vect__ngram_range': (1, 1),\n",
       " 'vect__preprocessor': None,\n",
       " 'vect__stop_words': None,\n",
       " 'vect__strip_accents': None,\n",
       " 'vect__token_pattern': '(?u)\\\\b\\\\w\\\\w+\\\\b',\n",
       " 'vect__tokenizer': <function __main__.tokenize(text)>,\n",
       " 'vect__vocabulary': None,\n",
       " 'tfidf__norm': 'l2',\n",
       " 'tfidf__smooth_idf': True,\n",
       " 'tfidf__sublinear_tf': False,\n",
       " 'tfidf__use_idf': True,\n",
       " 'clf__estimator__bootstrap': True,\n",
       " 'clf__estimator__class_weight': None,\n",
       " 'clf__estimator__criterion': 'gini',\n",
       " 'clf__estimator__max_depth': None,\n",
       " 'clf__estimator__max_features': 'auto',\n",
       " 'clf__estimator__max_leaf_nodes': None,\n",
       " 'clf__estimator__min_impurity_decrease': 0.0,\n",
       " 'clf__estimator__min_impurity_split': None,\n",
       " 'clf__estimator__min_samples_leaf': 1,\n",
       " 'clf__estimator__min_samples_split': 2,\n",
       " 'clf__estimator__min_weight_fraction_leaf': 0.0,\n",
       " 'clf__estimator__n_estimators': 10,\n",
       " 'clf__estimator__n_jobs': 1,\n",
       " 'clf__estimator__oob_score': False,\n",
       " 'clf__estimator__random_state': None,\n",
       " 'clf__estimator__verbose': 0,\n",
       " 'clf__estimator__warm_start': False,\n",
       " 'clf__estimator': RandomForestClassifier(bootstrap=True, class_weight=None, criterion='gini',\n",
       "             max_depth=None, max_features='auto', max_leaf_nodes=None,\n",
       "             min_impurity_decrease=0.0, min_impurity_split=None,\n",
       "             min_samples_leaf=1, min_samples_split=2,\n",
       "             min_weight_fraction_leaf=0.0, n_estimators=10, n_jobs=1,\n",
       "             oob_score=False, random_state=None, verbose=0,\n",
       "             warm_start=False),\n",
       " 'clf__n_jobs': 1}"
      ]
     },
     "execution_count": 55,
     "metadata": {},
     "output_type": "execute_result"
    }
   ],
   "source": [
    "pipeline.get_params()"
   ]
  },
  {
   "cell_type": "code",
   "execution_count": 57,
   "metadata": {},
   "outputs": [
    {
     "data": {
      "text/plain": [
       "GridSearchCV(cv=None, error_score='raise',\n",
       "       estimator=Pipeline(memory=None,\n",
       "     steps=[('vect', CountVectorizer(analyzer='word', binary=False, decode_error='strict',\n",
       "        dtype=<class 'numpy.int64'>, encoding='utf-8', input='content',\n",
       "        lowercase=True, max_df=1.0, max_features=None, min_df=1,\n",
       "        ngram_range=(1, 1), preprocessor=None, stop_words=None,\n",
       "        strip...oob_score=False, random_state=None, verbose=0,\n",
       "            warm_start=False),\n",
       "           n_jobs=1))]),\n",
       "       fit_params=None, iid=True, n_jobs=1,\n",
       "       param_grid={'clf__estimator__max_depth': [10, 50, None], 'clf__estimator__min_samples_leaf': [2, 5, 10], 'clf__estimator__min_samples_split': [2, 4]},\n",
       "       pre_dispatch='2*n_jobs', refit=True, return_train_score='warn',\n",
       "       scoring=None, verbose=0)"
      ]
     },
     "execution_count": 57,
     "metadata": {},
     "output_type": "execute_result"
    }
   ],
   "source": [
    "parameters = {'clf__estimator__max_depth': [10, 50, None],\n",
    "              'clf__estimator__min_samples_leaf':[2, 5, 10],\n",
    "             'clf__estimator__min_samples_split': [2, 4],}\n",
    "\n",
    "cv = GridSearchCV(pipeline, parameters)\n",
    "cv"
   ]
  },
  {
   "cell_type": "markdown",
   "metadata": {},
   "source": [
    "### 7. Test your model\n",
    "Show the accuracy, precision, and recall of the tuned model.  \n",
    "\n",
    "Since this project focuses on code quality, process, and  pipelines, there is no minimum performance metric needed to pass. However, make sure to fine tune your models for accuracy, precision and recall to make your project stand out - especially for your portfolio!"
   ]
  },
  {
   "cell_type": "code",
   "execution_count": 60,
   "metadata": {},
   "outputs": [
    {
     "name": "stdout",
     "output_type": "stream",
     "text": [
      "Fitting 3 folds for each of 18 candidates, totalling 54 fits\n",
      "[CV] clf__estimator__max_depth=10, clf__estimator__min_samples_leaf=2, clf__estimator__min_samples_split=2 \n",
      "[CV]  clf__estimator__max_depth=10, clf__estimator__min_samples_leaf=2, clf__estimator__min_samples_split=2, score=0.4189807750991761, total=  13.4s\n",
      "[CV] clf__estimator__max_depth=10, clf__estimator__min_samples_leaf=2, clf__estimator__min_samples_split=2 \n"
     ]
    },
    {
     "name": "stderr",
     "output_type": "stream",
     "text": [
      "[Parallel(n_jobs=1)]: Done   1 out of   1 | elapsed:   20.9s remaining:    0.0s\n"
     ]
    },
    {
     "name": "stdout",
     "output_type": "stream",
     "text": [
      "[CV]  clf__estimator__max_depth=10, clf__estimator__min_samples_leaf=2, clf__estimator__min_samples_split=2, score=0.41684467500762895, total=  13.3s\n",
      "[CV] clf__estimator__max_depth=10, clf__estimator__min_samples_leaf=2, clf__estimator__min_samples_split=2 \n"
     ]
    },
    {
     "name": "stderr",
     "output_type": "stream",
     "text": [
      "[Parallel(n_jobs=1)]: Done   2 out of   2 | elapsed:   41.9s remaining:    0.0s\n"
     ]
    },
    {
     "name": "stdout",
     "output_type": "stream",
     "text": [
      "[CV]  clf__estimator__max_depth=10, clf__estimator__min_samples_leaf=2, clf__estimator__min_samples_split=2, score=0.4284406469331706, total=  13.4s\n",
      "[CV] clf__estimator__max_depth=10, clf__estimator__min_samples_leaf=2, clf__estimator__min_samples_split=4 \n"
     ]
    },
    {
     "name": "stderr",
     "output_type": "stream",
     "text": [
      "[Parallel(n_jobs=1)]: Done   3 out of   3 | elapsed:  1.1min remaining:    0.0s\n"
     ]
    },
    {
     "name": "stdout",
     "output_type": "stream",
     "text": [
      "[CV]  clf__estimator__max_depth=10, clf__estimator__min_samples_leaf=2, clf__estimator__min_samples_split=4, score=0.4231003967043027, total=  13.3s\n",
      "[CV] clf__estimator__max_depth=10, clf__estimator__min_samples_leaf=2, clf__estimator__min_samples_split=4 \n"
     ]
    },
    {
     "name": "stderr",
     "output_type": "stream",
     "text": [
      "[Parallel(n_jobs=1)]: Done   4 out of   4 | elapsed:  1.4min remaining:    0.0s\n"
     ]
    },
    {
     "name": "stdout",
     "output_type": "stream",
     "text": [
      "[CV]  clf__estimator__max_depth=10, clf__estimator__min_samples_leaf=2, clf__estimator__min_samples_split=4, score=0.42126945376869085, total=  13.4s\n",
      "[CV] clf__estimator__max_depth=10, clf__estimator__min_samples_leaf=2, clf__estimator__min_samples_split=4 \n"
     ]
    },
    {
     "name": "stderr",
     "output_type": "stream",
     "text": [
      "[Parallel(n_jobs=1)]: Done   5 out of   5 | elapsed:  1.7min remaining:    0.0s\n"
     ]
    },
    {
     "name": "stdout",
     "output_type": "stream",
     "text": [
      "[CV]  clf__estimator__max_depth=10, clf__estimator__min_samples_leaf=2, clf__estimator__min_samples_split=4, score=0.4290509612450412, total=  13.6s\n",
      "[CV] clf__estimator__max_depth=10, clf__estimator__min_samples_leaf=5, clf__estimator__min_samples_split=2 \n"
     ]
    },
    {
     "name": "stderr",
     "output_type": "stream",
     "text": [
      "[Parallel(n_jobs=1)]: Done   6 out of   6 | elapsed:  2.1min remaining:    0.0s\n"
     ]
    },
    {
     "name": "stdout",
     "output_type": "stream",
     "text": [
      "[CV]  clf__estimator__max_depth=10, clf__estimator__min_samples_leaf=5, clf__estimator__min_samples_split=2, score=0.42554165395178517, total=  14.7s\n",
      "[CV] clf__estimator__max_depth=10, clf__estimator__min_samples_leaf=5, clf__estimator__min_samples_split=2 \n"
     ]
    },
    {
     "name": "stderr",
     "output_type": "stream",
     "text": [
      "[Parallel(n_jobs=1)]: Done   7 out of   7 | elapsed:  2.5min remaining:    0.0s\n"
     ]
    },
    {
     "name": "stdout",
     "output_type": "stream",
     "text": [
      "[CV]  clf__estimator__max_depth=10, clf__estimator__min_samples_leaf=5, clf__estimator__min_samples_split=2, score=0.4153188892279524, total=  14.5s\n",
      "[CV] clf__estimator__max_depth=10, clf__estimator__min_samples_leaf=5, clf__estimator__min_samples_split=2 \n"
     ]
    },
    {
     "name": "stderr",
     "output_type": "stream",
     "text": [
      "[Parallel(n_jobs=1)]: Done   8 out of   8 | elapsed:  2.9min remaining:    0.0s\n"
     ]
    },
    {
     "name": "stdout",
     "output_type": "stream",
     "text": [
      "[CV]  clf__estimator__max_depth=10, clf__estimator__min_samples_leaf=5, clf__estimator__min_samples_split=2, score=0.4250839182178822, total=  14.4s\n",
      "[CV] clf__estimator__max_depth=10, clf__estimator__min_samples_leaf=5, clf__estimator__min_samples_split=4 \n"
     ]
    },
    {
     "name": "stderr",
     "output_type": "stream",
     "text": [
      "[Parallel(n_jobs=1)]: Done   9 out of   9 | elapsed:  3.2min remaining:    0.0s\n"
     ]
    },
    {
     "name": "stdout",
     "output_type": "stream",
     "text": [
      "[CV]  clf__estimator__max_depth=10, clf__estimator__min_samples_leaf=5, clf__estimator__min_samples_split=4, score=0.42340555386023804, total=  14.6s\n",
      "[CV] clf__estimator__max_depth=10, clf__estimator__min_samples_leaf=5, clf__estimator__min_samples_split=4 \n",
      "[CV]  clf__estimator__max_depth=10, clf__estimator__min_samples_leaf=5, clf__estimator__min_samples_split=4, score=0.41959108941104667, total=  13.7s\n",
      "[CV] clf__estimator__max_depth=10, clf__estimator__min_samples_leaf=5, clf__estimator__min_samples_split=4 \n",
      "[CV]  clf__estimator__max_depth=10, clf__estimator__min_samples_leaf=5, clf__estimator__min_samples_split=4, score=0.4270674397314617, total=  13.2s\n",
      "[CV] clf__estimator__max_depth=10, clf__estimator__min_samples_leaf=10, clf__estimator__min_samples_split=2 \n",
      "[CV]  clf__estimator__max_depth=10, clf__estimator__min_samples_leaf=10, clf__estimator__min_samples_split=2, score=0.42340555386023804, total=  13.4s\n",
      "[CV] clf__estimator__max_depth=10, clf__estimator__min_samples_leaf=10, clf__estimator__min_samples_split=2 \n",
      "[CV]  clf__estimator__max_depth=10, clf__estimator__min_samples_leaf=10, clf__estimator__min_samples_split=2, score=0.42142203234665854, total=  14.4s\n",
      "[CV] clf__estimator__max_depth=10, clf__estimator__min_samples_leaf=10, clf__estimator__min_samples_split=2 \n",
      "[CV]  clf__estimator__max_depth=10, clf__estimator__min_samples_leaf=10, clf__estimator__min_samples_split=2, score=0.4285932255111382, total=  14.8s\n",
      "[CV] clf__estimator__max_depth=10, clf__estimator__min_samples_leaf=10, clf__estimator__min_samples_split=4 \n",
      "[CV]  clf__estimator__max_depth=10, clf__estimator__min_samples_leaf=10, clf__estimator__min_samples_split=4, score=0.4259993896856881, total=  14.4s\n",
      "[CV] clf__estimator__max_depth=10, clf__estimator__min_samples_leaf=10, clf__estimator__min_samples_split=4 \n",
      "[CV]  clf__estimator__max_depth=10, clf__estimator__min_samples_leaf=10, clf__estimator__min_samples_split=4, score=0.4227952395483674, total=  14.4s\n",
      "[CV] clf__estimator__max_depth=10, clf__estimator__min_samples_leaf=10, clf__estimator__min_samples_split=4 \n",
      "[CV]  clf__estimator__max_depth=10, clf__estimator__min_samples_leaf=10, clf__estimator__min_samples_split=4, score=0.427372596887397, total=  14.5s\n",
      "[CV] clf__estimator__max_depth=50, clf__estimator__min_samples_leaf=2, clf__estimator__min_samples_split=2 \n",
      "[CV]  clf__estimator__max_depth=50, clf__estimator__min_samples_leaf=2, clf__estimator__min_samples_split=2, score=0.3844980164784864, total=  21.0s\n",
      "[CV] clf__estimator__max_depth=50, clf__estimator__min_samples_leaf=2, clf__estimator__min_samples_split=2 \n",
      "[CV]  clf__estimator__max_depth=50, clf__estimator__min_samples_leaf=2, clf__estimator__min_samples_split=2, score=0.3870918523039365, total=  21.1s\n",
      "[CV] clf__estimator__max_depth=50, clf__estimator__min_samples_leaf=2, clf__estimator__min_samples_split=2 \n",
      "[CV]  clf__estimator__max_depth=50, clf__estimator__min_samples_leaf=2, clf__estimator__min_samples_split=2, score=0.38571864510222764, total=  20.6s\n",
      "[CV] clf__estimator__max_depth=50, clf__estimator__min_samples_leaf=2, clf__estimator__min_samples_split=4 \n",
      "[CV]  clf__estimator__max_depth=50, clf__estimator__min_samples_leaf=2, clf__estimator__min_samples_split=4, score=0.39029600244125723, total=  20.7s\n",
      "[CV] clf__estimator__max_depth=50, clf__estimator__min_samples_leaf=2, clf__estimator__min_samples_split=4 \n",
      "[CV]  clf__estimator__max_depth=50, clf__estimator__min_samples_leaf=2, clf__estimator__min_samples_split=4, score=0.39090631675312787, total=  20.7s\n",
      "[CV] clf__estimator__max_depth=50, clf__estimator__min_samples_leaf=2, clf__estimator__min_samples_split=4 \n",
      "[CV]  clf__estimator__max_depth=50, clf__estimator__min_samples_leaf=2, clf__estimator__min_samples_split=4, score=0.38861763808361305, total=  21.0s\n",
      "[CV] clf__estimator__max_depth=50, clf__estimator__min_samples_leaf=5, clf__estimator__min_samples_split=2 \n",
      "[CV]  clf__estimator__max_depth=50, clf__estimator__min_samples_leaf=5, clf__estimator__min_samples_split=2, score=0.39319499542264263, total=  19.8s\n",
      "[CV] clf__estimator__max_depth=50, clf__estimator__min_samples_leaf=5, clf__estimator__min_samples_split=2 \n",
      "[CV]  clf__estimator__max_depth=50, clf__estimator__min_samples_leaf=5, clf__estimator__min_samples_split=2, score=0.3864815379920659, total=  19.9s\n",
      "[CV] clf__estimator__max_depth=50, clf__estimator__min_samples_leaf=5, clf__estimator__min_samples_split=2 \n",
      "[CV]  clf__estimator__max_depth=50, clf__estimator__min_samples_leaf=5, clf__estimator__min_samples_split=2, score=0.3843454379005188, total=  19.8s\n",
      "[CV] clf__estimator__max_depth=50, clf__estimator__min_samples_leaf=5, clf__estimator__min_samples_split=4 \n",
      "[CV]  clf__estimator__max_depth=50, clf__estimator__min_samples_leaf=5, clf__estimator__min_samples_split=4, score=0.3912114739090632, total=  20.0s\n",
      "[CV] clf__estimator__max_depth=50, clf__estimator__min_samples_leaf=5, clf__estimator__min_samples_split=4 \n",
      "[CV]  clf__estimator__max_depth=50, clf__estimator__min_samples_leaf=5, clf__estimator__min_samples_split=4, score=0.38770216661580714, total=  20.0s\n",
      "[CV] clf__estimator__max_depth=50, clf__estimator__min_samples_leaf=5, clf__estimator__min_samples_split=4 \n",
      "[CV]  clf__estimator__max_depth=50, clf__estimator__min_samples_leaf=5, clf__estimator__min_samples_split=4, score=0.3938053097345133, total=  20.0s\n",
      "[CV] clf__estimator__max_depth=50, clf__estimator__min_samples_leaf=10, clf__estimator__min_samples_split=2 \n",
      "[CV]  clf__estimator__max_depth=50, clf__estimator__min_samples_leaf=10, clf__estimator__min_samples_split=2, score=0.39746719560573696, total=  19.4s\n",
      "[CV] clf__estimator__max_depth=50, clf__estimator__min_samples_leaf=10, clf__estimator__min_samples_split=2 \n",
      "[CV]  clf__estimator__max_depth=50, clf__estimator__min_samples_leaf=10, clf__estimator__min_samples_split=2, score=0.3803783948733598, total=  19.2s\n",
      "[CV] clf__estimator__max_depth=50, clf__estimator__min_samples_leaf=10, clf__estimator__min_samples_split=2 \n",
      "[CV]  clf__estimator__max_depth=50, clf__estimator__min_samples_leaf=10, clf__estimator__min_samples_split=2, score=0.3901434238632896, total=  19.0s\n",
      "[CV] clf__estimator__max_depth=50, clf__estimator__min_samples_leaf=10, clf__estimator__min_samples_split=4 \n",
      "[CV]  clf__estimator__max_depth=50, clf__estimator__min_samples_leaf=10, clf__estimator__min_samples_split=4, score=0.39350015257857796, total=  19.1s\n",
      "[CV] clf__estimator__max_depth=50, clf__estimator__min_samples_leaf=10, clf__estimator__min_samples_split=4 \n",
      "[CV]  clf__estimator__max_depth=50, clf__estimator__min_samples_leaf=10, clf__estimator__min_samples_split=4, score=0.3904485810192249, total=  18.8s\n",
      "[CV] clf__estimator__max_depth=50, clf__estimator__min_samples_leaf=10, clf__estimator__min_samples_split=4 \n",
      "[CV]  clf__estimator__max_depth=50, clf__estimator__min_samples_leaf=10, clf__estimator__min_samples_split=4, score=0.3968568812938663, total=  19.3s\n",
      "[CV] clf__estimator__max_depth=None, clf__estimator__min_samples_leaf=2, clf__estimator__min_samples_split=2 \n",
      "[CV]  clf__estimator__max_depth=None, clf__estimator__min_samples_leaf=2, clf__estimator__min_samples_split=2, score=0.37427525175465365, total=  32.1s\n",
      "[CV] clf__estimator__max_depth=None, clf__estimator__min_samples_leaf=2, clf__estimator__min_samples_split=2 \n",
      "[CV]  clf__estimator__max_depth=None, clf__estimator__min_samples_leaf=2, clf__estimator__min_samples_split=2, score=0.3671040585901739, total=  32.8s\n",
      "[CV] clf__estimator__max_depth=None, clf__estimator__min_samples_leaf=2, clf__estimator__min_samples_split=2 \n",
      "[CV]  clf__estimator__max_depth=None, clf__estimator__min_samples_leaf=2, clf__estimator__min_samples_split=2, score=0.36862984436985047, total=  32.1s\n",
      "[CV] clf__estimator__max_depth=None, clf__estimator__min_samples_leaf=2, clf__estimator__min_samples_split=4 \n",
      "[CV]  clf__estimator__max_depth=None, clf__estimator__min_samples_leaf=2, clf__estimator__min_samples_split=4, score=0.36283185840707965, total=  32.6s\n",
      "[CV] clf__estimator__max_depth=None, clf__estimator__min_samples_leaf=2, clf__estimator__min_samples_split=4 \n",
      "[CV]  clf__estimator__max_depth=None, clf__estimator__min_samples_leaf=2, clf__estimator__min_samples_split=4, score=0.3642050656087885, total=  31.9s\n",
      "[CV] clf__estimator__max_depth=None, clf__estimator__min_samples_leaf=2, clf__estimator__min_samples_split=4 \n",
      "[CV]  clf__estimator__max_depth=None, clf__estimator__min_samples_leaf=2, clf__estimator__min_samples_split=4, score=0.3698504729935917, total=  32.5s\n",
      "[CV] clf__estimator__max_depth=None, clf__estimator__min_samples_leaf=5, clf__estimator__min_samples_split=2 \n",
      "[CV]  clf__estimator__max_depth=None, clf__estimator__min_samples_leaf=5, clf__estimator__min_samples_split=2, score=0.37656393042416847, total=  25.2s\n",
      "[CV] clf__estimator__max_depth=None, clf__estimator__min_samples_leaf=5, clf__estimator__min_samples_split=2 \n",
      "[CV]  clf__estimator__max_depth=None, clf__estimator__min_samples_leaf=5, clf__estimator__min_samples_split=2, score=0.3675617943240769, total=  25.5s\n",
      "[CV] clf__estimator__max_depth=None, clf__estimator__min_samples_leaf=5, clf__estimator__min_samples_split=2 \n",
      "[CV]  clf__estimator__max_depth=None, clf__estimator__min_samples_leaf=5, clf__estimator__min_samples_split=2, score=0.36740921574610924, total=  25.2s\n",
      "[CV] clf__estimator__max_depth=None, clf__estimator__min_samples_leaf=5, clf__estimator__min_samples_split=4 \n",
      "[CV]  clf__estimator__max_depth=None, clf__estimator__min_samples_leaf=5, clf__estimator__min_samples_split=4, score=0.37397009459871833, total=  24.9s\n",
      "[CV] clf__estimator__max_depth=None, clf__estimator__min_samples_leaf=5, clf__estimator__min_samples_split=4 \n",
      "[CV]  clf__estimator__max_depth=None, clf__estimator__min_samples_leaf=5, clf__estimator__min_samples_split=4, score=0.3796155019835215, total=  25.6s\n",
      "[CV] clf__estimator__max_depth=None, clf__estimator__min_samples_leaf=5, clf__estimator__min_samples_split=4 \n",
      "[CV]  clf__estimator__max_depth=None, clf__estimator__min_samples_leaf=5, clf__estimator__min_samples_split=4, score=0.37488556606652423, total=  25.3s\n",
      "[CV] clf__estimator__max_depth=None, clf__estimator__min_samples_leaf=10, clf__estimator__min_samples_split=2 \n",
      "[CV]  clf__estimator__max_depth=None, clf__estimator__min_samples_leaf=10, clf__estimator__min_samples_split=2, score=0.3893805309734513, total=  22.2s\n",
      "[CV] clf__estimator__max_depth=None, clf__estimator__min_samples_leaf=10, clf__estimator__min_samples_split=2 \n",
      "[CV]  clf__estimator__max_depth=None, clf__estimator__min_samples_leaf=10, clf__estimator__min_samples_split=2, score=0.38175160207506864, total=  21.0s\n",
      "[CV] clf__estimator__max_depth=None, clf__estimator__min_samples_leaf=10, clf__estimator__min_samples_split=2 \n",
      "[CV]  clf__estimator__max_depth=None, clf__estimator__min_samples_leaf=10, clf__estimator__min_samples_split=2, score=0.3834299664327128, total=  21.2s\n",
      "[CV] clf__estimator__max_depth=None, clf__estimator__min_samples_leaf=10, clf__estimator__min_samples_split=4 \n",
      "[CV]  clf__estimator__max_depth=None, clf__estimator__min_samples_leaf=10, clf__estimator__min_samples_split=4, score=0.3904485810192249, total=  21.2s\n",
      "[CV] clf__estimator__max_depth=None, clf__estimator__min_samples_leaf=10, clf__estimator__min_samples_split=4 \n",
      "[CV]  clf__estimator__max_depth=None, clf__estimator__min_samples_leaf=10, clf__estimator__min_samples_split=4, score=0.38602380225816296, total=  21.2s\n",
      "[CV] clf__estimator__max_depth=None, clf__estimator__min_samples_leaf=10, clf__estimator__min_samples_split=4 \n",
      "[CV]  clf__estimator__max_depth=None, clf__estimator__min_samples_leaf=10, clf__estimator__min_samples_split=4, score=0.3805309734513274, total=  21.4s\n"
     ]
    },
    {
     "name": "stderr",
     "output_type": "stream",
     "text": [
      "[Parallel(n_jobs=1)]: Done  54 out of  54 | elapsed: 26.1min finished\n"
     ]
    }
   ],
   "source": [
    "cv = GridSearchCV(pipeline, param_grid = parameters,verbose = 10)\n",
    "np.random.seed(42)\n",
    "y_pred2 = cv.fit(X_train, y_train)"
   ]
  },
  {
   "cell_type": "code",
   "execution_count": 62,
   "metadata": {
    "scrolled": true
   },
   "outputs": [
    {
     "name": "stdout",
     "output_type": "stream",
     "text": [
      "                        precision    recall  f1-score   support\n",
      "\n",
      "               request       1.00      0.00      0.00      1111\n",
      "                 offer       0.00      0.00      0.00        33\n",
      "           aid_related       0.88      0.12      0.22      2670\n",
      "          medical_help       0.00      0.00      0.00       535\n",
      "      medical_products       0.00      0.00      0.00       344\n",
      "     search_and_rescue       0.00      0.00      0.00       159\n",
      "              security       0.00      0.00      0.00       116\n",
      "              military       0.00      0.00      0.00       200\n",
      "           child_alone       0.00      0.00      0.00         0\n",
      "                 water       0.00      0.00      0.00       418\n",
      "                  food       0.00      0.00      0.00       745\n",
      "               shelter       0.00      0.00      0.00       581\n",
      "              clothing       0.00      0.00      0.00        98\n",
      "                 money       0.00      0.00      0.00       133\n",
      "        missing_people       0.00      0.00      0.00        73\n",
      "              refugees       0.00      0.00      0.00       215\n",
      "                 death       0.00      0.00      0.00       297\n",
      "             other_aid       0.00      0.00      0.00       864\n",
      "infrastructure_related       0.00      0.00      0.00       411\n",
      "             transport       0.00      0.00      0.00       303\n",
      "             buildings       0.00      0.00      0.00       323\n",
      "           electricity       0.00      0.00      0.00       147\n",
      "                 tools       0.00      0.00      0.00        43\n",
      "             hospitals       0.00      0.00      0.00        56\n",
      "                 shops       0.00      0.00      0.00        24\n",
      "           aid_centers       0.00      0.00      0.00        81\n",
      "  other_infrastructure       0.00      0.00      0.00       283\n",
      "       weather_related       0.95      0.03      0.06      1773\n",
      "                floods       1.00      0.00      0.00       519\n",
      "                 storm       0.00      0.00      0.00       605\n",
      "                  fire       0.00      0.00      0.00        66\n",
      "            earthquake       0.00      0.00      0.00       590\n",
      "                  cold       0.00      0.00      0.00       141\n",
      "         other_weather       0.00      0.00      0.00       335\n",
      "         direct_report       0.00      0.00      0.00      1272\n",
      "\n",
      "           avg / total       0.36      0.02      0.04     15564\n",
      "\n"
     ]
    },
    {
     "name": "stderr",
     "output_type": "stream",
     "text": [
      "/opt/conda/lib/python3.6/site-packages/sklearn/metrics/classification.py:1135: UndefinedMetricWarning: Precision and F-score are ill-defined and being set to 0.0 in labels with no predicted samples.\n",
      "  'precision', 'predicted', average, warn_for)\n",
      "/opt/conda/lib/python3.6/site-packages/sklearn/metrics/classification.py:1137: UndefinedMetricWarning: Recall and F-score are ill-defined and being set to 0.0 in labels with no true samples.\n",
      "  'recall', 'true', average, warn_for)\n"
     ]
    }
   ],
   "source": [
    "prediction2 = y_pred2.predict(X_test)\n",
    "\n",
    "print(classification_report(y_test, prediction2 , target_names = y.columns))"
   ]
  },
  {
   "cell_type": "markdown",
   "metadata": {},
   "source": [
    "### 8. Try improving your model further. Here are a few ideas:\n",
    "* try other machine learning algorithms\n",
    "* add other features besides the TF-IDF"
   ]
  },
  {
   "cell_type": "code",
   "execution_count": 63,
   "metadata": {},
   "outputs": [],
   "source": [
    "pipeline2 = Pipeline([\n",
    "        ('features', FeatureUnion([\n",
    "\n",
    "            ('text_pipeline', Pipeline([\n",
    "                ('count_vectorizer', CountVectorizer(tokenizer=tokenize)),\n",
    "                ('tfidf_transformer', TfidfTransformer())\n",
    "            ])),\n",
    "       ])),\n",
    "\n",
    "        ('classifier', MultiOutputClassifier(AdaBoostClassifier()))\n",
    "    ])"
   ]
  },
  {
   "cell_type": "code",
   "execution_count": 64,
   "metadata": {},
   "outputs": [
    {
     "data": {
      "text/plain": [
       "Pipeline(memory=None,\n",
       "     steps=[('features', FeatureUnion(n_jobs=1,\n",
       "       transformer_list=[('text_pipeline', Pipeline(memory=None,\n",
       "     steps=[('count_vectorizer', CountVectorizer(analyzer='word', binary=False, decode_error='strict',\n",
       "        dtype=<class 'numpy.int64'>, encoding='utf-8', input='content',\n",
       "        lowercase...mator=None,\n",
       "          learning_rate=1.0, n_estimators=50, random_state=None),\n",
       "           n_jobs=1))])"
      ]
     },
     "execution_count": 64,
     "metadata": {},
     "output_type": "execute_result"
    }
   ],
   "source": [
    "X_train, X_test, y_train, y_test = train_test_split(X, y, random_state=42)\n",
    "\n",
    "pipeline2.fit(X_train, y_train)"
   ]
  },
  {
   "cell_type": "code",
   "execution_count": 65,
   "metadata": {},
   "outputs": [
    {
     "name": "stdout",
     "output_type": "stream",
     "text": [
      "                        precision    recall  f1-score   support\n",
      "\n",
      "               request       0.77      0.55      0.64      1111\n",
      "                 offer       0.00      0.00      0.00        33\n",
      "           aid_related       0.75      0.59      0.66      2670\n",
      "          medical_help       0.57      0.25      0.35       535\n",
      "      medical_products       0.65      0.35      0.45       344\n",
      "     search_and_rescue       0.51      0.15      0.23       159\n",
      "              security       0.14      0.03      0.04       116\n",
      "              military       0.56      0.27      0.36       200\n",
      "           child_alone       0.00      0.00      0.00         0\n",
      "                 water       0.72      0.61      0.66       418\n",
      "                  food       0.81      0.68      0.74       745\n",
      "               shelter       0.77      0.58      0.66       581\n",
      "              clothing       0.68      0.43      0.53        98\n",
      "                 money       0.46      0.28      0.35       133\n",
      "        missing_people       0.73      0.15      0.25        73\n",
      "              refugees       0.56      0.29      0.38       215\n",
      "                 death       0.79      0.40      0.53       297\n",
      "             other_aid       0.54      0.16      0.25       864\n",
      "infrastructure_related       0.40      0.08      0.14       411\n",
      "             transport       0.69      0.20      0.31       303\n",
      "             buildings       0.68      0.38      0.49       323\n",
      "           electricity       0.64      0.24      0.35       147\n",
      "                 tools       0.18      0.05      0.07        43\n",
      "             hospitals       0.35      0.14      0.20        56\n",
      "                 shops       0.00      0.00      0.00        24\n",
      "           aid_centers       0.17      0.04      0.06        81\n",
      "  other_infrastructure       0.37      0.08      0.13       283\n",
      "       weather_related       0.85      0.65      0.74      1773\n",
      "                floods       0.86      0.57      0.68       519\n",
      "                 storm       0.74      0.47      0.58       605\n",
      "                  fire       0.54      0.20      0.29        66\n",
      "            earthquake       0.87      0.75      0.81       590\n",
      "                  cold       0.77      0.35      0.48       141\n",
      "         other_weather       0.48      0.18      0.26       335\n",
      "         direct_report       0.72      0.46      0.56      1272\n",
      "\n",
      "           avg / total       0.70      0.46      0.55     15564\n",
      "\n"
     ]
    },
    {
     "name": "stderr",
     "output_type": "stream",
     "text": [
      "/opt/conda/lib/python3.6/site-packages/sklearn/metrics/classification.py:1135: UndefinedMetricWarning: Precision and F-score are ill-defined and being set to 0.0 in labels with no predicted samples.\n",
      "  'precision', 'predicted', average, warn_for)\n",
      "/opt/conda/lib/python3.6/site-packages/sklearn/metrics/classification.py:1137: UndefinedMetricWarning: Recall and F-score are ill-defined and being set to 0.0 in labels with no true samples.\n",
      "  'recall', 'true', average, warn_for)\n"
     ]
    }
   ],
   "source": [
    "y_pred3 = pipeline2.predict(X_test)\n",
    "\n",
    "print(classification_report(y_test, y_pred3, target_names = y.columns))"
   ]
  },
  {
   "cell_type": "markdown",
   "metadata": {},
   "source": [
    "### 9. Export your model as a pickle file"
   ]
  },
  {
   "cell_type": "code",
   "execution_count": 3,
   "metadata": {},
   "outputs": [],
   "source": [
    "# Pickle best model\n",
    "pickle.dump(y_pred2, open('disaster_model.sav', 'wb'))"
   ]
  },
  {
   "cell_type": "markdown",
   "metadata": {},
   "source": [
    "### 10. Use this notebook to complete `train.py`\n",
    "Use the template file attached in the Resources folder to write a script that runs the steps above to create a database and export a model based on a new dataset specified by the user."
   ]
  },
  {
   "cell_type": "code",
   "execution_count": 4,
   "metadata": {},
   "outputs": [
    {
     "data": {
      "text/plain": [
       "b'\\x80\\x03X\\x0e\\x00\\x00\\x00classifier.pklq\\x00.'"
      ]
     },
     "execution_count": 4,
     "metadata": {},
     "output_type": "execute_result"
    }
   ],
   "source": []
  },
  {
   "cell_type": "code",
   "execution_count": null,
   "metadata": {},
   "outputs": [],
   "source": []
  }
 ],
 "metadata": {
  "kernelspec": {
   "display_name": "Python 3",
   "language": "python",
   "name": "python3"
  },
  "language_info": {
   "codemirror_mode": {
    "name": "ipython",
    "version": 3
   },
   "file_extension": ".py",
   "mimetype": "text/x-python",
   "name": "python",
   "nbconvert_exporter": "python",
   "pygments_lexer": "ipython3",
   "version": "3.6.3"
  }
 },
 "nbformat": 4,
 "nbformat_minor": 2
}
